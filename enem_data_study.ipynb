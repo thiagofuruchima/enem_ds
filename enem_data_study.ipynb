{
  "nbformat": 4,
  "nbformat_minor": 0,
  "metadata": {
    "colab": {
      "name": "enem - inferencial statistics.ipynb",
      "provenance": [],
      "toc_visible": true,
      "mount_file_id": "1zB_TtAfy5CGCFdVgPG0btlSSb52W3KmT",
      "authorship_tag": "ABX9TyPWX9FYM+ozPMaM5w5w5nQz",
      "include_colab_link": true
    },
    "kernelspec": {
      "name": "python3",
      "display_name": "Python 3"
    }
  },
  "cells": [
    {
      "cell_type": "markdown",
      "metadata": {
        "id": "view-in-github",
        "colab_type": "text"
      },
      "source": [
        "<a href=\"https://colab.research.google.com/github/thiagofuruchima/enem_ds/blob/main/enem_data_study.ipynb\" target=\"_parent\"><img src=\"https://colab.research.google.com/assets/colab-badge.svg\" alt=\"Open In Colab\"/></a>"
      ]
    },
    {
      "cell_type": "markdown",
      "metadata": {
        "id": "ajfvBRx00oW6"
      },
      "source": [
        "#ENEM - Data Study\r\n",
        "\r\n",
        "A statistical inference study about brazilian high school students using 2019 ENEM dataset."
      ]
    },
    {
      "cell_type": "markdown",
      "metadata": {
        "id": "eJw7MuQyZEUI"
      },
      "source": [
        "##1. Problem Understanding"
      ]
    },
    {
      "cell_type": "markdown",
      "metadata": {
        "id": "-pf2gT49bf4a"
      },
      "source": [
        "We're going to use a random sample of the ENEM data (Brazil's SAT like exam) to answer the following questions regarding brazilian high school students.\r\n",
        "\r\n",
        "1 - Do brazilian students declared themselves as white skinned have higher average scores than those self declared as brown skinned?\r\n",
        "\r\n",
        "2 - Do brazilian students declared themselves as brown skinned have higher average scores than those self declared as black?\r\n",
        "\r\n",
        "3 - Do brazilian female students have higher essay average scores than male students? \r\n",
        "\r\n",
        "4 - Do brazilian students who chose 'english' as a foreign language have higher average scores than those who chose 'spanish'?"
      ]
    },
    {
      "cell_type": "markdown",
      "metadata": {
        "id": "hgx1IyYAiLfc"
      },
      "source": [
        "## 2. Data Understanding and Preparation"
      ]
    },
    {
      "cell_type": "markdown",
      "metadata": {
        "id": "a7cCZpN7iYzs"
      },
      "source": [
        "We're using a 0.1% random sample of the whole ENEM exam dataset. The whole dataset can be accessed in [Dados Abertos INEP](https://www.gov.br/inep/pt-br/acesso-a-informacao/dados-abertos).\r\n",
        "\r\n",
        "First, let's load the dataset and take a look at the data."
      ]
    },
    {
      "cell_type": "code",
      "metadata": {
        "id": "TrlMOYouaQUf"
      },
      "source": [
        "# laod the libraries\r\n",
        "import pandas as pd\r\n",
        "import matplotlib.pyplot as plt\r\n",
        "import numpy as np\r\n",
        "import seaborn as sns\r\n",
        "from scipy import stats\r\n",
        "# from statsmodels import stats"
      ],
      "execution_count": 1,
      "outputs": []
    },
    {
      "cell_type": "code",
      "metadata": {
        "id": "54D2S5zAaH0f"
      },
      "source": [
        "# read the sample dataset\r\n",
        "df = pd.read_csv(\"https://github.com/thiagofuruchima/enem_ds/raw/main/data/enem_random_sample_01_percent.csv\")"
      ],
      "execution_count": 2,
      "outputs": []
    },
    {
      "cell_type": "code",
      "metadata": {
        "colab": {
          "base_uri": "https://localhost:8080/"
        },
        "id": "-CTKUdXZjqO4",
        "outputId": "22a12e68-0040-438d-ecd2-0f36e9459474"
      },
      "source": [
        "# check the row/column count\r\n",
        "df.shape"
      ],
      "execution_count": 3,
      "outputs": [
        {
          "output_type": "execute_result",
          "data": {
            "text/plain": [
              "(5095, 136)"
            ]
          },
          "metadata": {
            "tags": []
          },
          "execution_count": 3
        }
      ]
    },
    {
      "cell_type": "code",
      "metadata": {
        "colab": {
          "base_uri": "https://localhost:8080/",
          "height": 248
        },
        "id": "u4J7plDAaUhb",
        "outputId": "e370a998-540c-49a1-b244-8fb8898ca81f"
      },
      "source": [
        "# check the first 5 rows\r\n",
        "df.head()"
      ],
      "execution_count": 4,
      "outputs": [
        {
          "output_type": "execute_result",
          "data": {
            "text/html": [
              "<div>\n",
              "<style scoped>\n",
              "    .dataframe tbody tr th:only-of-type {\n",
              "        vertical-align: middle;\n",
              "    }\n",
              "\n",
              "    .dataframe tbody tr th {\n",
              "        vertical-align: top;\n",
              "    }\n",
              "\n",
              "    .dataframe thead th {\n",
              "        text-align: right;\n",
              "    }\n",
              "</style>\n",
              "<table border=\"1\" class=\"dataframe\">\n",
              "  <thead>\n",
              "    <tr style=\"text-align: right;\">\n",
              "      <th></th>\n",
              "      <th>NU_INSCRICAO</th>\n",
              "      <th>NU_ANO</th>\n",
              "      <th>CO_MUNICIPIO_RESIDENCIA</th>\n",
              "      <th>NO_MUNICIPIO_RESIDENCIA</th>\n",
              "      <th>CO_UF_RESIDENCIA</th>\n",
              "      <th>SG_UF_RESIDENCIA</th>\n",
              "      <th>NU_IDADE</th>\n",
              "      <th>TP_SEXO</th>\n",
              "      <th>TP_ESTADO_CIVIL</th>\n",
              "      <th>TP_COR_RACA</th>\n",
              "      <th>TP_NACIONALIDADE</th>\n",
              "      <th>CO_MUNICIPIO_NASCIMENTO</th>\n",
              "      <th>NO_MUNICIPIO_NASCIMENTO</th>\n",
              "      <th>CO_UF_NASCIMENTO</th>\n",
              "      <th>SG_UF_NASCIMENTO</th>\n",
              "      <th>TP_ST_CONCLUSAO</th>\n",
              "      <th>TP_ANO_CONCLUIU</th>\n",
              "      <th>TP_ESCOLA</th>\n",
              "      <th>TP_ENSINO</th>\n",
              "      <th>IN_TREINEIRO</th>\n",
              "      <th>CO_ESCOLA</th>\n",
              "      <th>CO_MUNICIPIO_ESC</th>\n",
              "      <th>NO_MUNICIPIO_ESC</th>\n",
              "      <th>CO_UF_ESC</th>\n",
              "      <th>SG_UF_ESC</th>\n",
              "      <th>TP_DEPENDENCIA_ADM_ESC</th>\n",
              "      <th>TP_LOCALIZACAO_ESC</th>\n",
              "      <th>TP_SIT_FUNC_ESC</th>\n",
              "      <th>IN_BAIXA_VISAO</th>\n",
              "      <th>IN_CEGUEIRA</th>\n",
              "      <th>IN_SURDEZ</th>\n",
              "      <th>IN_DEFICIENCIA_AUDITIVA</th>\n",
              "      <th>IN_SURDO_CEGUEIRA</th>\n",
              "      <th>IN_DEFICIENCIA_FISICA</th>\n",
              "      <th>IN_DEFICIENCIA_MENTAL</th>\n",
              "      <th>IN_DEFICIT_ATENCAO</th>\n",
              "      <th>IN_DISLEXIA</th>\n",
              "      <th>IN_DISCALCULIA</th>\n",
              "      <th>IN_AUTISMO</th>\n",
              "      <th>IN_VISAO_MONOCULAR</th>\n",
              "      <th>...</th>\n",
              "      <th>TX_RESPOSTAS_CH</th>\n",
              "      <th>TX_RESPOSTAS_LC</th>\n",
              "      <th>TX_RESPOSTAS_MT</th>\n",
              "      <th>TP_LINGUA</th>\n",
              "      <th>TX_GABARITO_CN</th>\n",
              "      <th>TX_GABARITO_CH</th>\n",
              "      <th>TX_GABARITO_LC</th>\n",
              "      <th>TX_GABARITO_MT</th>\n",
              "      <th>TP_STATUS_REDACAO</th>\n",
              "      <th>NU_NOTA_COMP1</th>\n",
              "      <th>NU_NOTA_COMP2</th>\n",
              "      <th>NU_NOTA_COMP3</th>\n",
              "      <th>NU_NOTA_COMP4</th>\n",
              "      <th>NU_NOTA_COMP5</th>\n",
              "      <th>NU_NOTA_REDACAO</th>\n",
              "      <th>Q001</th>\n",
              "      <th>Q002</th>\n",
              "      <th>Q003</th>\n",
              "      <th>Q004</th>\n",
              "      <th>Q005</th>\n",
              "      <th>Q006</th>\n",
              "      <th>Q007</th>\n",
              "      <th>Q008</th>\n",
              "      <th>Q009</th>\n",
              "      <th>Q010</th>\n",
              "      <th>Q011</th>\n",
              "      <th>Q012</th>\n",
              "      <th>Q013</th>\n",
              "      <th>Q014</th>\n",
              "      <th>Q015</th>\n",
              "      <th>Q016</th>\n",
              "      <th>Q017</th>\n",
              "      <th>Q018</th>\n",
              "      <th>Q019</th>\n",
              "      <th>Q020</th>\n",
              "      <th>Q021</th>\n",
              "      <th>Q022</th>\n",
              "      <th>Q023</th>\n",
              "      <th>Q024</th>\n",
              "      <th>Q025</th>\n",
              "    </tr>\n",
              "  </thead>\n",
              "  <tbody>\n",
              "    <tr>\n",
              "      <th>0</th>\n",
              "      <td>190002290964</td>\n",
              "      <td>2019</td>\n",
              "      <td>2927408</td>\n",
              "      <td>Salvador</td>\n",
              "      <td>29</td>\n",
              "      <td>BA</td>\n",
              "      <td>30</td>\n",
              "      <td>M</td>\n",
              "      <td>1</td>\n",
              "      <td>3</td>\n",
              "      <td>1</td>\n",
              "      <td>2927408.0</td>\n",
              "      <td>Salvador</td>\n",
              "      <td>29.0</td>\n",
              "      <td>BA</td>\n",
              "      <td>1</td>\n",
              "      <td>9</td>\n",
              "      <td>1</td>\n",
              "      <td>1.0</td>\n",
              "      <td>0</td>\n",
              "      <td>NaN</td>\n",
              "      <td>NaN</td>\n",
              "      <td>NaN</td>\n",
              "      <td>NaN</td>\n",
              "      <td>NaN</td>\n",
              "      <td>NaN</td>\n",
              "      <td>NaN</td>\n",
              "      <td>NaN</td>\n",
              "      <td>0</td>\n",
              "      <td>0</td>\n",
              "      <td>0</td>\n",
              "      <td>0</td>\n",
              "      <td>0</td>\n",
              "      <td>0</td>\n",
              "      <td>0</td>\n",
              "      <td>0</td>\n",
              "      <td>0</td>\n",
              "      <td>0</td>\n",
              "      <td>0</td>\n",
              "      <td>0</td>\n",
              "      <td>...</td>\n",
              "      <td>ECEADCABDBDCDBEECDAEDACEBDDDBAECBCAEBECDBBECC</td>\n",
              "      <td>EDACD99999DCBDBCCABEDACECBAEBADDACEBEDCADDBEBD...</td>\n",
              "      <td>CEBBBDDBACEDCDABBDEBDADDCBBBCAEDDAAEDBCCADBCB</td>\n",
              "      <td>0</td>\n",
              "      <td>DEADBAAAEBEECEBCBCBCBDADAEABCEDDDDADCBEECACBC</td>\n",
              "      <td>BACCCBABBADCBCEEEBCACACEEDBCCADBEADBADBBBACDB</td>\n",
              "      <td>BDABEABCADBCBAADDBECDAAECDAECBECBCCDEEAAADDBBC...</td>\n",
              "      <td>AADDDBEEEBEDDBEBACABCDBABECECACAECDCBDCCEDCDA</td>\n",
              "      <td>1.0</td>\n",
              "      <td>80.0</td>\n",
              "      <td>120.0</td>\n",
              "      <td>80.0</td>\n",
              "      <td>140.0</td>\n",
              "      <td>100.0</td>\n",
              "      <td>520.0</td>\n",
              "      <td>C</td>\n",
              "      <td>B</td>\n",
              "      <td>B</td>\n",
              "      <td>B</td>\n",
              "      <td>3</td>\n",
              "      <td>B</td>\n",
              "      <td>A</td>\n",
              "      <td>B</td>\n",
              "      <td>C</td>\n",
              "      <td>A</td>\n",
              "      <td>A</td>\n",
              "      <td>B</td>\n",
              "      <td>A</td>\n",
              "      <td>A</td>\n",
              "      <td>A</td>\n",
              "      <td>A</td>\n",
              "      <td>A</td>\n",
              "      <td>A</td>\n",
              "      <td>B</td>\n",
              "      <td>B</td>\n",
              "      <td>A</td>\n",
              "      <td>B</td>\n",
              "      <td>B</td>\n",
              "      <td>B</td>\n",
              "      <td>B</td>\n",
              "    </tr>\n",
              "    <tr>\n",
              "      <th>1</th>\n",
              "      <td>190004057495</td>\n",
              "      <td>2019</td>\n",
              "      <td>3550308</td>\n",
              "      <td>São Paulo</td>\n",
              "      <td>35</td>\n",
              "      <td>SP</td>\n",
              "      <td>29</td>\n",
              "      <td>F</td>\n",
              "      <td>1</td>\n",
              "      <td>3</td>\n",
              "      <td>1</td>\n",
              "      <td>2913606.0</td>\n",
              "      <td>Ilhéus</td>\n",
              "      <td>29.0</td>\n",
              "      <td>BA</td>\n",
              "      <td>1</td>\n",
              "      <td>11</td>\n",
              "      <td>1</td>\n",
              "      <td>1.0</td>\n",
              "      <td>0</td>\n",
              "      <td>NaN</td>\n",
              "      <td>NaN</td>\n",
              "      <td>NaN</td>\n",
              "      <td>NaN</td>\n",
              "      <td>NaN</td>\n",
              "      <td>NaN</td>\n",
              "      <td>NaN</td>\n",
              "      <td>NaN</td>\n",
              "      <td>0</td>\n",
              "      <td>0</td>\n",
              "      <td>0</td>\n",
              "      <td>0</td>\n",
              "      <td>0</td>\n",
              "      <td>0</td>\n",
              "      <td>0</td>\n",
              "      <td>0</td>\n",
              "      <td>0</td>\n",
              "      <td>0</td>\n",
              "      <td>0</td>\n",
              "      <td>0</td>\n",
              "      <td>...</td>\n",
              "      <td>CCADAECCDBACABAEDAEABEDEACBCBCAABEDDCEDBEACEA</td>\n",
              "      <td>99999CABDDDBEDBCECEBACBDCBEEDECBAEEEACEACDCECA...</td>\n",
              "      <td>CDCBADABCCDBEACEDEDACBEDCBDBABAAEDCCBEDBABEDB</td>\n",
              "      <td>1</td>\n",
              "      <td>DADCCEBBCCACBEEBEEBACBCDDDDADBCBBCEAEADEADAAE</td>\n",
              "      <td>ACACEEBCCBABADBBBACDBBACCCCADCEBADCBEEDBBEADB</td>\n",
              "      <td>EBBADCABDABACBCEBDEEAAADDBECDECDDBADBCDAAECBCC...</td>\n",
              "      <td>DBEBACABCDBABECEEEDCBDCCEDCDABEDAADDDECACAECB</td>\n",
              "      <td>1.0</td>\n",
              "      <td>140.0</td>\n",
              "      <td>180.0</td>\n",
              "      <td>120.0</td>\n",
              "      <td>120.0</td>\n",
              "      <td>100.0</td>\n",
              "      <td>660.0</td>\n",
              "      <td>H</td>\n",
              "      <td>H</td>\n",
              "      <td>C</td>\n",
              "      <td>F</td>\n",
              "      <td>6</td>\n",
              "      <td>C</td>\n",
              "      <td>A</td>\n",
              "      <td>B</td>\n",
              "      <td>C</td>\n",
              "      <td>A</td>\n",
              "      <td>A</td>\n",
              "      <td>B</td>\n",
              "      <td>A</td>\n",
              "      <td>A</td>\n",
              "      <td>A</td>\n",
              "      <td>B</td>\n",
              "      <td>A</td>\n",
              "      <td>A</td>\n",
              "      <td>B</td>\n",
              "      <td>B</td>\n",
              "      <td>A</td>\n",
              "      <td>D</td>\n",
              "      <td>A</td>\n",
              "      <td>B</td>\n",
              "      <td>B</td>\n",
              "    </tr>\n",
              "    <tr>\n",
              "      <th>2</th>\n",
              "      <td>190002548758</td>\n",
              "      <td>2019</td>\n",
              "      <td>2304400</td>\n",
              "      <td>Fortaleza</td>\n",
              "      <td>23</td>\n",
              "      <td>CE</td>\n",
              "      <td>31</td>\n",
              "      <td>M</td>\n",
              "      <td>1</td>\n",
              "      <td>3</td>\n",
              "      <td>1</td>\n",
              "      <td>2304400.0</td>\n",
              "      <td>Fortaleza</td>\n",
              "      <td>23.0</td>\n",
              "      <td>CE</td>\n",
              "      <td>1</td>\n",
              "      <td>13</td>\n",
              "      <td>1</td>\n",
              "      <td>NaN</td>\n",
              "      <td>0</td>\n",
              "      <td>NaN</td>\n",
              "      <td>NaN</td>\n",
              "      <td>NaN</td>\n",
              "      <td>NaN</td>\n",
              "      <td>NaN</td>\n",
              "      <td>NaN</td>\n",
              "      <td>NaN</td>\n",
              "      <td>NaN</td>\n",
              "      <td>0</td>\n",
              "      <td>0</td>\n",
              "      <td>0</td>\n",
              "      <td>0</td>\n",
              "      <td>0</td>\n",
              "      <td>0</td>\n",
              "      <td>0</td>\n",
              "      <td>0</td>\n",
              "      <td>0</td>\n",
              "      <td>0</td>\n",
              "      <td>0</td>\n",
              "      <td>0</td>\n",
              "      <td>...</td>\n",
              "      <td>BCACABABBABCECEEABCCCABDEDBCCADEEEDDADBEEAEAB</td>\n",
              "      <td>BDABE99999BCBADDDBEEDAAEBABCCBECBCCAEBAADDADBC...</td>\n",
              "      <td>BACAABDBDECBAECBABBACEAEDDEAECDBEACCCBDCCEDA*</td>\n",
              "      <td>0</td>\n",
              "      <td>BEEAAEBEEBADEADDADAEABCEDDDBCBCBCCACBCDADCCEB</td>\n",
              "      <td>BACCCBABBADCBCEEEBCACACEEDBCCADBEADBADBBBACDB</td>\n",
              "      <td>BDABEABCADBCBAADDBECDAAECDAECBECBCCDEEAAADDBBC...</td>\n",
              "      <td>BEDEEEAADBEBACABCDBABECECACADCBDCCEDCDABECDDD</td>\n",
              "      <td>1.0</td>\n",
              "      <td>160.0</td>\n",
              "      <td>140.0</td>\n",
              "      <td>120.0</td>\n",
              "      <td>160.0</td>\n",
              "      <td>120.0</td>\n",
              "      <td>700.0</td>\n",
              "      <td>E</td>\n",
              "      <td>E</td>\n",
              "      <td>E</td>\n",
              "      <td>D</td>\n",
              "      <td>4</td>\n",
              "      <td>D</td>\n",
              "      <td>A</td>\n",
              "      <td>B</td>\n",
              "      <td>B</td>\n",
              "      <td>B</td>\n",
              "      <td>A</td>\n",
              "      <td>B</td>\n",
              "      <td>A</td>\n",
              "      <td>B</td>\n",
              "      <td>A</td>\n",
              "      <td>A</td>\n",
              "      <td>A</td>\n",
              "      <td>A</td>\n",
              "      <td>B</td>\n",
              "      <td>A</td>\n",
              "      <td>A</td>\n",
              "      <td>E</td>\n",
              "      <td>B</td>\n",
              "      <td>C</td>\n",
              "      <td>B</td>\n",
              "    </tr>\n",
              "    <tr>\n",
              "      <th>3</th>\n",
              "      <td>190001162162</td>\n",
              "      <td>2019</td>\n",
              "      <td>2304400</td>\n",
              "      <td>Fortaleza</td>\n",
              "      <td>23</td>\n",
              "      <td>CE</td>\n",
              "      <td>20</td>\n",
              "      <td>F</td>\n",
              "      <td>1</td>\n",
              "      <td>1</td>\n",
              "      <td>1</td>\n",
              "      <td>2304400.0</td>\n",
              "      <td>Fortaleza</td>\n",
              "      <td>23.0</td>\n",
              "      <td>CE</td>\n",
              "      <td>1</td>\n",
              "      <td>2</td>\n",
              "      <td>1</td>\n",
              "      <td>1.0</td>\n",
              "      <td>0</td>\n",
              "      <td>NaN</td>\n",
              "      <td>NaN</td>\n",
              "      <td>NaN</td>\n",
              "      <td>NaN</td>\n",
              "      <td>NaN</td>\n",
              "      <td>NaN</td>\n",
              "      <td>NaN</td>\n",
              "      <td>NaN</td>\n",
              "      <td>0</td>\n",
              "      <td>0</td>\n",
              "      <td>0</td>\n",
              "      <td>0</td>\n",
              "      <td>0</td>\n",
              "      <td>0</td>\n",
              "      <td>0</td>\n",
              "      <td>0</td>\n",
              "      <td>0</td>\n",
              "      <td>0</td>\n",
              "      <td>0</td>\n",
              "      <td>0</td>\n",
              "      <td>...</td>\n",
              "      <td>NaN</td>\n",
              "      <td>NaN</td>\n",
              "      <td>NaN</td>\n",
              "      <td>1</td>\n",
              "      <td>NaN</td>\n",
              "      <td>NaN</td>\n",
              "      <td>NaN</td>\n",
              "      <td>NaN</td>\n",
              "      <td>NaN</td>\n",
              "      <td>NaN</td>\n",
              "      <td>NaN</td>\n",
              "      <td>NaN</td>\n",
              "      <td>NaN</td>\n",
              "      <td>NaN</td>\n",
              "      <td>NaN</td>\n",
              "      <td>C</td>\n",
              "      <td>C</td>\n",
              "      <td>B</td>\n",
              "      <td>B</td>\n",
              "      <td>4</td>\n",
              "      <td>C</td>\n",
              "      <td>A</td>\n",
              "      <td>B</td>\n",
              "      <td>B</td>\n",
              "      <td>A</td>\n",
              "      <td>A</td>\n",
              "      <td>B</td>\n",
              "      <td>A</td>\n",
              "      <td>A</td>\n",
              "      <td>A</td>\n",
              "      <td>B</td>\n",
              "      <td>A</td>\n",
              "      <td>A</td>\n",
              "      <td>B</td>\n",
              "      <td>A</td>\n",
              "      <td>A</td>\n",
              "      <td>C</td>\n",
              "      <td>A</td>\n",
              "      <td>A</td>\n",
              "      <td>B</td>\n",
              "    </tr>\n",
              "    <tr>\n",
              "      <th>4</th>\n",
              "      <td>190001424877</td>\n",
              "      <td>2019</td>\n",
              "      <td>2807501</td>\n",
              "      <td>Tomar do Geru</td>\n",
              "      <td>28</td>\n",
              "      <td>SE</td>\n",
              "      <td>18</td>\n",
              "      <td>F</td>\n",
              "      <td>1</td>\n",
              "      <td>3</td>\n",
              "      <td>1</td>\n",
              "      <td>2802106.0</td>\n",
              "      <td>Estância</td>\n",
              "      <td>28.0</td>\n",
              "      <td>SE</td>\n",
              "      <td>3</td>\n",
              "      <td>0</td>\n",
              "      <td>1</td>\n",
              "      <td>NaN</td>\n",
              "      <td>1</td>\n",
              "      <td>NaN</td>\n",
              "      <td>NaN</td>\n",
              "      <td>NaN</td>\n",
              "      <td>NaN</td>\n",
              "      <td>NaN</td>\n",
              "      <td>NaN</td>\n",
              "      <td>NaN</td>\n",
              "      <td>NaN</td>\n",
              "      <td>0</td>\n",
              "      <td>0</td>\n",
              "      <td>0</td>\n",
              "      <td>0</td>\n",
              "      <td>0</td>\n",
              "      <td>0</td>\n",
              "      <td>0</td>\n",
              "      <td>0</td>\n",
              "      <td>0</td>\n",
              "      <td>0</td>\n",
              "      <td>0</td>\n",
              "      <td>0</td>\n",
              "      <td>...</td>\n",
              "      <td>NaN</td>\n",
              "      <td>NaN</td>\n",
              "      <td>NaN</td>\n",
              "      <td>1</td>\n",
              "      <td>NaN</td>\n",
              "      <td>NaN</td>\n",
              "      <td>NaN</td>\n",
              "      <td>NaN</td>\n",
              "      <td>NaN</td>\n",
              "      <td>NaN</td>\n",
              "      <td>NaN</td>\n",
              "      <td>NaN</td>\n",
              "      <td>NaN</td>\n",
              "      <td>NaN</td>\n",
              "      <td>NaN</td>\n",
              "      <td>B</td>\n",
              "      <td>B</td>\n",
              "      <td>A</td>\n",
              "      <td>A</td>\n",
              "      <td>4</td>\n",
              "      <td>B</td>\n",
              "      <td>A</td>\n",
              "      <td>B</td>\n",
              "      <td>C</td>\n",
              "      <td>A</td>\n",
              "      <td>B</td>\n",
              "      <td>B</td>\n",
              "      <td>A</td>\n",
              "      <td>A</td>\n",
              "      <td>A</td>\n",
              "      <td>A</td>\n",
              "      <td>A</td>\n",
              "      <td>A</td>\n",
              "      <td>B</td>\n",
              "      <td>B</td>\n",
              "      <td>A</td>\n",
              "      <td>C</td>\n",
              "      <td>A</td>\n",
              "      <td>A</td>\n",
              "      <td>A</td>\n",
              "    </tr>\n",
              "  </tbody>\n",
              "</table>\n",
              "<p>5 rows × 136 columns</p>\n",
              "</div>"
            ],
            "text/plain": [
              "   NU_INSCRICAO  NU_ANO  CO_MUNICIPIO_RESIDENCIA  ... Q023  Q024 Q025\n",
              "0  190002290964    2019                  2927408  ...    B     B    B\n",
              "1  190004057495    2019                  3550308  ...    A     B    B\n",
              "2  190002548758    2019                  2304400  ...    B     C    B\n",
              "3  190001162162    2019                  2304400  ...    A     A    B\n",
              "4  190001424877    2019                  2807501  ...    A     A    A\n",
              "\n",
              "[5 rows x 136 columns]"
            ]
          },
          "metadata": {
            "tags": []
          },
          "execution_count": 4
        }
      ]
    },
    {
      "cell_type": "code",
      "metadata": {
        "colab": {
          "base_uri": "https://localhost:8080/",
          "height": 248
        },
        "id": "NkUu876ykLmN",
        "outputId": "5e1ff9c5-7bb1-4e04-aeb3-61a188873a1d"
      },
      "source": [
        "# check the last 5 rows\r\n",
        "df.tail()"
      ],
      "execution_count": 5,
      "outputs": [
        {
          "output_type": "execute_result",
          "data": {
            "text/html": [
              "<div>\n",
              "<style scoped>\n",
              "    .dataframe tbody tr th:only-of-type {\n",
              "        vertical-align: middle;\n",
              "    }\n",
              "\n",
              "    .dataframe tbody tr th {\n",
              "        vertical-align: top;\n",
              "    }\n",
              "\n",
              "    .dataframe thead th {\n",
              "        text-align: right;\n",
              "    }\n",
              "</style>\n",
              "<table border=\"1\" class=\"dataframe\">\n",
              "  <thead>\n",
              "    <tr style=\"text-align: right;\">\n",
              "      <th></th>\n",
              "      <th>NU_INSCRICAO</th>\n",
              "      <th>NU_ANO</th>\n",
              "      <th>CO_MUNICIPIO_RESIDENCIA</th>\n",
              "      <th>NO_MUNICIPIO_RESIDENCIA</th>\n",
              "      <th>CO_UF_RESIDENCIA</th>\n",
              "      <th>SG_UF_RESIDENCIA</th>\n",
              "      <th>NU_IDADE</th>\n",
              "      <th>TP_SEXO</th>\n",
              "      <th>TP_ESTADO_CIVIL</th>\n",
              "      <th>TP_COR_RACA</th>\n",
              "      <th>TP_NACIONALIDADE</th>\n",
              "      <th>CO_MUNICIPIO_NASCIMENTO</th>\n",
              "      <th>NO_MUNICIPIO_NASCIMENTO</th>\n",
              "      <th>CO_UF_NASCIMENTO</th>\n",
              "      <th>SG_UF_NASCIMENTO</th>\n",
              "      <th>TP_ST_CONCLUSAO</th>\n",
              "      <th>TP_ANO_CONCLUIU</th>\n",
              "      <th>TP_ESCOLA</th>\n",
              "      <th>TP_ENSINO</th>\n",
              "      <th>IN_TREINEIRO</th>\n",
              "      <th>CO_ESCOLA</th>\n",
              "      <th>CO_MUNICIPIO_ESC</th>\n",
              "      <th>NO_MUNICIPIO_ESC</th>\n",
              "      <th>CO_UF_ESC</th>\n",
              "      <th>SG_UF_ESC</th>\n",
              "      <th>TP_DEPENDENCIA_ADM_ESC</th>\n",
              "      <th>TP_LOCALIZACAO_ESC</th>\n",
              "      <th>TP_SIT_FUNC_ESC</th>\n",
              "      <th>IN_BAIXA_VISAO</th>\n",
              "      <th>IN_CEGUEIRA</th>\n",
              "      <th>IN_SURDEZ</th>\n",
              "      <th>IN_DEFICIENCIA_AUDITIVA</th>\n",
              "      <th>IN_SURDO_CEGUEIRA</th>\n",
              "      <th>IN_DEFICIENCIA_FISICA</th>\n",
              "      <th>IN_DEFICIENCIA_MENTAL</th>\n",
              "      <th>IN_DEFICIT_ATENCAO</th>\n",
              "      <th>IN_DISLEXIA</th>\n",
              "      <th>IN_DISCALCULIA</th>\n",
              "      <th>IN_AUTISMO</th>\n",
              "      <th>IN_VISAO_MONOCULAR</th>\n",
              "      <th>...</th>\n",
              "      <th>TX_RESPOSTAS_CH</th>\n",
              "      <th>TX_RESPOSTAS_LC</th>\n",
              "      <th>TX_RESPOSTAS_MT</th>\n",
              "      <th>TP_LINGUA</th>\n",
              "      <th>TX_GABARITO_CN</th>\n",
              "      <th>TX_GABARITO_CH</th>\n",
              "      <th>TX_GABARITO_LC</th>\n",
              "      <th>TX_GABARITO_MT</th>\n",
              "      <th>TP_STATUS_REDACAO</th>\n",
              "      <th>NU_NOTA_COMP1</th>\n",
              "      <th>NU_NOTA_COMP2</th>\n",
              "      <th>NU_NOTA_COMP3</th>\n",
              "      <th>NU_NOTA_COMP4</th>\n",
              "      <th>NU_NOTA_COMP5</th>\n",
              "      <th>NU_NOTA_REDACAO</th>\n",
              "      <th>Q001</th>\n",
              "      <th>Q002</th>\n",
              "      <th>Q003</th>\n",
              "      <th>Q004</th>\n",
              "      <th>Q005</th>\n",
              "      <th>Q006</th>\n",
              "      <th>Q007</th>\n",
              "      <th>Q008</th>\n",
              "      <th>Q009</th>\n",
              "      <th>Q010</th>\n",
              "      <th>Q011</th>\n",
              "      <th>Q012</th>\n",
              "      <th>Q013</th>\n",
              "      <th>Q014</th>\n",
              "      <th>Q015</th>\n",
              "      <th>Q016</th>\n",
              "      <th>Q017</th>\n",
              "      <th>Q018</th>\n",
              "      <th>Q019</th>\n",
              "      <th>Q020</th>\n",
              "      <th>Q021</th>\n",
              "      <th>Q022</th>\n",
              "      <th>Q023</th>\n",
              "      <th>Q024</th>\n",
              "      <th>Q025</th>\n",
              "    </tr>\n",
              "  </thead>\n",
              "  <tbody>\n",
              "    <tr>\n",
              "      <th>5090</th>\n",
              "      <td>190004067563</td>\n",
              "      <td>2019</td>\n",
              "      <td>3550308</td>\n",
              "      <td>São Paulo</td>\n",
              "      <td>35</td>\n",
              "      <td>SP</td>\n",
              "      <td>17</td>\n",
              "      <td>M</td>\n",
              "      <td>1</td>\n",
              "      <td>1</td>\n",
              "      <td>1</td>\n",
              "      <td>3550308.0</td>\n",
              "      <td>São Paulo</td>\n",
              "      <td>35.0</td>\n",
              "      <td>SP</td>\n",
              "      <td>2</td>\n",
              "      <td>0</td>\n",
              "      <td>2</td>\n",
              "      <td>1.0</td>\n",
              "      <td>0</td>\n",
              "      <td>35001659.0</td>\n",
              "      <td>3550308.0</td>\n",
              "      <td>São Paulo</td>\n",
              "      <td>35.0</td>\n",
              "      <td>SP</td>\n",
              "      <td>2.0</td>\n",
              "      <td>1.0</td>\n",
              "      <td>1.0</td>\n",
              "      <td>0</td>\n",
              "      <td>0</td>\n",
              "      <td>0</td>\n",
              "      <td>0</td>\n",
              "      <td>0</td>\n",
              "      <td>0</td>\n",
              "      <td>0</td>\n",
              "      <td>0</td>\n",
              "      <td>0</td>\n",
              "      <td>0</td>\n",
              "      <td>0</td>\n",
              "      <td>0</td>\n",
              "      <td>...</td>\n",
              "      <td>ACCCEECBADACDBAECCDAECBACDBEEECCCBBADEDBAADAE</td>\n",
              "      <td>99999DAACEDBCEACBACECBDBBAAADCBDAEDCDDCEBEEECD...</td>\n",
              "      <td>ABBACCACAEDAEDCBADADCAEACBCCBBCECEBBABADDDCEC</td>\n",
              "      <td>1</td>\n",
              "      <td>DEADBAAAEBEECEBCBCBCBDADAEABCEDDDDADCBEECACBC</td>\n",
              "      <td>EEBCEEDBADBBCBABCCADCEBACDBBACCACACBEADBBADCB</td>\n",
              "      <td>ADBBEDCABAABBCBCDAAECDDDBAAAECADECDCEBDEEAECBD...</td>\n",
              "      <td>AADDDBEEEBEDDBEBACABCDBABECECACAECDCBDCCEDCDA</td>\n",
              "      <td>1.0</td>\n",
              "      <td>120.0</td>\n",
              "      <td>120.0</td>\n",
              "      <td>120.0</td>\n",
              "      <td>120.0</td>\n",
              "      <td>0.0</td>\n",
              "      <td>480.0</td>\n",
              "      <td>D</td>\n",
              "      <td>D</td>\n",
              "      <td>C</td>\n",
              "      <td>F</td>\n",
              "      <td>3</td>\n",
              "      <td>B</td>\n",
              "      <td>A</td>\n",
              "      <td>B</td>\n",
              "      <td>C</td>\n",
              "      <td>A</td>\n",
              "      <td>A</td>\n",
              "      <td>B</td>\n",
              "      <td>B</td>\n",
              "      <td>B</td>\n",
              "      <td>A</td>\n",
              "      <td>B</td>\n",
              "      <td>A</td>\n",
              "      <td>A</td>\n",
              "      <td>C</td>\n",
              "      <td>B</td>\n",
              "      <td>B</td>\n",
              "      <td>D</td>\n",
              "      <td>B</td>\n",
              "      <td>A</td>\n",
              "      <td>B</td>\n",
              "    </tr>\n",
              "    <tr>\n",
              "      <th>5091</th>\n",
              "      <td>190005942525</td>\n",
              "      <td>2019</td>\n",
              "      <td>4315909</td>\n",
              "      <td>Rodeio Bonito</td>\n",
              "      <td>43</td>\n",
              "      <td>RS</td>\n",
              "      <td>18</td>\n",
              "      <td>F</td>\n",
              "      <td>1</td>\n",
              "      <td>1</td>\n",
              "      <td>1</td>\n",
              "      <td>4315909.0</td>\n",
              "      <td>Rodeio Bonito</td>\n",
              "      <td>43.0</td>\n",
              "      <td>RS</td>\n",
              "      <td>2</td>\n",
              "      <td>0</td>\n",
              "      <td>2</td>\n",
              "      <td>1.0</td>\n",
              "      <td>0</td>\n",
              "      <td>43116019.0</td>\n",
              "      <td>4315909.0</td>\n",
              "      <td>Rodeio Bonito</td>\n",
              "      <td>43.0</td>\n",
              "      <td>RS</td>\n",
              "      <td>2.0</td>\n",
              "      <td>1.0</td>\n",
              "      <td>1.0</td>\n",
              "      <td>0</td>\n",
              "      <td>0</td>\n",
              "      <td>0</td>\n",
              "      <td>0</td>\n",
              "      <td>0</td>\n",
              "      <td>0</td>\n",
              "      <td>0</td>\n",
              "      <td>0</td>\n",
              "      <td>0</td>\n",
              "      <td>0</td>\n",
              "      <td>0</td>\n",
              "      <td>0</td>\n",
              "      <td>...</td>\n",
              "      <td>BDCBECAACDBEDBEACBEDABCEACEBDAEBDACCECAEBAEDB</td>\n",
              "      <td>99999EDEEBCAEBCEDCDDAEABADCEBDDADBECBDBEEBABCA...</td>\n",
              "      <td>DECDBBDCCEECBEBECBACDBEADCEBADBCADCEABAEDBAEA</td>\n",
              "      <td>1</td>\n",
              "      <td>DADCCEBBCCACBEEBEEBACBCDDDDADBCBBCEAEADEADAAE</td>\n",
              "      <td>CBABADBBCEEEBCBADCBEEDBBEADBBACDBBACCCCADACAC</td>\n",
              "      <td>BBEDABDACACBABAECBBCCADCEBDBBCDDEEAAADDBECDECA...</td>\n",
              "      <td>DBEBACABCDBABECEEEDCBDCCEDCDABEDAADDDECACAECB</td>\n",
              "      <td>1.0</td>\n",
              "      <td>120.0</td>\n",
              "      <td>120.0</td>\n",
              "      <td>120.0</td>\n",
              "      <td>120.0</td>\n",
              "      <td>140.0</td>\n",
              "      <td>620.0</td>\n",
              "      <td>H</td>\n",
              "      <td>F</td>\n",
              "      <td>F</td>\n",
              "      <td>D</td>\n",
              "      <td>2</td>\n",
              "      <td>D</td>\n",
              "      <td>A</td>\n",
              "      <td>B</td>\n",
              "      <td>C</td>\n",
              "      <td>B</td>\n",
              "      <td>A</td>\n",
              "      <td>B</td>\n",
              "      <td>A</td>\n",
              "      <td>B</td>\n",
              "      <td>A</td>\n",
              "      <td>B</td>\n",
              "      <td>A</td>\n",
              "      <td>A</td>\n",
              "      <td>B</td>\n",
              "      <td>A</td>\n",
              "      <td>A</td>\n",
              "      <td>C</td>\n",
              "      <td>A</td>\n",
              "      <td>B</td>\n",
              "      <td>B</td>\n",
              "    </tr>\n",
              "    <tr>\n",
              "      <th>5092</th>\n",
              "      <td>190002772261</td>\n",
              "      <td>2019</td>\n",
              "      <td>2609105</td>\n",
              "      <td>Machados</td>\n",
              "      <td>26</td>\n",
              "      <td>PE</td>\n",
              "      <td>17</td>\n",
              "      <td>M</td>\n",
              "      <td>1</td>\n",
              "      <td>1</td>\n",
              "      <td>1</td>\n",
              "      <td>2611606.0</td>\n",
              "      <td>Recife</td>\n",
              "      <td>26.0</td>\n",
              "      <td>PE</td>\n",
              "      <td>2</td>\n",
              "      <td>0</td>\n",
              "      <td>2</td>\n",
              "      <td>NaN</td>\n",
              "      <td>0</td>\n",
              "      <td>26070090.0</td>\n",
              "      <td>2609105.0</td>\n",
              "      <td>Machados</td>\n",
              "      <td>26.0</td>\n",
              "      <td>PE</td>\n",
              "      <td>2.0</td>\n",
              "      <td>1.0</td>\n",
              "      <td>1.0</td>\n",
              "      <td>0</td>\n",
              "      <td>0</td>\n",
              "      <td>0</td>\n",
              "      <td>0</td>\n",
              "      <td>0</td>\n",
              "      <td>0</td>\n",
              "      <td>0</td>\n",
              "      <td>0</td>\n",
              "      <td>0</td>\n",
              "      <td>0</td>\n",
              "      <td>0</td>\n",
              "      <td>0</td>\n",
              "      <td>...</td>\n",
              "      <td>ABCACADAACABDDECCEBAADDCBDDDABEEBDECBCBABDCAE</td>\n",
              "      <td>AAAAA99999CDAECAECCDEBCEADCDEBCBAEDAADEEACBDCA...</td>\n",
              "      <td>ECEBCAADADACDACAEDEDEBDDEDABEDBADEDACCECABDCE</td>\n",
              "      <td>0</td>\n",
              "      <td>DEADBAAAEBEECEBCBCBCBDADAEABCEDDDDADCBEECACBC</td>\n",
              "      <td>CBABADBBCEEEBCBADCBEEDBBEADBBACDBBACCCCADACAC</td>\n",
              "      <td>BBEDABDACACBABAECBBCCADCEBDBBCDDEEAAADDBECDECA...</td>\n",
              "      <td>AADDDBEEEBEDDBEBACABCDBABECECACAECDCBDCCEDCDA</td>\n",
              "      <td>1.0</td>\n",
              "      <td>140.0</td>\n",
              "      <td>160.0</td>\n",
              "      <td>160.0</td>\n",
              "      <td>180.0</td>\n",
              "      <td>160.0</td>\n",
              "      <td>800.0</td>\n",
              "      <td>C</td>\n",
              "      <td>A</td>\n",
              "      <td>A</td>\n",
              "      <td>A</td>\n",
              "      <td>8</td>\n",
              "      <td>A</td>\n",
              "      <td>A</td>\n",
              "      <td>B</td>\n",
              "      <td>D</td>\n",
              "      <td>A</td>\n",
              "      <td>A</td>\n",
              "      <td>B</td>\n",
              "      <td>A</td>\n",
              "      <td>A</td>\n",
              "      <td>A</td>\n",
              "      <td>A</td>\n",
              "      <td>A</td>\n",
              "      <td>A</td>\n",
              "      <td>B</td>\n",
              "      <td>A</td>\n",
              "      <td>A</td>\n",
              "      <td>B</td>\n",
              "      <td>A</td>\n",
              "      <td>A</td>\n",
              "      <td>A</td>\n",
              "    </tr>\n",
              "    <tr>\n",
              "      <th>5093</th>\n",
              "      <td>190001276489</td>\n",
              "      <td>2019</td>\n",
              "      <td>2927705</td>\n",
              "      <td>Santa Cruz Cabrália</td>\n",
              "      <td>29</td>\n",
              "      <td>BA</td>\n",
              "      <td>24</td>\n",
              "      <td>M</td>\n",
              "      <td>0</td>\n",
              "      <td>5</td>\n",
              "      <td>1</td>\n",
              "      <td>2903300.0</td>\n",
              "      <td>Barro Preto</td>\n",
              "      <td>29.0</td>\n",
              "      <td>BA</td>\n",
              "      <td>1</td>\n",
              "      <td>6</td>\n",
              "      <td>1</td>\n",
              "      <td>1.0</td>\n",
              "      <td>0</td>\n",
              "      <td>NaN</td>\n",
              "      <td>NaN</td>\n",
              "      <td>NaN</td>\n",
              "      <td>NaN</td>\n",
              "      <td>NaN</td>\n",
              "      <td>NaN</td>\n",
              "      <td>NaN</td>\n",
              "      <td>NaN</td>\n",
              "      <td>0</td>\n",
              "      <td>0</td>\n",
              "      <td>0</td>\n",
              "      <td>0</td>\n",
              "      <td>0</td>\n",
              "      <td>0</td>\n",
              "      <td>0</td>\n",
              "      <td>0</td>\n",
              "      <td>0</td>\n",
              "      <td>0</td>\n",
              "      <td>0</td>\n",
              "      <td>0</td>\n",
              "      <td>...</td>\n",
              "      <td>NaN</td>\n",
              "      <td>NaN</td>\n",
              "      <td>NaN</td>\n",
              "      <td>0</td>\n",
              "      <td>NaN</td>\n",
              "      <td>NaN</td>\n",
              "      <td>NaN</td>\n",
              "      <td>NaN</td>\n",
              "      <td>NaN</td>\n",
              "      <td>NaN</td>\n",
              "      <td>NaN</td>\n",
              "      <td>NaN</td>\n",
              "      <td>NaN</td>\n",
              "      <td>NaN</td>\n",
              "      <td>NaN</td>\n",
              "      <td>B</td>\n",
              "      <td>B</td>\n",
              "      <td>C</td>\n",
              "      <td>F</td>\n",
              "      <td>9</td>\n",
              "      <td>C</td>\n",
              "      <td>A</td>\n",
              "      <td>B</td>\n",
              "      <td>D</td>\n",
              "      <td>A</td>\n",
              "      <td>A</td>\n",
              "      <td>B</td>\n",
              "      <td>A</td>\n",
              "      <td>A</td>\n",
              "      <td>A</td>\n",
              "      <td>A</td>\n",
              "      <td>A</td>\n",
              "      <td>A</td>\n",
              "      <td>B</td>\n",
              "      <td>B</td>\n",
              "      <td>A</td>\n",
              "      <td>D</td>\n",
              "      <td>A</td>\n",
              "      <td>A</td>\n",
              "      <td>B</td>\n",
              "    </tr>\n",
              "    <tr>\n",
              "      <th>5094</th>\n",
              "      <td>190005984465</td>\n",
              "      <td>2019</td>\n",
              "      <td>3550308</td>\n",
              "      <td>São Paulo</td>\n",
              "      <td>35</td>\n",
              "      <td>SP</td>\n",
              "      <td>19</td>\n",
              "      <td>F</td>\n",
              "      <td>1</td>\n",
              "      <td>3</td>\n",
              "      <td>2</td>\n",
              "      <td>NaN</td>\n",
              "      <td>NaN</td>\n",
              "      <td>NaN</td>\n",
              "      <td>NaN</td>\n",
              "      <td>1</td>\n",
              "      <td>2</td>\n",
              "      <td>1</td>\n",
              "      <td>1.0</td>\n",
              "      <td>0</td>\n",
              "      <td>NaN</td>\n",
              "      <td>NaN</td>\n",
              "      <td>NaN</td>\n",
              "      <td>NaN</td>\n",
              "      <td>NaN</td>\n",
              "      <td>NaN</td>\n",
              "      <td>NaN</td>\n",
              "      <td>NaN</td>\n",
              "      <td>0</td>\n",
              "      <td>0</td>\n",
              "      <td>0</td>\n",
              "      <td>0</td>\n",
              "      <td>0</td>\n",
              "      <td>0</td>\n",
              "      <td>0</td>\n",
              "      <td>0</td>\n",
              "      <td>0</td>\n",
              "      <td>0</td>\n",
              "      <td>0</td>\n",
              "      <td>0</td>\n",
              "      <td>...</td>\n",
              "      <td>AEBECCBBAAABBDDDCBBAEBCEDCACCBCCADB..CBAAACCC</td>\n",
              "      <td>99999AEDEECECBBCCCBBDDECBBAAACCAACACADECBDEACC...</td>\n",
              "      <td>BDBDEDBDCBBCBEBADBCBDDCCCBECBECBCEBCBCACCEDEB</td>\n",
              "      <td>1</td>\n",
              "      <td>DADCCEBBCCACBEEBEEBACBCDDDDADBCBBCEAEADEADAAE</td>\n",
              "      <td>EEBCEEDBADBBCBABCCADCEBACDBBACCACACBEADBBADCB</td>\n",
              "      <td>ADBBEDCABAABBCBCDAAECDDDBAAAECADECDCEBDEEAECBD...</td>\n",
              "      <td>DBEBACABCDBABECEEEDCBDCCEDCDABEDAADDDECACAECB</td>\n",
              "      <td>1.0</td>\n",
              "      <td>120.0</td>\n",
              "      <td>100.0</td>\n",
              "      <td>80.0</td>\n",
              "      <td>80.0</td>\n",
              "      <td>60.0</td>\n",
              "      <td>440.0</td>\n",
              "      <td>E</td>\n",
              "      <td>F</td>\n",
              "      <td>F</td>\n",
              "      <td>D</td>\n",
              "      <td>5</td>\n",
              "      <td>I</td>\n",
              "      <td>A</td>\n",
              "      <td>B</td>\n",
              "      <td>C</td>\n",
              "      <td>B</td>\n",
              "      <td>B</td>\n",
              "      <td>B</td>\n",
              "      <td>A</td>\n",
              "      <td>B</td>\n",
              "      <td>B</td>\n",
              "      <td>B</td>\n",
              "      <td>A</td>\n",
              "      <td>A</td>\n",
              "      <td>B</td>\n",
              "      <td>A</td>\n",
              "      <td>A</td>\n",
              "      <td>E</td>\n",
              "      <td>A</td>\n",
              "      <td>C</td>\n",
              "      <td>B</td>\n",
              "    </tr>\n",
              "  </tbody>\n",
              "</table>\n",
              "<p>5 rows × 136 columns</p>\n",
              "</div>"
            ],
            "text/plain": [
              "      NU_INSCRICAO  NU_ANO  CO_MUNICIPIO_RESIDENCIA  ... Q023  Q024 Q025\n",
              "5090  190004067563    2019                  3550308  ...    B     A    B\n",
              "5091  190005942525    2019                  4315909  ...    A     B    B\n",
              "5092  190002772261    2019                  2609105  ...    A     A    A\n",
              "5093  190001276489    2019                  2927705  ...    A     A    B\n",
              "5094  190005984465    2019                  3550308  ...    A     C    B\n",
              "\n",
              "[5 rows x 136 columns]"
            ]
          },
          "metadata": {
            "tags": []
          },
          "execution_count": 5
        }
      ]
    },
    {
      "cell_type": "markdown",
      "metadata": {
        "id": "b94zu4l0pTzC"
      },
      "source": [
        "It look's like the dataset is alright!\r\n",
        "\r\n",
        "Now, lets check the datatypes. Since there are more than a hundred columns, and we'll only use few of them, we're going to check only the important ones in our context. Also, we'll be translating these columns to english."
      ]
    },
    {
      "cell_type": "code",
      "metadata": {
        "id": "X5qlA20ePWWQ"
      },
      "source": [
        "# translate only the columns we'll be using on our analysis\r\n",
        "df.rename(columns={'NU_IDADE':'AGE',\r\n",
        "                   'TP_SEXO':'GENDER',\r\n",
        "                   'TP_COR_RACA':'SKIN_COLOR',\r\n",
        "                   'TP_LINGUA':'FOREIGN_LANGUAGE',\r\n",
        "                   'NU_NOTA_CN':'GRADE_NATURAL_SCIENCES',\r\n",
        "                   'NU_NOTA_CH':'GRADE_HUMAN_SCIENCES',\r\n",
        "                   'NU_NOTA_LC':'GRADE_LANGUAGE_SCIENCES',\r\n",
        "                   'NU_NOTA_MT':'GRADE_MATH_SCIENCES',\r\n",
        "                   'NU_NOTA_REDACAO':'GRADE_ESSAY'}, inplace=True)"
      ],
      "execution_count": 6,
      "outputs": []
    },
    {
      "cell_type": "code",
      "metadata": {
        "id": "0_J07vtTQW9C"
      },
      "source": [
        "# define the important columns for our analysis\r\n",
        "important_columns = ['AGE', 'GENDER',  'SKIN_COLOR',\r\n",
        "                     'FOREIGN_LANGUAGE','GRADE_NATURAL_SCIENCES','GRADE_HUMAN_SCIENCES',\r\n",
        "                     'GRADE_LANGUAGE_SCIENCES','GRADE_MATH_SCIENCES','GRADE_ESSAY']"
      ],
      "execution_count": 7,
      "outputs": []
    },
    {
      "cell_type": "markdown",
      "metadata": {
        "id": "lfFO382TTY_X"
      },
      "source": [
        "Lets check the first rows again, but now, only the important ones."
      ]
    },
    {
      "cell_type": "code",
      "metadata": {
        "id": "KH9_T8qJSj_Q",
        "colab": {
          "base_uri": "https://localhost:8080/",
          "height": 199
        },
        "outputId": "4d7c9058-da2f-4787-e6b4-94ad725603d1"
      },
      "source": [
        "df[important_columns].head()"
      ],
      "execution_count": 8,
      "outputs": [
        {
          "output_type": "execute_result",
          "data": {
            "text/html": [
              "<div>\n",
              "<style scoped>\n",
              "    .dataframe tbody tr th:only-of-type {\n",
              "        vertical-align: middle;\n",
              "    }\n",
              "\n",
              "    .dataframe tbody tr th {\n",
              "        vertical-align: top;\n",
              "    }\n",
              "\n",
              "    .dataframe thead th {\n",
              "        text-align: right;\n",
              "    }\n",
              "</style>\n",
              "<table border=\"1\" class=\"dataframe\">\n",
              "  <thead>\n",
              "    <tr style=\"text-align: right;\">\n",
              "      <th></th>\n",
              "      <th>AGE</th>\n",
              "      <th>GENDER</th>\n",
              "      <th>SKIN_COLOR</th>\n",
              "      <th>FOREIGN_LANGUAGE</th>\n",
              "      <th>GRADE_NATURAL_SCIENCES</th>\n",
              "      <th>GRADE_HUMAN_SCIENCES</th>\n",
              "      <th>GRADE_LANGUAGE_SCIENCES</th>\n",
              "      <th>GRADE_MATH_SCIENCES</th>\n",
              "      <th>GRADE_ESSAY</th>\n",
              "    </tr>\n",
              "  </thead>\n",
              "  <tbody>\n",
              "    <tr>\n",
              "      <th>0</th>\n",
              "      <td>30</td>\n",
              "      <td>M</td>\n",
              "      <td>3</td>\n",
              "      <td>0</td>\n",
              "      <td>406.9</td>\n",
              "      <td>449.9</td>\n",
              "      <td>530.0</td>\n",
              "      <td>408.0</td>\n",
              "      <td>520.0</td>\n",
              "    </tr>\n",
              "    <tr>\n",
              "      <th>1</th>\n",
              "      <td>29</td>\n",
              "      <td>F</td>\n",
              "      <td>3</td>\n",
              "      <td>1</td>\n",
              "      <td>415.2</td>\n",
              "      <td>521.1</td>\n",
              "      <td>529.5</td>\n",
              "      <td>544.2</td>\n",
              "      <td>660.0</td>\n",
              "    </tr>\n",
              "    <tr>\n",
              "      <th>2</th>\n",
              "      <td>31</td>\n",
              "      <td>M</td>\n",
              "      <td>3</td>\n",
              "      <td>0</td>\n",
              "      <td>566.3</td>\n",
              "      <td>626.9</td>\n",
              "      <td>607.7</td>\n",
              "      <td>612.3</td>\n",
              "      <td>700.0</td>\n",
              "    </tr>\n",
              "    <tr>\n",
              "      <th>3</th>\n",
              "      <td>20</td>\n",
              "      <td>F</td>\n",
              "      <td>1</td>\n",
              "      <td>1</td>\n",
              "      <td>NaN</td>\n",
              "      <td>NaN</td>\n",
              "      <td>NaN</td>\n",
              "      <td>NaN</td>\n",
              "      <td>NaN</td>\n",
              "    </tr>\n",
              "    <tr>\n",
              "      <th>4</th>\n",
              "      <td>18</td>\n",
              "      <td>F</td>\n",
              "      <td>3</td>\n",
              "      <td>1</td>\n",
              "      <td>NaN</td>\n",
              "      <td>NaN</td>\n",
              "      <td>NaN</td>\n",
              "      <td>NaN</td>\n",
              "      <td>NaN</td>\n",
              "    </tr>\n",
              "  </tbody>\n",
              "</table>\n",
              "</div>"
            ],
            "text/plain": [
              "   AGE GENDER  ...  GRADE_MATH_SCIENCES  GRADE_ESSAY\n",
              "0   30      M  ...                408.0        520.0\n",
              "1   29      F  ...                544.2        660.0\n",
              "2   31      M  ...                612.3        700.0\n",
              "3   20      F  ...                  NaN          NaN\n",
              "4   18      F  ...                  NaN          NaN\n",
              "\n",
              "[5 rows x 9 columns]"
            ]
          },
          "metadata": {
            "tags": []
          },
          "execution_count": 8
        }
      ]
    },
    {
      "cell_type": "markdown",
      "metadata": {
        "id": "ALtMzygeS6DJ"
      },
      "source": [
        "It look's like some values are 'coded' so we need to 'translate' that."
      ]
    },
    {
      "cell_type": "code",
      "metadata": {
        "id": "3S39D-y6ToZu"
      },
      "source": [
        "df['GENDER'] = df['GENDER'].map({'M':'Male',\r\n",
        "                  'F':'Female'})\r\n",
        "\r\n",
        "df['SKIN_COLOR'] = df['SKIN_COLOR'].map({0:'Not Informed',\r\n",
        "                     1:'White',\r\n",
        "                     2:'Black',\r\n",
        "                     3:'Brown',\r\n",
        "                     4:'Yellow',\r\n",
        "                     5:'Indigenous'})\r\n",
        "\r\n",
        "df['FOREIGN_LANGUAGE'] = df['FOREIGN_LANGUAGE'].map({0:'English',\r\n",
        "                     1:'Spanish'})"
      ],
      "execution_count": 9,
      "outputs": []
    },
    {
      "cell_type": "markdown",
      "metadata": {
        "id": "E1iBHjR3VU--"
      },
      "source": [
        "Now, lets check the datatypes."
      ]
    },
    {
      "cell_type": "code",
      "metadata": {
        "colab": {
          "base_uri": "https://localhost:8080/"
        },
        "id": "DAJo3JLRVULJ",
        "outputId": "d463d697-fb91-4ef3-ba04-8a7f3cbaac9f"
      },
      "source": [
        "# check the columns types\r\n",
        "df[important_columns].dtypes"
      ],
      "execution_count": 10,
      "outputs": [
        {
          "output_type": "execute_result",
          "data": {
            "text/plain": [
              "AGE                          int64\n",
              "GENDER                      object\n",
              "SKIN_COLOR                  object\n",
              "FOREIGN_LANGUAGE            object\n",
              "GRADE_NATURAL_SCIENCES     float64\n",
              "GRADE_HUMAN_SCIENCES       float64\n",
              "GRADE_LANGUAGE_SCIENCES    float64\n",
              "GRADE_MATH_SCIENCES        float64\n",
              "GRADE_ESSAY                float64\n",
              "dtype: object"
            ]
          },
          "metadata": {
            "tags": []
          },
          "execution_count": 10
        }
      ]
    },
    {
      "cell_type": "markdown",
      "metadata": {
        "id": "zHnLJdJqzzjr"
      },
      "source": [
        "Most of them are correct. But some categorical types were handled incorrectly. Let's fix that."
      ]
    },
    {
      "cell_type": "code",
      "metadata": {
        "id": "vo6n5oXTz9wz"
      },
      "source": [
        "# change the type of columns for 'GENDER', 'RACE' and 'FOREING LANGUAGE' to category\r\n",
        "df['GENDER'] = df['GENDER'].astype('category')\r\n",
        "df['SKIN_COLOR'] = df['SKIN_COLOR'].astype('category')\r\n",
        "df['FOREIGN_LANGUAGE'] = df['FOREIGN_LANGUAGE'].astype('category')"
      ],
      "execution_count": 11,
      "outputs": []
    },
    {
      "cell_type": "markdown",
      "metadata": {
        "id": "B8563nWbzfaa"
      },
      "source": [
        "Let's check for duplicated and null values, as these can have a huge impact on our analysis."
      ]
    },
    {
      "cell_type": "code",
      "metadata": {
        "colab": {
          "base_uri": "https://localhost:8080/"
        },
        "id": "sE2ZsTLuknQh",
        "outputId": "a99ca5ab-ebae-4e17-a278-ce0584ffcf2c"
      },
      "source": [
        "# check for duplicates\r\n",
        "df.duplicated().sum()"
      ],
      "execution_count": 12,
      "outputs": [
        {
          "output_type": "execute_result",
          "data": {
            "text/plain": [
              "0"
            ]
          },
          "metadata": {
            "tags": []
          },
          "execution_count": 12
        }
      ]
    },
    {
      "cell_type": "markdown",
      "metadata": {
        "id": "W9XO4r1mrruG"
      },
      "source": [
        "No duplicates! What about null values?"
      ]
    },
    {
      "cell_type": "code",
      "metadata": {
        "colab": {
          "base_uri": "https://localhost:8080/"
        },
        "id": "NhGFWlyrkbwF",
        "outputId": "a24d62e5-4f27-4cc9-d3eb-3e3372ad27c7"
      },
      "source": [
        "# check for missing values\r\n",
        "df[important_columns].isna().sum()"
      ],
      "execution_count": 13,
      "outputs": [
        {
          "output_type": "execute_result",
          "data": {
            "text/plain": [
              "AGE                           0\n",
              "GENDER                        0\n",
              "SKIN_COLOR                    0\n",
              "FOREIGN_LANGUAGE              0\n",
              "GRADE_NATURAL_SCIENCES     1391\n",
              "GRADE_HUMAN_SCIENCES       1181\n",
              "GRADE_LANGUAGE_SCIENCES    1181\n",
              "GRADE_MATH_SCIENCES        1391\n",
              "GRADE_ESSAY                1181\n",
              "dtype: int64"
            ]
          },
          "metadata": {
            "tags": []
          },
          "execution_count": 13
        }
      ]
    },
    {
      "cell_type": "markdown",
      "metadata": {
        "id": "35CP3Uvpo6-9"
      },
      "source": [
        "Altought we don't have any duplicates, we've got a lot of missing values on our dataset. Let's take a look at these cases, to see if we can spot a reason for that."
      ]
    },
    {
      "cell_type": "code",
      "metadata": {
        "colab": {
          "base_uri": "https://localhost:8080/",
          "height": 430
        },
        "id": "RegOCBa3ohrH",
        "outputId": "1dfcdc34-567e-484c-ad55-d1fa85d8a4f4"
      },
      "source": [
        "# check the rows with na in selected columns\r\n",
        "df[df[important_columns].isna().any(axis=1)][important_columns]"
      ],
      "execution_count": 14,
      "outputs": [
        {
          "output_type": "execute_result",
          "data": {
            "text/html": [
              "<div>\n",
              "<style scoped>\n",
              "    .dataframe tbody tr th:only-of-type {\n",
              "        vertical-align: middle;\n",
              "    }\n",
              "\n",
              "    .dataframe tbody tr th {\n",
              "        vertical-align: top;\n",
              "    }\n",
              "\n",
              "    .dataframe thead th {\n",
              "        text-align: right;\n",
              "    }\n",
              "</style>\n",
              "<table border=\"1\" class=\"dataframe\">\n",
              "  <thead>\n",
              "    <tr style=\"text-align: right;\">\n",
              "      <th></th>\n",
              "      <th>AGE</th>\n",
              "      <th>GENDER</th>\n",
              "      <th>SKIN_COLOR</th>\n",
              "      <th>FOREIGN_LANGUAGE</th>\n",
              "      <th>GRADE_NATURAL_SCIENCES</th>\n",
              "      <th>GRADE_HUMAN_SCIENCES</th>\n",
              "      <th>GRADE_LANGUAGE_SCIENCES</th>\n",
              "      <th>GRADE_MATH_SCIENCES</th>\n",
              "      <th>GRADE_ESSAY</th>\n",
              "    </tr>\n",
              "  </thead>\n",
              "  <tbody>\n",
              "    <tr>\n",
              "      <th>3</th>\n",
              "      <td>20</td>\n",
              "      <td>Female</td>\n",
              "      <td>White</td>\n",
              "      <td>Spanish</td>\n",
              "      <td>NaN</td>\n",
              "      <td>NaN</td>\n",
              "      <td>NaN</td>\n",
              "      <td>NaN</td>\n",
              "      <td>NaN</td>\n",
              "    </tr>\n",
              "    <tr>\n",
              "      <th>4</th>\n",
              "      <td>18</td>\n",
              "      <td>Female</td>\n",
              "      <td>Brown</td>\n",
              "      <td>Spanish</td>\n",
              "      <td>NaN</td>\n",
              "      <td>NaN</td>\n",
              "      <td>NaN</td>\n",
              "      <td>NaN</td>\n",
              "      <td>NaN</td>\n",
              "    </tr>\n",
              "    <tr>\n",
              "      <th>6</th>\n",
              "      <td>22</td>\n",
              "      <td>Male</td>\n",
              "      <td>Brown</td>\n",
              "      <td>Spanish</td>\n",
              "      <td>NaN</td>\n",
              "      <td>NaN</td>\n",
              "      <td>NaN</td>\n",
              "      <td>NaN</td>\n",
              "      <td>NaN</td>\n",
              "    </tr>\n",
              "    <tr>\n",
              "      <th>9</th>\n",
              "      <td>55</td>\n",
              "      <td>Male</td>\n",
              "      <td>Black</td>\n",
              "      <td>English</td>\n",
              "      <td>NaN</td>\n",
              "      <td>NaN</td>\n",
              "      <td>NaN</td>\n",
              "      <td>NaN</td>\n",
              "      <td>NaN</td>\n",
              "    </tr>\n",
              "    <tr>\n",
              "      <th>15</th>\n",
              "      <td>16</td>\n",
              "      <td>Female</td>\n",
              "      <td>Brown</td>\n",
              "      <td>Spanish</td>\n",
              "      <td>416.1</td>\n",
              "      <td>NaN</td>\n",
              "      <td>NaN</td>\n",
              "      <td>385.6</td>\n",
              "      <td>NaN</td>\n",
              "    </tr>\n",
              "    <tr>\n",
              "      <th>...</th>\n",
              "      <td>...</td>\n",
              "      <td>...</td>\n",
              "      <td>...</td>\n",
              "      <td>...</td>\n",
              "      <td>...</td>\n",
              "      <td>...</td>\n",
              "      <td>...</td>\n",
              "      <td>...</td>\n",
              "      <td>...</td>\n",
              "    </tr>\n",
              "    <tr>\n",
              "      <th>5069</th>\n",
              "      <td>18</td>\n",
              "      <td>Female</td>\n",
              "      <td>White</td>\n",
              "      <td>English</td>\n",
              "      <td>NaN</td>\n",
              "      <td>379.0</td>\n",
              "      <td>440.6</td>\n",
              "      <td>NaN</td>\n",
              "      <td>360.0</td>\n",
              "    </tr>\n",
              "    <tr>\n",
              "      <th>5077</th>\n",
              "      <td>21</td>\n",
              "      <td>Male</td>\n",
              "      <td>White</td>\n",
              "      <td>English</td>\n",
              "      <td>NaN</td>\n",
              "      <td>436.0</td>\n",
              "      <td>451.4</td>\n",
              "      <td>NaN</td>\n",
              "      <td>320.0</td>\n",
              "    </tr>\n",
              "    <tr>\n",
              "      <th>5084</th>\n",
              "      <td>22</td>\n",
              "      <td>Male</td>\n",
              "      <td>Black</td>\n",
              "      <td>English</td>\n",
              "      <td>NaN</td>\n",
              "      <td>NaN</td>\n",
              "      <td>NaN</td>\n",
              "      <td>NaN</td>\n",
              "      <td>NaN</td>\n",
              "    </tr>\n",
              "    <tr>\n",
              "      <th>5085</th>\n",
              "      <td>21</td>\n",
              "      <td>Male</td>\n",
              "      <td>White</td>\n",
              "      <td>Spanish</td>\n",
              "      <td>NaN</td>\n",
              "      <td>NaN</td>\n",
              "      <td>NaN</td>\n",
              "      <td>NaN</td>\n",
              "      <td>NaN</td>\n",
              "    </tr>\n",
              "    <tr>\n",
              "      <th>5093</th>\n",
              "      <td>24</td>\n",
              "      <td>Male</td>\n",
              "      <td>Indigenous</td>\n",
              "      <td>English</td>\n",
              "      <td>NaN</td>\n",
              "      <td>NaN</td>\n",
              "      <td>NaN</td>\n",
              "      <td>NaN</td>\n",
              "      <td>NaN</td>\n",
              "    </tr>\n",
              "  </tbody>\n",
              "</table>\n",
              "<p>1398 rows × 9 columns</p>\n",
              "</div>"
            ],
            "text/plain": [
              "      AGE  GENDER  ... GRADE_MATH_SCIENCES GRADE_ESSAY\n",
              "3      20  Female  ...                 NaN         NaN\n",
              "4      18  Female  ...                 NaN         NaN\n",
              "6      22    Male  ...                 NaN         NaN\n",
              "9      55    Male  ...                 NaN         NaN\n",
              "15     16  Female  ...               385.6         NaN\n",
              "...   ...     ...  ...                 ...         ...\n",
              "5069   18  Female  ...                 NaN       360.0\n",
              "5077   21    Male  ...                 NaN       320.0\n",
              "5084   22    Male  ...                 NaN         NaN\n",
              "5085   21    Male  ...                 NaN         NaN\n",
              "5093   24    Male  ...                 NaN         NaN\n",
              "\n",
              "[1398 rows x 9 columns]"
            ]
          },
          "metadata": {
            "tags": []
          },
          "execution_count": 14
        }
      ]
    },
    {
      "cell_type": "markdown",
      "metadata": {
        "id": "KaexLDDouTHZ"
      },
      "source": [
        "It looks like the everyone has their personal information complete, but not everybody has a score. This is because students have to fill a form in order to take the exam, but some of them, don't actually take the test.\r\n",
        "\r\n",
        "Since our analysis is focused only on those who completed the whole exam, we're going to discard the rows with missing information for the grades."
      ]
    },
    {
      "cell_type": "code",
      "metadata": {
        "id": "5v75AID-vy0y"
      },
      "source": [
        "df.dropna(subset=['GRADE_NATURAL_SCIENCES','GRADE_HUMAN_SCIENCES','GRADE_LANGUAGE_SCIENCES','GRADE_MATH_SCIENCES','GRADE_ESSAY'], inplace=True)"
      ],
      "execution_count": 15,
      "outputs": []
    },
    {
      "cell_type": "markdown",
      "metadata": {
        "id": "6-5NrO1zwN-O"
      },
      "source": [
        "Now, let's do some graphical EDA. For the numericals, we're going to plot the distribution, for the categoricals, the count/proportion."
      ]
    },
    {
      "cell_type": "code",
      "metadata": {
        "id": "lbs5rNfwGKNQ",
        "outputId": "08f1cd1d-0c0e-4300-81ef-57920ebd31fc",
        "colab": {
          "base_uri": "https://localhost:8080/",
          "height": 262
        }
      },
      "source": [
        "# Plot the 'Skin Color' count\r\n",
        "df['IN_TREINEIRO'].value_counts(dropna=False).plot(kind='bar', color=['#1f77b4', '#ff7f0e', '#2ca02c', '#d62728', '#9467bd', '#8c564b'], alpha=.2)\r\n",
        "plt.show()"
      ],
      "execution_count": 48,
      "outputs": [
        {
          "output_type": "display_data",
          "data": {
            "image/png": "[encoded data removed]",
            "text/plain": [
              "<Figure size 432x288 with 1 Axes>"
            ]
          },
          "metadata": {
            "tags": [],
            "needs_background": "light"
          }
        }
      ]
    },
    {
      "cell_type": "code",
      "metadata": {
        "colab": {
          "base_uri": "https://localhost:8080/",
          "height": 321
        },
        "id": "4r65uWZW3nhc",
        "outputId": "0e7a11b9-1b4d-4c6e-ed7f-24483fdf2b98"
      },
      "source": [
        "# Plot the 'Skin Color' count\r\n",
        "df['SKIN_COLOR'].value_counts(dropna=False).plot(kind='bar', color=['#1f77b4', '#ff7f0e', '#2ca02c', '#d62728', '#9467bd', '#8c564b'], alpha=.2)\r\n",
        "plt.show()"
      ],
      "execution_count": 16,
      "outputs": [
        {
          "output_type": "display_data",
          "data": {
            "image/png": "[encoded data removed]",
            "text/plain": [
              "<Figure size 432x288 with 1 Axes>"
            ]
          },
          "metadata": {
            "tags": [],
            "needs_background": "light"
          }
        }
      ]
    },
    {
      "cell_type": "code",
      "metadata": {
        "colab": {
          "base_uri": "https://localhost:8080/",
          "height": 291
        },
        "id": "EIK5xCUk440S",
        "outputId": "eaee8d88-9818-47e5-db34-06fc5bab4772"
      },
      "source": [
        "# Plot the gender count\r\n",
        "df['GENDER'].value_counts().plot(kind='bar', color=['#d62728', '#1f77b4'], alpha=.2)\r\n",
        "plt.show()"
      ],
      "execution_count": 17,
      "outputs": [
        {
          "output_type": "display_data",
          "data": {
            "image/png": "[encoded data removed]",
            "text/plain": [
              "<Figure size 432x288 with 1 Axes>"
            ]
          },
          "metadata": {
            "tags": [],
            "needs_background": "light"
          }
        }
      ]
    },
    {
      "cell_type": "code",
      "metadata": {
        "colab": {
          "base_uri": "https://localhost:8080/",
          "height": 295
        },
        "id": "F7W-Kiz56KiE",
        "outputId": "7366cf67-2a1a-4ea8-aeaa-2b581a7cfec0"
      },
      "source": [
        "# Plot the 'foreign language' count\r\n",
        "df['FOREIGN_LANGUAGE'].value_counts().plot(kind='bar', color=['#d62728', '#1f77b4'], alpha=.2)\r\n",
        "plt.show()"
      ],
      "execution_count": 18,
      "outputs": [
        {
          "output_type": "display_data",
          "data": {
            "image/png": "[encoded data removed]",
            "text/plain": [
              "<Figure size 432x288 with 1 Axes>"
            ]
          },
          "metadata": {
            "tags": [],
            "needs_background": "light"
          }
        }
      ]
    },
    {
      "cell_type": "code",
      "metadata": {
        "colab": {
          "base_uri": "https://localhost:8080/",
          "height": 262
        },
        "id": "hQ9r5L8EyWF_",
        "outputId": "c8dca200-48db-47ea-a3c1-15d503fe562f"
      },
      "source": [
        "# Plot the 'Internet Access' count (A=\"Don't have internet Access at home\", B=\"Have internet Access at home\")\r\n",
        "df['Q025'].value_counts().plot(kind='bar', color=['#d62728', '#1f77b4'], alpha=.2)\r\n",
        "plt.show()"
      ],
      "execution_count": 19,
      "outputs": [
        {
          "output_type": "display_data",
          "data": {
            "image/png": "[encoded data removed]",
            "text/plain": [
              "<Figure size 432x288 with 1 Axes>"
            ]
          },
          "metadata": {
            "tags": [],
            "needs_background": "light"
          }
        }
      ]
    },
    {
      "cell_type": "code",
      "metadata": {
        "colab": {
          "base_uri": "https://localhost:8080/",
          "height": 265
        },
        "id": "jnBRoyqNGUu2",
        "outputId": "135e80d5-881d-4714-8b93-212d4288516f"
      },
      "source": [
        "# Plot a histogram for the  'Essay Score'\r\n",
        "df['GRADE_ESSAY'].plot(kind='hist', alpha=0.2)\r\n",
        "plt.show()"
      ],
      "execution_count": 20,
      "outputs": [
        {
          "output_type": "display_data",
          "data": {
            "image/png": "[encoded data removed]",
            "text/plain": [
              "<Figure size 432x288 with 1 Axes>"
            ]
          },
          "metadata": {
            "tags": [],
            "needs_background": "light"
          }
        }
      ]
    },
    {
      "cell_type": "code",
      "metadata": {
        "colab": {
          "base_uri": "https://localhost:8080/",
          "height": 265
        },
        "id": "MsjoRQRMJ6Sd",
        "outputId": "5ce21c30-4313-4028-8c07-6541a048e156"
      },
      "source": [
        "# Plot a histogram for the  'Math Score'\r\n",
        "df['GRADE_MATH_SCIENCES'].plot(kind='hist', alpha=0.2)\r\n",
        "plt.show()"
      ],
      "execution_count": 21,
      "outputs": [
        {
          "output_type": "display_data",
          "data": {
            "image/png": "[encoded data removed]",
            "text/plain": [
              "<Figure size 432x288 with 1 Axes>"
            ]
          },
          "metadata": {
            "tags": [],
            "needs_background": "light"
          }
        }
      ]
    },
    {
      "cell_type": "markdown",
      "metadata": {
        "id": "huJpKN2IL5r7"
      },
      "source": [
        "Let's now  define the significance level (alpha) for our tests, and the function we're going to be using for getting the bootstrap distributions.\r\n",
        "\r\n",
        "Also, let's compute the total score for each student."
      ]
    },
    {
      "cell_type": "code",
      "metadata": {
        "id": "8XdVQeMTPuVE"
      },
      "source": [
        "# define our significance level as 5%\r\n",
        "alpha = 0.05"
      ],
      "execution_count": 22,
      "outputs": []
    },
    {
      "cell_type": "code",
      "metadata": {
        "id": "Sd7X6EwSNRxp"
      },
      "source": [
        "def get_bootstrap_means(group1, group2):\r\n",
        "#   \"\"\" Compute N bootstrap sample means for for two groups\"\"\"\r\n",
        "  n_bootstraps = 1000\r\n",
        "  group1_mean_list, group2_mean_list = [], []\r\n",
        "  for _ in range(n_bootstraps):\r\n",
        "    # Take the bootstrap sample for each group independently\r\n",
        "    group1_mean = group1.sample(group1.shape[0], replace=True).mean()\r\n",
        "    group2_mean = group2.sample(group2.shape[0], replace=True).mean()\r\n",
        "    group1_mean_list.append(group1_mean)\r\n",
        "    group2_mean_list.append(group2_mean)\r\n",
        "  \r\n",
        "  return pd.Series(group1_mean_list), pd.Series(group2_mean_list)"
      ],
      "execution_count": 23,
      "outputs": []
    },
    {
      "cell_type": "code",
      "metadata": {
        "id": "xSy5cL7JStcN"
      },
      "source": [
        "# Create a column with the total score\r\n",
        "df['TOTAL_SCORE'] = df[['GRADE_NATURAL_SCIENCES','GRADE_HUMAN_SCIENCES','GRADE_LANGUAGE_SCIENCES','GRADE_MATH_SCIENCES','GRADE_ESSAY']].sum(axis=1)"
      ],
      "execution_count": 24,
      "outputs": []
    },
    {
      "cell_type": "code",
      "metadata": {
        "id": "knv4GxfeHRbY"
      },
      "source": [
        "# create an average income columns\r\n",
        "# this is not precise, but an estimative of the family income\r\n",
        "df['AVERAGE_INCOME'] = df['Q006'].map({'A':0,\r\n",
        "                                        'B':(998/2),\r\n",
        "                                        'C':(998+1497)/2,\r\n",
        "                                        'D':(1497+1996)/2,\r\n",
        "                                        'E':(1996+2495)/2,\r\n",
        "                                        'F':(2495+2994)/2,\r\n",
        "                                        'G':(2994+3992)/2,\r\n",
        "                                        'H':(3992+4990)/2,\r\n",
        "                                        'I':(4990+5988)/2,\r\n",
        "                                        'J':(5988+6986)/2,\r\n",
        "                                        'K':(6986+7984)/2,\r\n",
        "                                        'L':(7984+8982)/2,\r\n",
        "                                        'M':(8982+9980)/2,\r\n",
        "                                        'N':(9980+11976)/2,\r\n",
        "                                        'O':(11976+14940)/2,\r\n",
        "                                        'P':(14940+19960)/2,\r\n",
        "                                        'Q':(1996/2)})"
      ],
      "execution_count": 65,
      "outputs": []
    },
    {
      "cell_type": "markdown",
      "metadata": {
        "id": "yaBiwPSnK9rM"
      },
      "source": [
        "## 4. Modeling"
      ]
    },
    {
      "cell_type": "markdown",
      "metadata": {
        "id": "jl2HZ6fvMjfA"
      },
      "source": [
        "### 4.1 - Do brazilian students declared themselves as white skinned have higher average scores than those self declared as brown skinned?\r\n",
        "\r\n",
        "To answer this question, we're going to perform the following hypothesis test:\r\n",
        "\r\n"
      ]
    },
    {
      "cell_type": "markdown",
      "metadata": {
        "id": "NF5RfDlv9ig2"
      },
      "source": [
        "$$ H_0 : \\mu_{score\\_white} \\le \\mu_{score\\_brown} $$"
      ]
    },
    {
      "cell_type": "markdown",
      "metadata": {
        "id": "krjIxa129h9k"
      },
      "source": [
        "$$ H_1 : \\mu_{score\\_white} \\gt \\mu_{score\\_brown} $$"
      ]
    },
    {
      "cell_type": "markdown",
      "metadata": {
        "id": "wv_ffqQoZbih"
      },
      "source": [
        "First, we're going to generate 10.000 bootstrap means for each group, and use that to empirically create the sample distribution for the mean score."
      ]
    },
    {
      "cell_type": "code",
      "metadata": {
        "id": "HQ3gZzZXOOmW"
      },
      "source": [
        "white_mean_score_list, brown_mean_score_list = get_bootstrap_means(df.query('SKIN_COLOR==\"White\"')['TOTAL_SCORE'], df.query('SKIN_COLOR==\"Brown\"')['TOTAL_SCORE'])"
      ],
      "execution_count": 58,
      "outputs": []
    },
    {
      "cell_type": "code",
      "metadata": {
        "colab": {
          "base_uri": "https://localhost:8080/",
          "height": 265
        },
        "id": "W4FK1d19OdeM",
        "outputId": "bda5f55b-7edb-4c02-8dc1-00f706452ab4"
      },
      "source": [
        "white_mean_score_list.plot(kind='hist', alpha=.2, label=\"White\")\r\n",
        "brown_mean_score_list.plot(kind='hist', alpha=.2, label=\"Brown\")\r\n",
        "plt.legend()\r\n",
        "plt.show()"
      ],
      "execution_count": 59,
      "outputs": [
        {
          "output_type": "display_data",
          "data": {
            "image/png": "[encoded data removed]",
            "text/plain": [
              "<Figure size 432x288 with 1 Axes>"
            ]
          },
          "metadata": {
            "tags": [],
            "needs_background": "light"
          }
        }
      ]
    },
    {
      "cell_type": "markdown",
      "metadata": {
        "id": "NHF8AlWGPFkU"
      },
      "source": [
        "Let's calculate the p-value and the 'bootstrap equivalent' t-statistic for our hypothesis."
      ]
    },
    {
      "cell_type": "code",
      "metadata": {
        "colab": {
          "base_uri": "https://localhost:8080/"
        },
        "id": "EJtPJ2SbPMTK",
        "outputId": "ee59a71b-78c0-4091-cc77-8fd2dedc5f19"
      },
      "source": [
        "# compute the probability of h0\r\n",
        "pvalue_boot = (white_mean_score_list <= brown_mean_score_list).mean()\r\n",
        "\r\n",
        "# Compute the bootstrap equivalent for the t-statistic\r\n",
        "diff = white_mean_score_list-brown_mean_score_list\r\n",
        "statistic_boot = (diff.mean())/diff.std()\r\n",
        "\r\n",
        "statistic_boot, pvalue_boot"
      ],
      "execution_count": 57,
      "outputs": [
        {
          "output_type": "execute_result",
          "data": {
            "text/plain": [
              "(1.1796859239517177, 0.126)"
            ]
          },
          "metadata": {
            "tags": []
          },
          "execution_count": 57
        }
      ]
    },
    {
      "cell_type": "markdown",
      "metadata": {
        "id": "mjVrUUGRY5gO"
      },
      "source": [
        "Let's use Scipy to compare our bootstrap hypotesis test, with the t-test commonly used on these contexts, that is, the \"two sample t-test\"."
      ]
    },
    {
      "cell_type": "code",
      "metadata": {
        "colab": {
          "base_uri": "https://localhost:8080/"
        },
        "id": "hOtTomWKYY-d",
        "outputId": "f32db2c4-b377-4bbc-ae32-58ba14ebc672"
      },
      "source": [
        "# use scipy.stats to perform a \"two-sample t-test\"\r\n",
        "statistic_ttest, pvalue_ttest = stats.ttest_ind(df.query('SKIN_COLOR==\"White\"')['TOTAL_SCORE'], df.query('SKIN_COLOR==\"Brown\"')['TOTAL_SCORE'])\r\n",
        "statistic_ttest, pvalue_ttest/2"
      ],
      "execution_count": 54,
      "outputs": [
        {
          "output_type": "execute_result",
          "data": {
            "text/plain": [
              "(12.942333582285, 1.2201053368599237e-37)"
            ]
          },
          "metadata": {
            "tags": []
          },
          "execution_count": 54
        }
      ]
    },
    {
      "cell_type": "markdown",
      "metadata": {
        "id": "VrjbUIAZdck_"
      },
      "source": [
        "As expected, the empirical (bootstrap) hypotesis test has reached the same conclusion as the parametric t-test."
      ]
    },
    {
      "cell_type": "code",
      "metadata": {
        "colab": {
          "base_uri": "https://localhost:8080/"
        },
        "id": "svF6dZTHe2Ie",
        "outputId": "b7cf25b3-a779-45ef-9a85-e89870d7503d"
      },
      "source": [
        "# compare the boot pvalue and ttest pvalue to the 5th decimal\r\n",
        "print(\"Bootstrap P-Value:\", round(pvalue_boot, 5))\r\n",
        "print(\"T-Test P-Value:\", round(pvalue_ttest/2, 5))"
      ],
      "execution_count": 29,
      "outputs": [
        {
          "output_type": "stream",
          "text": [
            "Bootstrap P-Value: 0.0\n",
            "T-Test P-Value: 0.0\n"
          ],
          "name": "stdout"
        }
      ]
    },
    {
      "cell_type": "code",
      "metadata": {
        "colab": {
          "base_uri": "https://localhost:8080/"
        },
        "id": "gwUIR3NlZWdg",
        "outputId": "ad277033-f9a1-4eff-b65e-fd73e81932b3"
      },
      "source": [
        "# Compare the p_value to the significance level\r\n",
        "if (pvalue_boot < alpha):\r\n",
        "  print(\"Reject the Null Hypothesis.\")\r\n",
        "else:\r\n",
        "  print(\"Fail to Reject the Null Hypothesis.\")"
      ],
      "execution_count": 30,
      "outputs": [
        {
          "output_type": "stream",
          "text": [
            "Reject the Null Hypothesis.\n"
          ],
          "name": "stdout"
        }
      ]
    },
    {
      "cell_type": "markdown",
      "metadata": {
        "id": "4--txtfdQwxD"
      },
      "source": [
        "**At the significance level of 0.05, we have evidence to reject the null hypothesis in favor of the alternative. Brazilian students self declared as white skinned have higher average scores than those with brown skin.**"
      ]
    },
    {
      "cell_type": "markdown",
      "metadata": {
        "id": "6Rm7hv0PRbda"
      },
      "source": [
        "### 4.1 Do brazilian students declared themselves as white skinned have higher average family income than those self declared as brown skinned?"
      ]
    },
    {
      "cell_type": "markdown",
      "metadata": {
        "id": "3Ihcn8eSR0Ev"
      },
      "source": [
        "$$ H_0 : \\mu_{income\\_white} \\le \\mu_{income\\_brown} $$"
      ]
    },
    {
      "cell_type": "markdown",
      "metadata": {
        "id": "lLeFj5sVR0Ew"
      },
      "source": [
        "$$ H_1 : \\mu_{income\\_white} \\gt \\mu_{income\\_brown} $$"
      ]
    },
    {
      "cell_type": "code",
      "metadata": {
        "id": "6dTrUXq6SBOC"
      },
      "source": [
        "white_mean_income_list, brown_mean_income_list = get_bootstrap_means(df.query('SKIN_COLOR==\"White\"')['AVERAGE_INCOME'], df.query('SKIN_COLOR==\"Brown\"')['AVERAGE_INCOME'])"
      ],
      "execution_count": 69,
      "outputs": []
    },
    {
      "cell_type": "code",
      "metadata": {
        "colab": {
          "base_uri": "https://localhost:8080/",
          "height": 265
        },
        "id": "1Fz-s2kCSEB0",
        "outputId": "bc48c884-d0f5-4e59-82e9-cf82c1c36377"
      },
      "source": [
        "white_mean_income_list.plot(kind='hist', alpha=.2, label=\"White\")\r\n",
        "brown_mean_income_list.plot(kind='hist', alpha=.2, label=\"Brown\")\r\n",
        "plt.legend()\r\n",
        "plt.show()"
      ],
      "execution_count": 70,
      "outputs": [
        {
          "output_type": "display_data",
          "data": {
            "image/png": "[encoded data removed]",
            "text/plain": [
              "<Figure size 432x288 with 1 Axes>"
            ]
          },
          "metadata": {
            "tags": [],
            "needs_background": "light"
          }
        }
      ]
    },
    {
      "cell_type": "markdown",
      "metadata": {
        "id": "j6FYbmupRvkf"
      },
      "source": [
        "Let's calculate the p-value and the 'bootstrap equivalent' t-statistic for our hypothesis."
      ]
    },
    {
      "cell_type": "code",
      "metadata": {
        "colab": {
          "base_uri": "https://localhost:8080/"
        },
        "id": "_dTQELyxRvkg",
        "outputId": "eb188259-d5c1-45ab-bb38-28c69ba47736"
      },
      "source": [
        "# compute the probability of h0\r\n",
        "pvalue_boot = (white_mean_income_list <= brown_mean_income_list).mean()\r\n",
        "\r\n",
        "# Compute the bootstrap equivalent for the t-statistic\r\n",
        "diff = white_mean_income_list-brown_mean_income_list\r\n",
        "statistic_boot = (diff.mean())/diff.std()\r\n",
        "\r\n",
        "statistic_boot, pvalue_boot"
      ],
      "execution_count": 76,
      "outputs": [
        {
          "output_type": "execute_result",
          "data": {
            "text/plain": [
              "(14.42391642971071, 0.0)"
            ]
          },
          "metadata": {
            "tags": []
          },
          "execution_count": 76
        }
      ]
    },
    {
      "cell_type": "markdown",
      "metadata": {
        "id": "B5P1AY_OYyLX"
      },
      "source": [
        "### 4.2 - Do brazilian students declared themselves as brown skinned have higher average scores than those self declared as black?\r\n",
        "\r\n",
        "To answer this question, we're going to perform the following hypothesis test:"
      ]
    },
    {
      "cell_type": "markdown",
      "metadata": {
        "id": "cyzY2Yh_-3aE"
      },
      "source": [
        "$$H_0: \\mu_{score\\_brown} \\le \\mu_{score\\_black}$$"
      ]
    },
    {
      "cell_type": "markdown",
      "metadata": {
        "id": "leZ4RzIG-4X2"
      },
      "source": [
        "$$H_1: \\mu_{score\\_brown} \\gt \\mu_{score\\_black}$$"
      ]
    },
    {
      "cell_type": "markdown",
      "metadata": {
        "id": "Chgb2CregYd-"
      },
      "source": [
        "Again, we're going to generate 10.000 bootstrap means for each group, and use that to empirically create the sample distribution for the mean."
      ]
    },
    {
      "cell_type": "code",
      "metadata": {
        "id": "Xr5yFw8vYyLY"
      },
      "source": [
        "brown_mean_score_list, black_mean_score_list = get_bootstrap_means(df.query('SKIN_COLOR==\"Brown\"')['TOTAL_SCORE'], df.query('SKIN_COLOR==\"Black\"')['TOTAL_SCORE'])"
      ],
      "execution_count": 31,
      "outputs": []
    },
    {
      "cell_type": "code",
      "metadata": {
        "colab": {
          "base_uri": "https://localhost:8080/",
          "height": 265
        },
        "id": "90XzXkkMYyLY",
        "outputId": "a172afec-dd8b-4075-8fb0-77536695364f"
      },
      "source": [
        "black_mean_score_list.plot(kind='hist', alpha=.2, label=\"Black\")\r\n",
        "brown_mean_score_list.plot(kind='hist', alpha=.2, label=\"Brown\")\r\n",
        "plt.legend()\r\n",
        "plt.show()"
      ],
      "execution_count": 32,
      "outputs": [
        {
          "output_type": "display_data",
          "data": {
            "image/png": "[encoded data removed]",
            "text/plain": [
              "<Figure size 432x288 with 1 Axes>"
            ]
          },
          "metadata": {
            "tags": [],
            "needs_background": "light"
          }
        }
      ]
    },
    {
      "cell_type": "markdown",
      "metadata": {
        "id": "Ycn2nGxoYyLY"
      },
      "source": [
        "Let's calculate the p-value and the 'bootstrap equivalent' t-statistic for our hypothesis."
      ]
    },
    {
      "cell_type": "code",
      "metadata": {
        "colab": {
          "base_uri": "https://localhost:8080/"
        },
        "id": "8v6WbGDhYyLY",
        "outputId": "62b1f494-5de6-49c2-811c-41d1c015ac03"
      },
      "source": [
        "# compute the probability of h0\r\n",
        "pvalue_boot = (brown_mean_score_list <= black_mean_score_list).mean()\r\n",
        "\r\n",
        "# Compute the bootstrap equivalent for the t-statistic\r\n",
        "diff = brown_mean_score_list-black_mean_score_list\r\n",
        "statistic_boot = (diff.mean())/diff.std()\r\n",
        "\r\n",
        "statistic_boot, pvalue_boot"
      ],
      "execution_count": 33,
      "outputs": [
        {
          "output_type": "execute_result",
          "data": {
            "text/plain": [
              "(0.15954727310883035, 0.434)"
            ]
          },
          "metadata": {
            "tags": []
          },
          "execution_count": 33
        }
      ]
    },
    {
      "cell_type": "markdown",
      "metadata": {
        "id": "kvamv1dVg1FJ"
      },
      "source": [
        "Let's use Scipy to compare our bootstrap hypotesis test, with the 'conventional' \"two sample t-test\"."
      ]
    },
    {
      "cell_type": "code",
      "metadata": {
        "colab": {
          "base_uri": "https://localhost:8080/"
        },
        "id": "EaK31Xczg1FP",
        "outputId": "104c1dcf-4d89-430c-c184-3a23afc999c7"
      },
      "source": [
        "# use scipy.stats to perform a \"two-sample t-test\"\r\n",
        "statistic_ttest, pvalue_ttest = stats.ttest_ind(df.query('SKIN_COLOR==\"Brown\"')['TOTAL_SCORE'], df.query('SKIN_COLOR==\"Black\"')['TOTAL_SCORE'])\r\n",
        "statistic_ttest, pvalue_ttest/2"
      ],
      "execution_count": 34,
      "outputs": [
        {
          "output_type": "execute_result",
          "data": {
            "text/plain": [
              "(0.1298328155589739, 0.4483554166808009)"
            ]
          },
          "metadata": {
            "tags": []
          },
          "execution_count": 34
        }
      ]
    },
    {
      "cell_type": "markdown",
      "metadata": {
        "id": "NH8exnspg1FP"
      },
      "source": [
        "As expected, the empirical (bootstrap) hypotesis test has reached the same conclusion as the parametric t-test."
      ]
    },
    {
      "cell_type": "code",
      "metadata": {
        "colab": {
          "base_uri": "https://localhost:8080/"
        },
        "id": "txX9R-QBg1FP",
        "outputId": "e719ad4d-d65b-4a49-e312-e7c00f5f9065"
      },
      "source": [
        "# compare the boot pvalue and ttest pvalue to the 5th decimal\r\n",
        "print(\"Bootstrap P-Value:\", round(pvalue_boot, 5))\r\n",
        "print(\"T-Test P-Value:\", round(pvalue_ttest/2, 5))"
      ],
      "execution_count": 35,
      "outputs": [
        {
          "output_type": "stream",
          "text": [
            "Bootstrap P-Value: 0.434\n",
            "T-Test P-Value: 0.44836\n"
          ],
          "name": "stdout"
        }
      ]
    },
    {
      "cell_type": "code",
      "metadata": {
        "colab": {
          "base_uri": "https://localhost:8080/"
        },
        "id": "mfAeeTM4g1FQ",
        "outputId": "6f1ed126-1829-439c-d99b-c4365a85d80d"
      },
      "source": [
        "# Compare the p_value to the significance level\r\n",
        "if (pvalue_boot < alpha):\r\n",
        "  print(\"Reject the Null Hypothesis.\")\r\n",
        "else:\r\n",
        "  print(\"Fail to Reject the Null Hypothesis.\")"
      ],
      "execution_count": 36,
      "outputs": [
        {
          "output_type": "stream",
          "text": [
            "Fail to Reject the Null Hypothesis.\n"
          ],
          "name": "stdout"
        }
      ]
    },
    {
      "cell_type": "markdown",
      "metadata": {
        "id": "KwoH15-2YyLZ"
      },
      "source": [
        "**At the significance level of 0.05, we don't have evidence to reject the null hypothesis. Brazilian students self declared as brown skinned don't have higher average scores than those self declared as black.**"
      ]
    },
    {
      "cell_type": "markdown",
      "metadata": {
        "id": "d4MGt1quTrje"
      },
      "source": [
        "### 4.2 - Do brazilian students declared themselves as brown skinned have higher average family income than those self declared as black?"
      ]
    },
    {
      "cell_type": "markdown",
      "metadata": {
        "id": "pKE_GTn0TuWn"
      },
      "source": [
        "$$ H_0 : \\mu_{income\\_brown} \\le \\mu_{income\\_black} $$"
      ]
    },
    {
      "cell_type": "markdown",
      "metadata": {
        "id": "Z9GJAIFvTuWn"
      },
      "source": [
        "$$ H_1 : \\mu_{income\\_brown} \\gt \\mu_{income\\__black} $$"
      ]
    },
    {
      "cell_type": "code",
      "metadata": {
        "id": "3NMAO7Q7TuWn"
      },
      "source": [
        "brown_mean_income_list, black_mean_income_list = get_bootstrap_means(df.query('SKIN_COLOR==\"Brown\"')['AVERAGE_INCOME'], df.query('SKIN_COLOR==\"Black\"')['AVERAGE_INCOME'])"
      ],
      "execution_count": 78,
      "outputs": []
    },
    {
      "cell_type": "code",
      "metadata": {
        "colab": {
          "base_uri": "https://localhost:8080/",
          "height": 265
        },
        "id": "CMfRMcwxTuWo",
        "outputId": "7c0f8fe6-e4da-4487-e2ad-d37268fb8e76"
      },
      "source": [
        "brown_mean_income_list.plot(kind='hist', alpha=.2, label=\"Brown\")\r\n",
        "black_mean_income_list.plot(kind='hist', alpha=.2, label=\"Black\")\r\n",
        "plt.legend()\r\n",
        "plt.show()"
      ],
      "execution_count": 79,
      "outputs": [
        {
          "output_type": "display_data",
          "data": {
            "image/png": "[encoded data removed]",
            "text/plain": [
              "<Figure size 432x288 with 1 Axes>"
            ]
          },
          "metadata": {
            "tags": [],
            "needs_background": "light"
          }
        }
      ]
    },
    {
      "cell_type": "markdown",
      "metadata": {
        "id": "TWg3wSo_TuWo"
      },
      "source": [
        "Let's calculate the p-value and the 'bootstrap equivalent' t-statistic for our hypothesis."
      ]
    },
    {
      "cell_type": "code",
      "metadata": {
        "colab": {
          "base_uri": "https://localhost:8080/"
        },
        "id": "pbRxfB0_TuWp",
        "outputId": "5505c66c-a3bc-46b6-9d95-ce61a98249fa"
      },
      "source": [
        "# compute the probability of h0\r\n",
        "pvalue_boot = (brown_mean_income_list <= black_mean_income_list).mean()\r\n",
        "\r\n",
        "# Compute the bootstrap equivalent for the t-statistic\r\n",
        "diff = brown_mean_income_list-black_mean_income_list\r\n",
        "statistic_boot = (diff.mean())/diff.std()\r\n",
        "\r\n",
        "statistic_boot, pvalue_boot"
      ],
      "execution_count": 80,
      "outputs": [
        {
          "output_type": "execute_result",
          "data": {
            "text/plain": [
              "(1.5935846285647595, 0.055)"
            ]
          },
          "metadata": {
            "tags": []
          },
          "execution_count": 80
        }
      ]
    },
    {
      "cell_type": "markdown",
      "metadata": {
        "id": "J9eTp4wiU1U3"
      },
      "source": [
        "Let's use Scipy to compare our bootstrap hypotesis test, with the 'conventional' \"two sample t-test\"."
      ]
    },
    {
      "cell_type": "code",
      "metadata": {
        "colab": {
          "base_uri": "https://localhost:8080/"
        },
        "id": "CiEISu1UU1U4",
        "outputId": "9b5257cc-fbf3-46ae-ca1a-c66d1c115c7c"
      },
      "source": [
        "# use scipy.stats to perform a \"two-sample t-test\"\r\n",
        "statistic_ttest, pvalue_ttest = stats.ttest_ind(df.query('SKIN_COLOR==\"Brown\"')['AVERAGE_INCOME'], df.query('SKIN_COLOR==\"Black\"')['AVERAGE_INCOME'])\r\n",
        "statistic_ttest, pvalue_ttest/2"
      ],
      "execution_count": 81,
      "outputs": [
        {
          "output_type": "execute_result",
          "data": {
            "text/plain": [
              "(1.4280637793811592, 0.07670930279154838)"
            ]
          },
          "metadata": {
            "tags": []
          },
          "execution_count": 81
        }
      ]
    },
    {
      "cell_type": "markdown",
      "metadata": {
        "id": "Qzb6eK6fU1U5"
      },
      "source": [
        "As expected, the empirical (bootstrap) hypotesis test has reached the same conclusion as the parametric t-test."
      ]
    },
    {
      "cell_type": "code",
      "metadata": {
        "colab": {
          "base_uri": "https://localhost:8080/"
        },
        "id": "_92dvYnwU1U5",
        "outputId": "0cab92db-6390-472a-c5a1-3c5c0eef027c"
      },
      "source": [
        "# compare the boot pvalue and ttest pvalue to the 5th decimal\r\n",
        "print(\"Bootstrap P-Value:\", round(pvalue_boot, 5))\r\n",
        "print(\"T-Test P-Value:\", round(pvalue_ttest/2, 5))"
      ],
      "execution_count": 82,
      "outputs": [
        {
          "output_type": "stream",
          "text": [
            "Bootstrap P-Value: 0.055\n",
            "T-Test P-Value: 0.07671\n"
          ],
          "name": "stdout"
        }
      ]
    },
    {
      "cell_type": "code",
      "metadata": {
        "colab": {
          "base_uri": "https://localhost:8080/"
        },
        "id": "G6pOXNNZU1U6",
        "outputId": "775f1fb9-9689-4dae-82b7-76a5832128b3"
      },
      "source": [
        "# Compare the p_value to the significance level\r\n",
        "if (pvalue_boot < alpha):\r\n",
        "  print(\"Reject the Null Hypothesis.\")\r\n",
        "else:\r\n",
        "  print(\"Fail to Reject the Null Hypothesis.\")"
      ],
      "execution_count": 83,
      "outputs": [
        {
          "output_type": "stream",
          "text": [
            "Fail to Reject the Null Hypothesis.\n"
          ],
          "name": "stdout"
        }
      ]
    },
    {
      "cell_type": "markdown",
      "metadata": {
        "id": "dxIrK-2uVI3N"
      },
      "source": [
        "**At the significance level of 0.05, we don't have evidence to reject the null hypothesis. Brazilian students self declared as brown skinned don't have higher average family income than those self declared as black.**"
      ]
    },
    {
      "cell_type": "markdown",
      "metadata": {
        "id": "vRVkJj6dTbyZ"
      },
      "source": [
        "### 4.3 - Do brazilian female students have higher essay average scores than male students?\r\n",
        "\r\n",
        "To answer this question, we're going to perform the following hypothesis test:"
      ]
    },
    {
      "cell_type": "markdown",
      "metadata": {
        "id": "l9mH9XUr-utt"
      },
      "source": [
        "$$H_0: \\mu_{score\\_female} \\le \\mu_{score\\_male}$$"
      ]
    },
    {
      "cell_type": "markdown",
      "metadata": {
        "id": "e6Fuwlks-yDV"
      },
      "source": [
        "$$H_1: \\mu_{score\\_female} \\gt \\mu_{score\\_male}$$"
      ]
    },
    {
      "cell_type": "markdown",
      "metadata": {
        "id": "2w47XwKxayDr"
      },
      "source": [
        "Again, we're going to generate 10.000 bootstrap means for each group, and use that to empirically create the sample distribution for the mean."
      ]
    },
    {
      "cell_type": "code",
      "metadata": {
        "id": "f8gibCm7T3S8"
      },
      "source": [
        "female_mean_score_list, male_mean_score_list = get_bootstrap_means(df.query('GENDER==\"Female\"')['GRADE_ESSAY'], df.query('GENDER==\"Male\"')['GRADE_ESSAY'])"
      ],
      "execution_count": 91,
      "outputs": []
    },
    {
      "cell_type": "code",
      "metadata": {
        "colab": {
          "base_uri": "https://localhost:8080/",
          "height": 265
        },
        "id": "cNcJsT_NUJrd",
        "outputId": "dc6958d1-055e-4287-c6aa-9e21fd31befc"
      },
      "source": [
        "male_mean_score_list.plot(kind='hist', alpha=.2, label=\"Male\")\r\n",
        "female_mean_score_list.plot(kind='hist', alpha=.2, label=\"Female\")\r\n",
        "plt.legend()\r\n",
        "plt.show()"
      ],
      "execution_count": 92,
      "outputs": [
        {
          "output_type": "display_data",
          "data": {
            "image/png": "[encoded data removed]",
            "text/plain": [
              "<Figure size 432x288 with 1 Axes>"
            ]
          },
          "metadata": {
            "tags": [],
            "needs_background": "light"
          }
        }
      ]
    },
    {
      "cell_type": "code",
      "metadata": {
        "colab": {
          "base_uri": "https://localhost:8080/"
        },
        "id": "9ajJmMa5YBo-",
        "outputId": "b4d9a4ac-7b9c-4964-e643-9a3b7b6d333f"
      },
      "source": [
        "# Compute the bootstrap equivalent for the t-statistic\r\n",
        "diff = female_mean_score_list-male_mean_score_list\r\n",
        "(diff.mean())/diff.std()"
      ],
      "execution_count": 93,
      "outputs": [
        {
          "output_type": "execute_result",
          "data": {
            "text/plain": [
              "-3.9716548602617143"
            ]
          },
          "metadata": {
            "tags": []
          },
          "execution_count": 93
        }
      ]
    },
    {
      "cell_type": "code",
      "metadata": {
        "colab": {
          "base_uri": "https://localhost:8080/"
        },
        "id": "r-Effde6Wkdd",
        "outputId": "d8e501dd-c40d-447c-c2b6-5a078addbe2b"
      },
      "source": [
        "pvalue_boot = (female_mean_score_list<=male_mean_score_list).mean()\r\n",
        "pvalue_boot"
      ],
      "execution_count": 88,
      "outputs": [
        {
          "output_type": "execute_result",
          "data": {
            "text/plain": [
              "0.996"
            ]
          },
          "metadata": {
            "tags": []
          },
          "execution_count": 88
        }
      ]
    },
    {
      "cell_type": "code",
      "metadata": {
        "colab": {
          "base_uri": "https://localhost:8080/"
        },
        "id": "kS01yliTcGhL",
        "outputId": "be693657-e058-4dd0-f407-c12fe6b6066e"
      },
      "source": [
        "# Compare the p_value to the significance level\r\n",
        "if (pvalue_boot < alpha):\r\n",
        "  print(\"Reject the Null Hypothesis.\")\r\n",
        "else:\r\n",
        "  print(\"Fail to Reject the Null Hypothesis.\")"
      ],
      "execution_count": 41,
      "outputs": [
        {
          "output_type": "stream",
          "text": [
            "Reject the Null Hypothesis.\n"
          ],
          "name": "stdout"
        }
      ]
    },
    {
      "cell_type": "markdown",
      "metadata": {
        "id": "biyL1vWFWzzr"
      },
      "source": [
        "**At the significance level of 0.05, we have evidence to reject the null hypothesis in favor of the alternative. Brazilian female students have higher average essay scores than male students**"
      ]
    },
    {
      "cell_type": "markdown",
      "metadata": {
        "id": "dxmm3ccQVisG"
      },
      "source": [
        "### 4.4 - Do brazilian students who chose 'english' as a foreign language have higher average scores than those who chose 'spanish'?\r\n",
        "\r\n",
        "To answer this question, we're going to perform the following hypothesis test:"
      ]
    },
    {
      "cell_type": "markdown",
      "metadata": {
        "id": "eyFo_yrS-Zuf"
      },
      "source": [
        "$$H_0: \\mu_{score\\_english} \\le \\mu_{score\\_spanish}$$"
      ]
    },
    {
      "cell_type": "markdown",
      "metadata": {
        "id": "xCAtDz0e-bgA"
      },
      "source": [
        "$$H_1: \\mu_{score\\_english} \\gt \\mu_{score\\_spanish}$$"
      ]
    },
    {
      "cell_type": "code",
      "metadata": {
        "id": "0jKzngRoV9ab"
      },
      "source": [
        "english_mean_score_list, spanish_mean_score_list = get_bootstrap_means(df.query('FOREIGN_LANGUAGE==\"English\"')['TOTAL_SCORE'], df.query('FOREIGN_LANGUAGE==\"Spanish\"')['TOTAL_SCORE'])"
      ],
      "execution_count": 89,
      "outputs": []
    },
    {
      "cell_type": "code",
      "metadata": {
        "colab": {
          "base_uri": "https://localhost:8080/",
          "height": 265
        },
        "id": "TBLxKN9fWKYd",
        "outputId": "9247b11c-2463-42ff-9d6a-642d873b0470"
      },
      "source": [
        "english_mean_score_list.plot(kind='hist', alpha=.2, label=\"English\")\r\n",
        "spanish_mean_score_list.plot(kind='hist', alpha=.2, label=\"Spanish\")\r\n",
        "plt.legend()\r\n",
        "plt.show()"
      ],
      "execution_count": 90,
      "outputs": [
        {
          "output_type": "display_data",
          "data": {
            "image/png": "[encoded data removed]",
            "text/plain": [
              "<Figure size 432x288 with 1 Axes>"
            ]
          },
          "metadata": {
            "tags": [],
            "needs_background": "light"
          }
        }
      ]
    },
    {
      "cell_type": "code",
      "metadata": {
        "colab": {
          "base_uri": "https://localhost:8080/"
        },
        "id": "O96H3VkvXndZ",
        "outputId": "c233cf1f-9c7f-427c-ea97-b5172ffc9d50"
      },
      "source": [
        "# Compute the bootstrap equivalent for the t-statistic\r\n",
        "diff = english_mean_score_list-spanish_mean_score_list\r\n",
        "(diff.mean())/diff.std()"
      ],
      "execution_count": 44,
      "outputs": [
        {
          "output_type": "execute_result",
          "data": {
            "text/plain": [
              "16.42658476775575"
            ]
          },
          "metadata": {
            "tags": []
          },
          "execution_count": 44
        }
      ]
    },
    {
      "cell_type": "code",
      "metadata": {
        "colab": {
          "base_uri": "https://localhost:8080/"
        },
        "id": "5-YssGYoWVpJ",
        "outputId": "087fa4e2-b5da-44ee-f491-d083ffcb016e"
      },
      "source": [
        "# Computhe the bootstrap p-value\r\n",
        "pvalue_boot = (english_mean_score_list<=spanish_mean_score_list).mean()\r\n",
        "pvalue_boot"
      ],
      "execution_count": 45,
      "outputs": [
        {
          "output_type": "execute_result",
          "data": {
            "text/plain": [
              "0.0"
            ]
          },
          "metadata": {
            "tags": []
          },
          "execution_count": 45
        }
      ]
    },
    {
      "cell_type": "code",
      "metadata": {
        "colab": {
          "base_uri": "https://localhost:8080/"
        },
        "id": "XBay7IZWU8_l",
        "outputId": "3182900f-cf91-42cb-9b7a-c943ef8fda77"
      },
      "source": [
        "# Compare the p_value to the significance level\r\n",
        "if (pvalue_boot < alpha):\r\n",
        "  print(\"Reject the Null Hypothesis.\")\r\n",
        "else:\r\n",
        "  print(\"Fail to Reject the Null Hypothesis.\")"
      ],
      "execution_count": 46,
      "outputs": [
        {
          "output_type": "stream",
          "text": [
            "Reject the Null Hypothesis.\n"
          ],
          "name": "stdout"
        }
      ]
    },
    {
      "cell_type": "markdown",
      "metadata": {
        "id": "wTAKQCrzU_Pe"
      },
      "source": [
        "**At the significance level of 0.05, we have evidence to reject the null hypothesis in favor of the alternative. Brazilian students who pick english as their prefered foreing language have higher average total scores than those who pick spanish.**"
      ]
    }
  ]
}