{
  "nbformat": 4,
  "nbformat_minor": 0,
  "metadata": {
    "colab": {
      "name": "enem - inferencial statistics.ipynb",
      "provenance": [],
      "toc_visible": true,
      "mount_file_id": "1zB_TtAfy5CGCFdVgPG0btlSSb52W3KmT",
      "authorship_tag": "ABX9TyPUYBBNr8hFh4Bm0/tL6Fq3",
      "include_colab_link": true
    },
    "kernelspec": {
      "name": "python3",
      "display_name": "Python 3"
    }
  },
  "cells": [
    {
      "cell_type": "markdown",
      "metadata": {
        "id": "view-in-github",
        "colab_type": "text"
      },
      "source": [
        "<a href=\"https://colab.research.google.com/github/thiagofuruchima/enem_ds/blob/main/enem_data_study.ipynb\" target=\"_parent\"><img src=\"https://colab.research.google.com/assets/colab-badge.svg\" alt=\"Open In Colab\"/></a>"
      ]
    },
    {
      "cell_type": "markdown",
      "metadata": {
        "id": "ajfvBRx00oW6"
      },
      "source": [
        "#ENEM - Data Study\r\n",
        "\r\n",
        "A statistical inference study about brazilian high school students using 2019 ENEM dataset."
      ]
    },
    {
      "cell_type": "markdown",
      "metadata": {
        "id": "eJw7MuQyZEUI"
      },
      "source": [
        "##1. Problem Understanding"
      ]
    },
    {
      "cell_type": "markdown",
      "metadata": {
        "id": "-pf2gT49bf4a"
      },
      "source": [
        "We're going to use a random sample of the ENEM data (Brazil's SAT like exam) to answer the following questions regarding brazilian high school students.\r\n",
        "\r\n",
        "1 - Do brazilian students declared themselves as white skinned have higher average scores than those self declared as brown skinned? Do they also have higher average family income?\r\n",
        "\r\n",
        "2 - Do brazilian students declared themselves as brown skinned have higher average scores than those self declared as black? Do they also have higher average family income?\r\n",
        "\r\n",
        "3 - Do brazilian female students have higher essay average scores than male students? Do they also have higher average family income?\r\n",
        "\r\n",
        "4 - Do brazilian students who chose 'english' as a foreign language have higher average scores than those who chose 'spanish'? Do they also have higher average family income?"
      ]
    },
    {
      "cell_type": "markdown",
      "metadata": {
        "id": "hgx1IyYAiLfc"
      },
      "source": [
        "## 2. Data Understanding"
      ]
    },
    {
      "cell_type": "markdown",
      "metadata": {
        "id": "a7cCZpN7iYzs"
      },
      "source": [
        "We're using a 0.1% random sample of the whole ENEM exam dataset. The whole dataset can be accessed in [Dados Abertos INEP](https://www.gov.br/inep/pt-br/acesso-a-informacao/dados-abertos).\r\n",
        "\r\n",
        "First, let's load the dataset and take a look at it."
      ]
    },
    {
      "cell_type": "code",
      "metadata": {
        "id": "TrlMOYouaQUf"
      },
      "source": [
        "# laod the libraries\r\n",
        "import pandas as pd\r\n",
        "import matplotlib.pyplot as plt\r\n",
        "import numpy as np\r\n",
        "import seaborn as sns\r\n",
        "from scipy import stats\r\n",
        "# from statsmodels import stats"
      ],
      "execution_count": 1,
      "outputs": []
    },
    {
      "cell_type": "code",
      "metadata": {
        "id": "54D2S5zAaH0f"
      },
      "source": [
        "# read the sample dataset\r\n",
        "df = pd.read_csv(\"https://github.com/thiagofuruchima/enem_ds/raw/main/data/enem_random_sample_01_percent.csv\")"
      ],
      "execution_count": 2,
      "outputs": []
    },
    {
      "cell_type": "code",
      "metadata": {
        "colab": {
          "base_uri": "https://localhost:8080/"
        },
        "id": "-CTKUdXZjqO4",
        "outputId": "c2ac995c-ec0e-4635-d57f-30738e3ba13a"
      },
      "source": [
        "# check the row/column count\r\n",
        "df.shape"
      ],
      "execution_count": 3,
      "outputs": [
        {
          "output_type": "execute_result",
          "data": {
            "text/plain": [
              "(5095, 136)"
            ]
          },
          "metadata": {
            "tags": []
          },
          "execution_count": 3
        }
      ]
    },
    {
      "cell_type": "code",
      "metadata": {
        "colab": {
          "base_uri": "https://localhost:8080/",
          "height": 248
        },
        "id": "u4J7plDAaUhb",
        "outputId": "dbef9911-0493-468c-fbb1-0d04ca5eae4b"
      },
      "source": [
        "# check the first 5 rows\r\n",
        "df.head()"
      ],
      "execution_count": 4,
      "outputs": [
        {
          "output_type": "execute_result",
          "data": {
            "text/html": [
              "<div>\n",
              "<style scoped>\n",
              "    .dataframe tbody tr th:only-of-type {\n",
              "        vertical-align: middle;\n",
              "    }\n",
              "\n",
              "    .dataframe tbody tr th {\n",
              "        vertical-align: top;\n",
              "    }\n",
              "\n",
              "    .dataframe thead th {\n",
              "        text-align: right;\n",
              "    }\n",
              "</style>\n",
              "<table border=\"1\" class=\"dataframe\">\n",
              "  <thead>\n",
              "    <tr style=\"text-align: right;\">\n",
              "      <th></th>\n",
              "      <th>NU_INSCRICAO</th>\n",
              "      <th>NU_ANO</th>\n",
              "      <th>CO_MUNICIPIO_RESIDENCIA</th>\n",
              "      <th>NO_MUNICIPIO_RESIDENCIA</th>\n",
              "      <th>CO_UF_RESIDENCIA</th>\n",
              "      <th>SG_UF_RESIDENCIA</th>\n",
              "      <th>NU_IDADE</th>\n",
              "      <th>TP_SEXO</th>\n",
              "      <th>TP_ESTADO_CIVIL</th>\n",
              "      <th>TP_COR_RACA</th>\n",
              "      <th>TP_NACIONALIDADE</th>\n",
              "      <th>CO_MUNICIPIO_NASCIMENTO</th>\n",
              "      <th>NO_MUNICIPIO_NASCIMENTO</th>\n",
              "      <th>CO_UF_NASCIMENTO</th>\n",
              "      <th>SG_UF_NASCIMENTO</th>\n",
              "      <th>TP_ST_CONCLUSAO</th>\n",
              "      <th>TP_ANO_CONCLUIU</th>\n",
              "      <th>TP_ESCOLA</th>\n",
              "      <th>TP_ENSINO</th>\n",
              "      <th>IN_TREINEIRO</th>\n",
              "      <th>CO_ESCOLA</th>\n",
              "      <th>CO_MUNICIPIO_ESC</th>\n",
              "      <th>NO_MUNICIPIO_ESC</th>\n",
              "      <th>CO_UF_ESC</th>\n",
              "      <th>SG_UF_ESC</th>\n",
              "      <th>TP_DEPENDENCIA_ADM_ESC</th>\n",
              "      <th>TP_LOCALIZACAO_ESC</th>\n",
              "      <th>TP_SIT_FUNC_ESC</th>\n",
              "      <th>IN_BAIXA_VISAO</th>\n",
              "      <th>IN_CEGUEIRA</th>\n",
              "      <th>IN_SURDEZ</th>\n",
              "      <th>IN_DEFICIENCIA_AUDITIVA</th>\n",
              "      <th>IN_SURDO_CEGUEIRA</th>\n",
              "      <th>IN_DEFICIENCIA_FISICA</th>\n",
              "      <th>IN_DEFICIENCIA_MENTAL</th>\n",
              "      <th>IN_DEFICIT_ATENCAO</th>\n",
              "      <th>IN_DISLEXIA</th>\n",
              "      <th>IN_DISCALCULIA</th>\n",
              "      <th>IN_AUTISMO</th>\n",
              "      <th>IN_VISAO_MONOCULAR</th>\n",
              "      <th>...</th>\n",
              "      <th>TX_RESPOSTAS_CH</th>\n",
              "      <th>TX_RESPOSTAS_LC</th>\n",
              "      <th>TX_RESPOSTAS_MT</th>\n",
              "      <th>TP_LINGUA</th>\n",
              "      <th>TX_GABARITO_CN</th>\n",
              "      <th>TX_GABARITO_CH</th>\n",
              "      <th>TX_GABARITO_LC</th>\n",
              "      <th>TX_GABARITO_MT</th>\n",
              "      <th>TP_STATUS_REDACAO</th>\n",
              "      <th>NU_NOTA_COMP1</th>\n",
              "      <th>NU_NOTA_COMP2</th>\n",
              "      <th>NU_NOTA_COMP3</th>\n",
              "      <th>NU_NOTA_COMP4</th>\n",
              "      <th>NU_NOTA_COMP5</th>\n",
              "      <th>NU_NOTA_REDACAO</th>\n",
              "      <th>Q001</th>\n",
              "      <th>Q002</th>\n",
              "      <th>Q003</th>\n",
              "      <th>Q004</th>\n",
              "      <th>Q005</th>\n",
              "      <th>Q006</th>\n",
              "      <th>Q007</th>\n",
              "      <th>Q008</th>\n",
              "      <th>Q009</th>\n",
              "      <th>Q010</th>\n",
              "      <th>Q011</th>\n",
              "      <th>Q012</th>\n",
              "      <th>Q013</th>\n",
              "      <th>Q014</th>\n",
              "      <th>Q015</th>\n",
              "      <th>Q016</th>\n",
              "      <th>Q017</th>\n",
              "      <th>Q018</th>\n",
              "      <th>Q019</th>\n",
              "      <th>Q020</th>\n",
              "      <th>Q021</th>\n",
              "      <th>Q022</th>\n",
              "      <th>Q023</th>\n",
              "      <th>Q024</th>\n",
              "      <th>Q025</th>\n",
              "    </tr>\n",
              "  </thead>\n",
              "  <tbody>\n",
              "    <tr>\n",
              "      <th>0</th>\n",
              "      <td>190002290964</td>\n",
              "      <td>2019</td>\n",
              "      <td>2927408</td>\n",
              "      <td>Salvador</td>\n",
              "      <td>29</td>\n",
              "      <td>BA</td>\n",
              "      <td>30</td>\n",
              "      <td>M</td>\n",
              "      <td>1</td>\n",
              "      <td>3</td>\n",
              "      <td>1</td>\n",
              "      <td>2927408.0</td>\n",
              "      <td>Salvador</td>\n",
              "      <td>29.0</td>\n",
              "      <td>BA</td>\n",
              "      <td>1</td>\n",
              "      <td>9</td>\n",
              "      <td>1</td>\n",
              "      <td>1.0</td>\n",
              "      <td>0</td>\n",
              "      <td>NaN</td>\n",
              "      <td>NaN</td>\n",
              "      <td>NaN</td>\n",
              "      <td>NaN</td>\n",
              "      <td>NaN</td>\n",
              "      <td>NaN</td>\n",
              "      <td>NaN</td>\n",
              "      <td>NaN</td>\n",
              "      <td>0</td>\n",
              "      <td>0</td>\n",
              "      <td>0</td>\n",
              "      <td>0</td>\n",
              "      <td>0</td>\n",
              "      <td>0</td>\n",
              "      <td>0</td>\n",
              "      <td>0</td>\n",
              "      <td>0</td>\n",
              "      <td>0</td>\n",
              "      <td>0</td>\n",
              "      <td>0</td>\n",
              "      <td>...</td>\n",
              "      <td>ECEADCABDBDCDBEECDAEDACEBDDDBAECBCAEBECDBBECC</td>\n",
              "      <td>EDACD99999DCBDBCCABEDACECBAEBADDACEBEDCADDBEBD...</td>\n",
              "      <td>CEBBBDDBACEDCDABBDEBDADDCBBBCAEDDAAEDBCCADBCB</td>\n",
              "      <td>0</td>\n",
              "      <td>DEADBAAAEBEECEBCBCBCBDADAEABCEDDDDADCBEECACBC</td>\n",
              "      <td>BACCCBABBADCBCEEEBCACACEEDBCCADBEADBADBBBACDB</td>\n",
              "      <td>BDABEABCADBCBAADDBECDAAECDAECBECBCCDEEAAADDBBC...</td>\n",
              "      <td>AADDDBEEEBEDDBEBACABCDBABECECACAECDCBDCCEDCDA</td>\n",
              "      <td>1.0</td>\n",
              "      <td>80.0</td>\n",
              "      <td>120.0</td>\n",
              "      <td>80.0</td>\n",
              "      <td>140.0</td>\n",
              "      <td>100.0</td>\n",
              "      <td>520.0</td>\n",
              "      <td>C</td>\n",
              "      <td>B</td>\n",
              "      <td>B</td>\n",
              "      <td>B</td>\n",
              "      <td>3</td>\n",
              "      <td>B</td>\n",
              "      <td>A</td>\n",
              "      <td>B</td>\n",
              "      <td>C</td>\n",
              "      <td>A</td>\n",
              "      <td>A</td>\n",
              "      <td>B</td>\n",
              "      <td>A</td>\n",
              "      <td>A</td>\n",
              "      <td>A</td>\n",
              "      <td>A</td>\n",
              "      <td>A</td>\n",
              "      <td>A</td>\n",
              "      <td>B</td>\n",
              "      <td>B</td>\n",
              "      <td>A</td>\n",
              "      <td>B</td>\n",
              "      <td>B</td>\n",
              "      <td>B</td>\n",
              "      <td>B</td>\n",
              "    </tr>\n",
              "    <tr>\n",
              "      <th>1</th>\n",
              "      <td>190004057495</td>\n",
              "      <td>2019</td>\n",
              "      <td>3550308</td>\n",
              "      <td>São Paulo</td>\n",
              "      <td>35</td>\n",
              "      <td>SP</td>\n",
              "      <td>29</td>\n",
              "      <td>F</td>\n",
              "      <td>1</td>\n",
              "      <td>3</td>\n",
              "      <td>1</td>\n",
              "      <td>2913606.0</td>\n",
              "      <td>Ilhéus</td>\n",
              "      <td>29.0</td>\n",
              "      <td>BA</td>\n",
              "      <td>1</td>\n",
              "      <td>11</td>\n",
              "      <td>1</td>\n",
              "      <td>1.0</td>\n",
              "      <td>0</td>\n",
              "      <td>NaN</td>\n",
              "      <td>NaN</td>\n",
              "      <td>NaN</td>\n",
              "      <td>NaN</td>\n",
              "      <td>NaN</td>\n",
              "      <td>NaN</td>\n",
              "      <td>NaN</td>\n",
              "      <td>NaN</td>\n",
              "      <td>0</td>\n",
              "      <td>0</td>\n",
              "      <td>0</td>\n",
              "      <td>0</td>\n",
              "      <td>0</td>\n",
              "      <td>0</td>\n",
              "      <td>0</td>\n",
              "      <td>0</td>\n",
              "      <td>0</td>\n",
              "      <td>0</td>\n",
              "      <td>0</td>\n",
              "      <td>0</td>\n",
              "      <td>...</td>\n",
              "      <td>CCADAECCDBACABAEDAEABEDEACBCBCAABEDDCEDBEACEA</td>\n",
              "      <td>99999CABDDDBEDBCECEBACBDCBEEDECBAEEEACEACDCECA...</td>\n",
              "      <td>CDCBADABCCDBEACEDEDACBEDCBDBABAAEDCCBEDBABEDB</td>\n",
              "      <td>1</td>\n",
              "      <td>DADCCEBBCCACBEEBEEBACBCDDDDADBCBBCEAEADEADAAE</td>\n",
              "      <td>ACACEEBCCBABADBBBACDBBACCCCADCEBADCBEEDBBEADB</td>\n",
              "      <td>EBBADCABDABACBCEBDEEAAADDBECDECDDBADBCDAAECBCC...</td>\n",
              "      <td>DBEBACABCDBABECEEEDCBDCCEDCDABEDAADDDECACAECB</td>\n",
              "      <td>1.0</td>\n",
              "      <td>140.0</td>\n",
              "      <td>180.0</td>\n",
              "      <td>120.0</td>\n",
              "      <td>120.0</td>\n",
              "      <td>100.0</td>\n",
              "      <td>660.0</td>\n",
              "      <td>H</td>\n",
              "      <td>H</td>\n",
              "      <td>C</td>\n",
              "      <td>F</td>\n",
              "      <td>6</td>\n",
              "      <td>C</td>\n",
              "      <td>A</td>\n",
              "      <td>B</td>\n",
              "      <td>C</td>\n",
              "      <td>A</td>\n",
              "      <td>A</td>\n",
              "      <td>B</td>\n",
              "      <td>A</td>\n",
              "      <td>A</td>\n",
              "      <td>A</td>\n",
              "      <td>B</td>\n",
              "      <td>A</td>\n",
              "      <td>A</td>\n",
              "      <td>B</td>\n",
              "      <td>B</td>\n",
              "      <td>A</td>\n",
              "      <td>D</td>\n",
              "      <td>A</td>\n",
              "      <td>B</td>\n",
              "      <td>B</td>\n",
              "    </tr>\n",
              "    <tr>\n",
              "      <th>2</th>\n",
              "      <td>190002548758</td>\n",
              "      <td>2019</td>\n",
              "      <td>2304400</td>\n",
              "      <td>Fortaleza</td>\n",
              "      <td>23</td>\n",
              "      <td>CE</td>\n",
              "      <td>31</td>\n",
              "      <td>M</td>\n",
              "      <td>1</td>\n",
              "      <td>3</td>\n",
              "      <td>1</td>\n",
              "      <td>2304400.0</td>\n",
              "      <td>Fortaleza</td>\n",
              "      <td>23.0</td>\n",
              "      <td>CE</td>\n",
              "      <td>1</td>\n",
              "      <td>13</td>\n",
              "      <td>1</td>\n",
              "      <td>NaN</td>\n",
              "      <td>0</td>\n",
              "      <td>NaN</td>\n",
              "      <td>NaN</td>\n",
              "      <td>NaN</td>\n",
              "      <td>NaN</td>\n",
              "      <td>NaN</td>\n",
              "      <td>NaN</td>\n",
              "      <td>NaN</td>\n",
              "      <td>NaN</td>\n",
              "      <td>0</td>\n",
              "      <td>0</td>\n",
              "      <td>0</td>\n",
              "      <td>0</td>\n",
              "      <td>0</td>\n",
              "      <td>0</td>\n",
              "      <td>0</td>\n",
              "      <td>0</td>\n",
              "      <td>0</td>\n",
              "      <td>0</td>\n",
              "      <td>0</td>\n",
              "      <td>0</td>\n",
              "      <td>...</td>\n",
              "      <td>BCACABABBABCECEEABCCCABDEDBCCADEEEDDADBEEAEAB</td>\n",
              "      <td>BDABE99999BCBADDDBEEDAAEBABCCBECBCCAEBAADDADBC...</td>\n",
              "      <td>BACAABDBDECBAECBABBACEAEDDEAECDBEACCCBDCCEDA*</td>\n",
              "      <td>0</td>\n",
              "      <td>BEEAAEBEEBADEADDADAEABCEDDDBCBCBCCACBCDADCCEB</td>\n",
              "      <td>BACCCBABBADCBCEEEBCACACEEDBCCADBEADBADBBBACDB</td>\n",
              "      <td>BDABEABCADBCBAADDBECDAAECDAECBECBCCDEEAAADDBBC...</td>\n",
              "      <td>BEDEEEAADBEBACABCDBABECECACADCBDCCEDCDABECDDD</td>\n",
              "      <td>1.0</td>\n",
              "      <td>160.0</td>\n",
              "      <td>140.0</td>\n",
              "      <td>120.0</td>\n",
              "      <td>160.0</td>\n",
              "      <td>120.0</td>\n",
              "      <td>700.0</td>\n",
              "      <td>E</td>\n",
              "      <td>E</td>\n",
              "      <td>E</td>\n",
              "      <td>D</td>\n",
              "      <td>4</td>\n",
              "      <td>D</td>\n",
              "      <td>A</td>\n",
              "      <td>B</td>\n",
              "      <td>B</td>\n",
              "      <td>B</td>\n",
              "      <td>A</td>\n",
              "      <td>B</td>\n",
              "      <td>A</td>\n",
              "      <td>B</td>\n",
              "      <td>A</td>\n",
              "      <td>A</td>\n",
              "      <td>A</td>\n",
              "      <td>A</td>\n",
              "      <td>B</td>\n",
              "      <td>A</td>\n",
              "      <td>A</td>\n",
              "      <td>E</td>\n",
              "      <td>B</td>\n",
              "      <td>C</td>\n",
              "      <td>B</td>\n",
              "    </tr>\n",
              "    <tr>\n",
              "      <th>3</th>\n",
              "      <td>190001162162</td>\n",
              "      <td>2019</td>\n",
              "      <td>2304400</td>\n",
              "      <td>Fortaleza</td>\n",
              "      <td>23</td>\n",
              "      <td>CE</td>\n",
              "      <td>20</td>\n",
              "      <td>F</td>\n",
              "      <td>1</td>\n",
              "      <td>1</td>\n",
              "      <td>1</td>\n",
              "      <td>2304400.0</td>\n",
              "      <td>Fortaleza</td>\n",
              "      <td>23.0</td>\n",
              "      <td>CE</td>\n",
              "      <td>1</td>\n",
              "      <td>2</td>\n",
              "      <td>1</td>\n",
              "      <td>1.0</td>\n",
              "      <td>0</td>\n",
              "      <td>NaN</td>\n",
              "      <td>NaN</td>\n",
              "      <td>NaN</td>\n",
              "      <td>NaN</td>\n",
              "      <td>NaN</td>\n",
              "      <td>NaN</td>\n",
              "      <td>NaN</td>\n",
              "      <td>NaN</td>\n",
              "      <td>0</td>\n",
              "      <td>0</td>\n",
              "      <td>0</td>\n",
              "      <td>0</td>\n",
              "      <td>0</td>\n",
              "      <td>0</td>\n",
              "      <td>0</td>\n",
              "      <td>0</td>\n",
              "      <td>0</td>\n",
              "      <td>0</td>\n",
              "      <td>0</td>\n",
              "      <td>0</td>\n",
              "      <td>...</td>\n",
              "      <td>NaN</td>\n",
              "      <td>NaN</td>\n",
              "      <td>NaN</td>\n",
              "      <td>1</td>\n",
              "      <td>NaN</td>\n",
              "      <td>NaN</td>\n",
              "      <td>NaN</td>\n",
              "      <td>NaN</td>\n",
              "      <td>NaN</td>\n",
              "      <td>NaN</td>\n",
              "      <td>NaN</td>\n",
              "      <td>NaN</td>\n",
              "      <td>NaN</td>\n",
              "      <td>NaN</td>\n",
              "      <td>NaN</td>\n",
              "      <td>C</td>\n",
              "      <td>C</td>\n",
              "      <td>B</td>\n",
              "      <td>B</td>\n",
              "      <td>4</td>\n",
              "      <td>C</td>\n",
              "      <td>A</td>\n",
              "      <td>B</td>\n",
              "      <td>B</td>\n",
              "      <td>A</td>\n",
              "      <td>A</td>\n",
              "      <td>B</td>\n",
              "      <td>A</td>\n",
              "      <td>A</td>\n",
              "      <td>A</td>\n",
              "      <td>B</td>\n",
              "      <td>A</td>\n",
              "      <td>A</td>\n",
              "      <td>B</td>\n",
              "      <td>A</td>\n",
              "      <td>A</td>\n",
              "      <td>C</td>\n",
              "      <td>A</td>\n",
              "      <td>A</td>\n",
              "      <td>B</td>\n",
              "    </tr>\n",
              "    <tr>\n",
              "      <th>4</th>\n",
              "      <td>190001424877</td>\n",
              "      <td>2019</td>\n",
              "      <td>2807501</td>\n",
              "      <td>Tomar do Geru</td>\n",
              "      <td>28</td>\n",
              "      <td>SE</td>\n",
              "      <td>18</td>\n",
              "      <td>F</td>\n",
              "      <td>1</td>\n",
              "      <td>3</td>\n",
              "      <td>1</td>\n",
              "      <td>2802106.0</td>\n",
              "      <td>Estância</td>\n",
              "      <td>28.0</td>\n",
              "      <td>SE</td>\n",
              "      <td>3</td>\n",
              "      <td>0</td>\n",
              "      <td>1</td>\n",
              "      <td>NaN</td>\n",
              "      <td>1</td>\n",
              "      <td>NaN</td>\n",
              "      <td>NaN</td>\n",
              "      <td>NaN</td>\n",
              "      <td>NaN</td>\n",
              "      <td>NaN</td>\n",
              "      <td>NaN</td>\n",
              "      <td>NaN</td>\n",
              "      <td>NaN</td>\n",
              "      <td>0</td>\n",
              "      <td>0</td>\n",
              "      <td>0</td>\n",
              "      <td>0</td>\n",
              "      <td>0</td>\n",
              "      <td>0</td>\n",
              "      <td>0</td>\n",
              "      <td>0</td>\n",
              "      <td>0</td>\n",
              "      <td>0</td>\n",
              "      <td>0</td>\n",
              "      <td>0</td>\n",
              "      <td>...</td>\n",
              "      <td>NaN</td>\n",
              "      <td>NaN</td>\n",
              "      <td>NaN</td>\n",
              "      <td>1</td>\n",
              "      <td>NaN</td>\n",
              "      <td>NaN</td>\n",
              "      <td>NaN</td>\n",
              "      <td>NaN</td>\n",
              "      <td>NaN</td>\n",
              "      <td>NaN</td>\n",
              "      <td>NaN</td>\n",
              "      <td>NaN</td>\n",
              "      <td>NaN</td>\n",
              "      <td>NaN</td>\n",
              "      <td>NaN</td>\n",
              "      <td>B</td>\n",
              "      <td>B</td>\n",
              "      <td>A</td>\n",
              "      <td>A</td>\n",
              "      <td>4</td>\n",
              "      <td>B</td>\n",
              "      <td>A</td>\n",
              "      <td>B</td>\n",
              "      <td>C</td>\n",
              "      <td>A</td>\n",
              "      <td>B</td>\n",
              "      <td>B</td>\n",
              "      <td>A</td>\n",
              "      <td>A</td>\n",
              "      <td>A</td>\n",
              "      <td>A</td>\n",
              "      <td>A</td>\n",
              "      <td>A</td>\n",
              "      <td>B</td>\n",
              "      <td>B</td>\n",
              "      <td>A</td>\n",
              "      <td>C</td>\n",
              "      <td>A</td>\n",
              "      <td>A</td>\n",
              "      <td>A</td>\n",
              "    </tr>\n",
              "  </tbody>\n",
              "</table>\n",
              "<p>5 rows × 136 columns</p>\n",
              "</div>"
            ],
            "text/plain": [
              "   NU_INSCRICAO  NU_ANO  CO_MUNICIPIO_RESIDENCIA  ... Q023  Q024 Q025\n",
              "0  190002290964    2019                  2927408  ...    B     B    B\n",
              "1  190004057495    2019                  3550308  ...    A     B    B\n",
              "2  190002548758    2019                  2304400  ...    B     C    B\n",
              "3  190001162162    2019                  2304400  ...    A     A    B\n",
              "4  190001424877    2019                  2807501  ...    A     A    A\n",
              "\n",
              "[5 rows x 136 columns]"
            ]
          },
          "metadata": {
            "tags": []
          },
          "execution_count": 4
        }
      ]
    },
    {
      "cell_type": "code",
      "metadata": {
        "colab": {
          "base_uri": "https://localhost:8080/",
          "height": 248
        },
        "id": "NkUu876ykLmN",
        "outputId": "bbf3eef9-2b94-43e3-bac3-f7b12275f679"
      },
      "source": [
        "# check the last 5 rows\r\n",
        "df.tail()"
      ],
      "execution_count": 5,
      "outputs": [
        {
          "output_type": "execute_result",
          "data": {
            "text/html": [
              "<div>\n",
              "<style scoped>\n",
              "    .dataframe tbody tr th:only-of-type {\n",
              "        vertical-align: middle;\n",
              "    }\n",
              "\n",
              "    .dataframe tbody tr th {\n",
              "        vertical-align: top;\n",
              "    }\n",
              "\n",
              "    .dataframe thead th {\n",
              "        text-align: right;\n",
              "    }\n",
              "</style>\n",
              "<table border=\"1\" class=\"dataframe\">\n",
              "  <thead>\n",
              "    <tr style=\"text-align: right;\">\n",
              "      <th></th>\n",
              "      <th>NU_INSCRICAO</th>\n",
              "      <th>NU_ANO</th>\n",
              "      <th>CO_MUNICIPIO_RESIDENCIA</th>\n",
              "      <th>NO_MUNICIPIO_RESIDENCIA</th>\n",
              "      <th>CO_UF_RESIDENCIA</th>\n",
              "      <th>SG_UF_RESIDENCIA</th>\n",
              "      <th>NU_IDADE</th>\n",
              "      <th>TP_SEXO</th>\n",
              "      <th>TP_ESTADO_CIVIL</th>\n",
              "      <th>TP_COR_RACA</th>\n",
              "      <th>TP_NACIONALIDADE</th>\n",
              "      <th>CO_MUNICIPIO_NASCIMENTO</th>\n",
              "      <th>NO_MUNICIPIO_NASCIMENTO</th>\n",
              "      <th>CO_UF_NASCIMENTO</th>\n",
              "      <th>SG_UF_NASCIMENTO</th>\n",
              "      <th>TP_ST_CONCLUSAO</th>\n",
              "      <th>TP_ANO_CONCLUIU</th>\n",
              "      <th>TP_ESCOLA</th>\n",
              "      <th>TP_ENSINO</th>\n",
              "      <th>IN_TREINEIRO</th>\n",
              "      <th>CO_ESCOLA</th>\n",
              "      <th>CO_MUNICIPIO_ESC</th>\n",
              "      <th>NO_MUNICIPIO_ESC</th>\n",
              "      <th>CO_UF_ESC</th>\n",
              "      <th>SG_UF_ESC</th>\n",
              "      <th>TP_DEPENDENCIA_ADM_ESC</th>\n",
              "      <th>TP_LOCALIZACAO_ESC</th>\n",
              "      <th>TP_SIT_FUNC_ESC</th>\n",
              "      <th>IN_BAIXA_VISAO</th>\n",
              "      <th>IN_CEGUEIRA</th>\n",
              "      <th>IN_SURDEZ</th>\n",
              "      <th>IN_DEFICIENCIA_AUDITIVA</th>\n",
              "      <th>IN_SURDO_CEGUEIRA</th>\n",
              "      <th>IN_DEFICIENCIA_FISICA</th>\n",
              "      <th>IN_DEFICIENCIA_MENTAL</th>\n",
              "      <th>IN_DEFICIT_ATENCAO</th>\n",
              "      <th>IN_DISLEXIA</th>\n",
              "      <th>IN_DISCALCULIA</th>\n",
              "      <th>IN_AUTISMO</th>\n",
              "      <th>IN_VISAO_MONOCULAR</th>\n",
              "      <th>...</th>\n",
              "      <th>TX_RESPOSTAS_CH</th>\n",
              "      <th>TX_RESPOSTAS_LC</th>\n",
              "      <th>TX_RESPOSTAS_MT</th>\n",
              "      <th>TP_LINGUA</th>\n",
              "      <th>TX_GABARITO_CN</th>\n",
              "      <th>TX_GABARITO_CH</th>\n",
              "      <th>TX_GABARITO_LC</th>\n",
              "      <th>TX_GABARITO_MT</th>\n",
              "      <th>TP_STATUS_REDACAO</th>\n",
              "      <th>NU_NOTA_COMP1</th>\n",
              "      <th>NU_NOTA_COMP2</th>\n",
              "      <th>NU_NOTA_COMP3</th>\n",
              "      <th>NU_NOTA_COMP4</th>\n",
              "      <th>NU_NOTA_COMP5</th>\n",
              "      <th>NU_NOTA_REDACAO</th>\n",
              "      <th>Q001</th>\n",
              "      <th>Q002</th>\n",
              "      <th>Q003</th>\n",
              "      <th>Q004</th>\n",
              "      <th>Q005</th>\n",
              "      <th>Q006</th>\n",
              "      <th>Q007</th>\n",
              "      <th>Q008</th>\n",
              "      <th>Q009</th>\n",
              "      <th>Q010</th>\n",
              "      <th>Q011</th>\n",
              "      <th>Q012</th>\n",
              "      <th>Q013</th>\n",
              "      <th>Q014</th>\n",
              "      <th>Q015</th>\n",
              "      <th>Q016</th>\n",
              "      <th>Q017</th>\n",
              "      <th>Q018</th>\n",
              "      <th>Q019</th>\n",
              "      <th>Q020</th>\n",
              "      <th>Q021</th>\n",
              "      <th>Q022</th>\n",
              "      <th>Q023</th>\n",
              "      <th>Q024</th>\n",
              "      <th>Q025</th>\n",
              "    </tr>\n",
              "  </thead>\n",
              "  <tbody>\n",
              "    <tr>\n",
              "      <th>5090</th>\n",
              "      <td>190004067563</td>\n",
              "      <td>2019</td>\n",
              "      <td>3550308</td>\n",
              "      <td>São Paulo</td>\n",
              "      <td>35</td>\n",
              "      <td>SP</td>\n",
              "      <td>17</td>\n",
              "      <td>M</td>\n",
              "      <td>1</td>\n",
              "      <td>1</td>\n",
              "      <td>1</td>\n",
              "      <td>3550308.0</td>\n",
              "      <td>São Paulo</td>\n",
              "      <td>35.0</td>\n",
              "      <td>SP</td>\n",
              "      <td>2</td>\n",
              "      <td>0</td>\n",
              "      <td>2</td>\n",
              "      <td>1.0</td>\n",
              "      <td>0</td>\n",
              "      <td>35001659.0</td>\n",
              "      <td>3550308.0</td>\n",
              "      <td>São Paulo</td>\n",
              "      <td>35.0</td>\n",
              "      <td>SP</td>\n",
              "      <td>2.0</td>\n",
              "      <td>1.0</td>\n",
              "      <td>1.0</td>\n",
              "      <td>0</td>\n",
              "      <td>0</td>\n",
              "      <td>0</td>\n",
              "      <td>0</td>\n",
              "      <td>0</td>\n",
              "      <td>0</td>\n",
              "      <td>0</td>\n",
              "      <td>0</td>\n",
              "      <td>0</td>\n",
              "      <td>0</td>\n",
              "      <td>0</td>\n",
              "      <td>0</td>\n",
              "      <td>...</td>\n",
              "      <td>ACCCEECBADACDBAECCDAECBACDBEEECCCBBADEDBAADAE</td>\n",
              "      <td>99999DAACEDBCEACBACECBDBBAAADCBDAEDCDDCEBEEECD...</td>\n",
              "      <td>ABBACCACAEDAEDCBADADCAEACBCCBBCECEBBABADDDCEC</td>\n",
              "      <td>1</td>\n",
              "      <td>DEADBAAAEBEECEBCBCBCBDADAEABCEDDDDADCBEECACBC</td>\n",
              "      <td>EEBCEEDBADBBCBABCCADCEBACDBBACCACACBEADBBADCB</td>\n",
              "      <td>ADBBEDCABAABBCBCDAAECDDDBAAAECADECDCEBDEEAECBD...</td>\n",
              "      <td>AADDDBEEEBEDDBEBACABCDBABECECACAECDCBDCCEDCDA</td>\n",
              "      <td>1.0</td>\n",
              "      <td>120.0</td>\n",
              "      <td>120.0</td>\n",
              "      <td>120.0</td>\n",
              "      <td>120.0</td>\n",
              "      <td>0.0</td>\n",
              "      <td>480.0</td>\n",
              "      <td>D</td>\n",
              "      <td>D</td>\n",
              "      <td>C</td>\n",
              "      <td>F</td>\n",
              "      <td>3</td>\n",
              "      <td>B</td>\n",
              "      <td>A</td>\n",
              "      <td>B</td>\n",
              "      <td>C</td>\n",
              "      <td>A</td>\n",
              "      <td>A</td>\n",
              "      <td>B</td>\n",
              "      <td>B</td>\n",
              "      <td>B</td>\n",
              "      <td>A</td>\n",
              "      <td>B</td>\n",
              "      <td>A</td>\n",
              "      <td>A</td>\n",
              "      <td>C</td>\n",
              "      <td>B</td>\n",
              "      <td>B</td>\n",
              "      <td>D</td>\n",
              "      <td>B</td>\n",
              "      <td>A</td>\n",
              "      <td>B</td>\n",
              "    </tr>\n",
              "    <tr>\n",
              "      <th>5091</th>\n",
              "      <td>190005942525</td>\n",
              "      <td>2019</td>\n",
              "      <td>4315909</td>\n",
              "      <td>Rodeio Bonito</td>\n",
              "      <td>43</td>\n",
              "      <td>RS</td>\n",
              "      <td>18</td>\n",
              "      <td>F</td>\n",
              "      <td>1</td>\n",
              "      <td>1</td>\n",
              "      <td>1</td>\n",
              "      <td>4315909.0</td>\n",
              "      <td>Rodeio Bonito</td>\n",
              "      <td>43.0</td>\n",
              "      <td>RS</td>\n",
              "      <td>2</td>\n",
              "      <td>0</td>\n",
              "      <td>2</td>\n",
              "      <td>1.0</td>\n",
              "      <td>0</td>\n",
              "      <td>43116019.0</td>\n",
              "      <td>4315909.0</td>\n",
              "      <td>Rodeio Bonito</td>\n",
              "      <td>43.0</td>\n",
              "      <td>RS</td>\n",
              "      <td>2.0</td>\n",
              "      <td>1.0</td>\n",
              "      <td>1.0</td>\n",
              "      <td>0</td>\n",
              "      <td>0</td>\n",
              "      <td>0</td>\n",
              "      <td>0</td>\n",
              "      <td>0</td>\n",
              "      <td>0</td>\n",
              "      <td>0</td>\n",
              "      <td>0</td>\n",
              "      <td>0</td>\n",
              "      <td>0</td>\n",
              "      <td>0</td>\n",
              "      <td>0</td>\n",
              "      <td>...</td>\n",
              "      <td>BDCBECAACDBEDBEACBEDABCEACEBDAEBDACCECAEBAEDB</td>\n",
              "      <td>99999EDEEBCAEBCEDCDDAEABADCEBDDADBECBDBEEBABCA...</td>\n",
              "      <td>DECDBBDCCEECBEBECBACDBEADCEBADBCADCEABAEDBAEA</td>\n",
              "      <td>1</td>\n",
              "      <td>DADCCEBBCCACBEEBEEBACBCDDDDADBCBBCEAEADEADAAE</td>\n",
              "      <td>CBABADBBCEEEBCBADCBEEDBBEADBBACDBBACCCCADACAC</td>\n",
              "      <td>BBEDABDACACBABAECBBCCADCEBDBBCDDEEAAADDBECDECA...</td>\n",
              "      <td>DBEBACABCDBABECEEEDCBDCCEDCDABEDAADDDECACAECB</td>\n",
              "      <td>1.0</td>\n",
              "      <td>120.0</td>\n",
              "      <td>120.0</td>\n",
              "      <td>120.0</td>\n",
              "      <td>120.0</td>\n",
              "      <td>140.0</td>\n",
              "      <td>620.0</td>\n",
              "      <td>H</td>\n",
              "      <td>F</td>\n",
              "      <td>F</td>\n",
              "      <td>D</td>\n",
              "      <td>2</td>\n",
              "      <td>D</td>\n",
              "      <td>A</td>\n",
              "      <td>B</td>\n",
              "      <td>C</td>\n",
              "      <td>B</td>\n",
              "      <td>A</td>\n",
              "      <td>B</td>\n",
              "      <td>A</td>\n",
              "      <td>B</td>\n",
              "      <td>A</td>\n",
              "      <td>B</td>\n",
              "      <td>A</td>\n",
              "      <td>A</td>\n",
              "      <td>B</td>\n",
              "      <td>A</td>\n",
              "      <td>A</td>\n",
              "      <td>C</td>\n",
              "      <td>A</td>\n",
              "      <td>B</td>\n",
              "      <td>B</td>\n",
              "    </tr>\n",
              "    <tr>\n",
              "      <th>5092</th>\n",
              "      <td>190002772261</td>\n",
              "      <td>2019</td>\n",
              "      <td>2609105</td>\n",
              "      <td>Machados</td>\n",
              "      <td>26</td>\n",
              "      <td>PE</td>\n",
              "      <td>17</td>\n",
              "      <td>M</td>\n",
              "      <td>1</td>\n",
              "      <td>1</td>\n",
              "      <td>1</td>\n",
              "      <td>2611606.0</td>\n",
              "      <td>Recife</td>\n",
              "      <td>26.0</td>\n",
              "      <td>PE</td>\n",
              "      <td>2</td>\n",
              "      <td>0</td>\n",
              "      <td>2</td>\n",
              "      <td>NaN</td>\n",
              "      <td>0</td>\n",
              "      <td>26070090.0</td>\n",
              "      <td>2609105.0</td>\n",
              "      <td>Machados</td>\n",
              "      <td>26.0</td>\n",
              "      <td>PE</td>\n",
              "      <td>2.0</td>\n",
              "      <td>1.0</td>\n",
              "      <td>1.0</td>\n",
              "      <td>0</td>\n",
              "      <td>0</td>\n",
              "      <td>0</td>\n",
              "      <td>0</td>\n",
              "      <td>0</td>\n",
              "      <td>0</td>\n",
              "      <td>0</td>\n",
              "      <td>0</td>\n",
              "      <td>0</td>\n",
              "      <td>0</td>\n",
              "      <td>0</td>\n",
              "      <td>0</td>\n",
              "      <td>...</td>\n",
              "      <td>ABCACADAACABDDECCEBAADDCBDDDABEEBDECBCBABDCAE</td>\n",
              "      <td>AAAAA99999CDAECAECCDEBCEADCDEBCBAEDAADEEACBDCA...</td>\n",
              "      <td>ECEBCAADADACDACAEDEDEBDDEDABEDBADEDACCECABDCE</td>\n",
              "      <td>0</td>\n",
              "      <td>DEADBAAAEBEECEBCBCBCBDADAEABCEDDDDADCBEECACBC</td>\n",
              "      <td>CBABADBBCEEEBCBADCBEEDBBEADBBACDBBACCCCADACAC</td>\n",
              "      <td>BBEDABDACACBABAECBBCCADCEBDBBCDDEEAAADDBECDECA...</td>\n",
              "      <td>AADDDBEEEBEDDBEBACABCDBABECECACAECDCBDCCEDCDA</td>\n",
              "      <td>1.0</td>\n",
              "      <td>140.0</td>\n",
              "      <td>160.0</td>\n",
              "      <td>160.0</td>\n",
              "      <td>180.0</td>\n",
              "      <td>160.0</td>\n",
              "      <td>800.0</td>\n",
              "      <td>C</td>\n",
              "      <td>A</td>\n",
              "      <td>A</td>\n",
              "      <td>A</td>\n",
              "      <td>8</td>\n",
              "      <td>A</td>\n",
              "      <td>A</td>\n",
              "      <td>B</td>\n",
              "      <td>D</td>\n",
              "      <td>A</td>\n",
              "      <td>A</td>\n",
              "      <td>B</td>\n",
              "      <td>A</td>\n",
              "      <td>A</td>\n",
              "      <td>A</td>\n",
              "      <td>A</td>\n",
              "      <td>A</td>\n",
              "      <td>A</td>\n",
              "      <td>B</td>\n",
              "      <td>A</td>\n",
              "      <td>A</td>\n",
              "      <td>B</td>\n",
              "      <td>A</td>\n",
              "      <td>A</td>\n",
              "      <td>A</td>\n",
              "    </tr>\n",
              "    <tr>\n",
              "      <th>5093</th>\n",
              "      <td>190001276489</td>\n",
              "      <td>2019</td>\n",
              "      <td>2927705</td>\n",
              "      <td>Santa Cruz Cabrália</td>\n",
              "      <td>29</td>\n",
              "      <td>BA</td>\n",
              "      <td>24</td>\n",
              "      <td>M</td>\n",
              "      <td>0</td>\n",
              "      <td>5</td>\n",
              "      <td>1</td>\n",
              "      <td>2903300.0</td>\n",
              "      <td>Barro Preto</td>\n",
              "      <td>29.0</td>\n",
              "      <td>BA</td>\n",
              "      <td>1</td>\n",
              "      <td>6</td>\n",
              "      <td>1</td>\n",
              "      <td>1.0</td>\n",
              "      <td>0</td>\n",
              "      <td>NaN</td>\n",
              "      <td>NaN</td>\n",
              "      <td>NaN</td>\n",
              "      <td>NaN</td>\n",
              "      <td>NaN</td>\n",
              "      <td>NaN</td>\n",
              "      <td>NaN</td>\n",
              "      <td>NaN</td>\n",
              "      <td>0</td>\n",
              "      <td>0</td>\n",
              "      <td>0</td>\n",
              "      <td>0</td>\n",
              "      <td>0</td>\n",
              "      <td>0</td>\n",
              "      <td>0</td>\n",
              "      <td>0</td>\n",
              "      <td>0</td>\n",
              "      <td>0</td>\n",
              "      <td>0</td>\n",
              "      <td>0</td>\n",
              "      <td>...</td>\n",
              "      <td>NaN</td>\n",
              "      <td>NaN</td>\n",
              "      <td>NaN</td>\n",
              "      <td>0</td>\n",
              "      <td>NaN</td>\n",
              "      <td>NaN</td>\n",
              "      <td>NaN</td>\n",
              "      <td>NaN</td>\n",
              "      <td>NaN</td>\n",
              "      <td>NaN</td>\n",
              "      <td>NaN</td>\n",
              "      <td>NaN</td>\n",
              "      <td>NaN</td>\n",
              "      <td>NaN</td>\n",
              "      <td>NaN</td>\n",
              "      <td>B</td>\n",
              "      <td>B</td>\n",
              "      <td>C</td>\n",
              "      <td>F</td>\n",
              "      <td>9</td>\n",
              "      <td>C</td>\n",
              "      <td>A</td>\n",
              "      <td>B</td>\n",
              "      <td>D</td>\n",
              "      <td>A</td>\n",
              "      <td>A</td>\n",
              "      <td>B</td>\n",
              "      <td>A</td>\n",
              "      <td>A</td>\n",
              "      <td>A</td>\n",
              "      <td>A</td>\n",
              "      <td>A</td>\n",
              "      <td>A</td>\n",
              "      <td>B</td>\n",
              "      <td>B</td>\n",
              "      <td>A</td>\n",
              "      <td>D</td>\n",
              "      <td>A</td>\n",
              "      <td>A</td>\n",
              "      <td>B</td>\n",
              "    </tr>\n",
              "    <tr>\n",
              "      <th>5094</th>\n",
              "      <td>190005984465</td>\n",
              "      <td>2019</td>\n",
              "      <td>3550308</td>\n",
              "      <td>São Paulo</td>\n",
              "      <td>35</td>\n",
              "      <td>SP</td>\n",
              "      <td>19</td>\n",
              "      <td>F</td>\n",
              "      <td>1</td>\n",
              "      <td>3</td>\n",
              "      <td>2</td>\n",
              "      <td>NaN</td>\n",
              "      <td>NaN</td>\n",
              "      <td>NaN</td>\n",
              "      <td>NaN</td>\n",
              "      <td>1</td>\n",
              "      <td>2</td>\n",
              "      <td>1</td>\n",
              "      <td>1.0</td>\n",
              "      <td>0</td>\n",
              "      <td>NaN</td>\n",
              "      <td>NaN</td>\n",
              "      <td>NaN</td>\n",
              "      <td>NaN</td>\n",
              "      <td>NaN</td>\n",
              "      <td>NaN</td>\n",
              "      <td>NaN</td>\n",
              "      <td>NaN</td>\n",
              "      <td>0</td>\n",
              "      <td>0</td>\n",
              "      <td>0</td>\n",
              "      <td>0</td>\n",
              "      <td>0</td>\n",
              "      <td>0</td>\n",
              "      <td>0</td>\n",
              "      <td>0</td>\n",
              "      <td>0</td>\n",
              "      <td>0</td>\n",
              "      <td>0</td>\n",
              "      <td>0</td>\n",
              "      <td>...</td>\n",
              "      <td>AEBECCBBAAABBDDDCBBAEBCEDCACCBCCADB..CBAAACCC</td>\n",
              "      <td>99999AEDEECECBBCCCBBDDECBBAAACCAACACADECBDEACC...</td>\n",
              "      <td>BDBDEDBDCBBCBEBADBCBDDCCCBECBECBCEBCBCACCEDEB</td>\n",
              "      <td>1</td>\n",
              "      <td>DADCCEBBCCACBEEBEEBACBCDDDDADBCBBCEAEADEADAAE</td>\n",
              "      <td>EEBCEEDBADBBCBABCCADCEBACDBBACCACACBEADBBADCB</td>\n",
              "      <td>ADBBEDCABAABBCBCDAAECDDDBAAAECADECDCEBDEEAECBD...</td>\n",
              "      <td>DBEBACABCDBABECEEEDCBDCCEDCDABEDAADDDECACAECB</td>\n",
              "      <td>1.0</td>\n",
              "      <td>120.0</td>\n",
              "      <td>100.0</td>\n",
              "      <td>80.0</td>\n",
              "      <td>80.0</td>\n",
              "      <td>60.0</td>\n",
              "      <td>440.0</td>\n",
              "      <td>E</td>\n",
              "      <td>F</td>\n",
              "      <td>F</td>\n",
              "      <td>D</td>\n",
              "      <td>5</td>\n",
              "      <td>I</td>\n",
              "      <td>A</td>\n",
              "      <td>B</td>\n",
              "      <td>C</td>\n",
              "      <td>B</td>\n",
              "      <td>B</td>\n",
              "      <td>B</td>\n",
              "      <td>A</td>\n",
              "      <td>B</td>\n",
              "      <td>B</td>\n",
              "      <td>B</td>\n",
              "      <td>A</td>\n",
              "      <td>A</td>\n",
              "      <td>B</td>\n",
              "      <td>A</td>\n",
              "      <td>A</td>\n",
              "      <td>E</td>\n",
              "      <td>A</td>\n",
              "      <td>C</td>\n",
              "      <td>B</td>\n",
              "    </tr>\n",
              "  </tbody>\n",
              "</table>\n",
              "<p>5 rows × 136 columns</p>\n",
              "</div>"
            ],
            "text/plain": [
              "      NU_INSCRICAO  NU_ANO  CO_MUNICIPIO_RESIDENCIA  ... Q023  Q024 Q025\n",
              "5090  190004067563    2019                  3550308  ...    B     A    B\n",
              "5091  190005942525    2019                  4315909  ...    A     B    B\n",
              "5092  190002772261    2019                  2609105  ...    A     A    A\n",
              "5093  190001276489    2019                  2927705  ...    A     A    B\n",
              "5094  190005984465    2019                  3550308  ...    A     C    B\n",
              "\n",
              "[5 rows x 136 columns]"
            ]
          },
          "metadata": {
            "tags": []
          },
          "execution_count": 5
        }
      ]
    },
    {
      "cell_type": "markdown",
      "metadata": {
        "id": "b94zu4l0pTzC"
      },
      "source": [
        "It look's like the dataset is alright!\r\n",
        "\r\n",
        "Now, lets check the datatypes. Since there are more than a hundred columns, and we'll only use few of them, we're going to check only the important ones in our context. Also, we'll be translating these columns to english."
      ]
    },
    {
      "cell_type": "code",
      "metadata": {
        "id": "X5qlA20ePWWQ"
      },
      "source": [
        "# translate only the columns we'll be using on our analysis\r\n",
        "df.rename(columns={'NU_IDADE':'AGE',\r\n",
        "                   'TP_SEXO':'GENDER',\r\n",
        "                   'TP_COR_RACA':'SKIN_COLOR',\r\n",
        "                   'TP_LINGUA':'FOREIGN_LANGUAGE',\r\n",
        "                   'NU_NOTA_CN':'GRADE_NATURAL_SCIENCES',\r\n",
        "                   'NU_NOTA_CH':'GRADE_HUMAN_SCIENCES',\r\n",
        "                   'NU_NOTA_LC':'GRADE_LANGUAGE_SCIENCES',\r\n",
        "                   'NU_NOTA_MT':'GRADE_MATH_SCIENCES',\r\n",
        "                   'NU_NOTA_REDACAO':'GRADE_ESSAY'}, inplace=True)"
      ],
      "execution_count": 6,
      "outputs": []
    },
    {
      "cell_type": "code",
      "metadata": {
        "id": "0_J07vtTQW9C"
      },
      "source": [
        "# define the important columns for our analysis\r\n",
        "important_columns = ['AGE', 'GENDER',  'SKIN_COLOR',\r\n",
        "                     'FOREIGN_LANGUAGE','GRADE_NATURAL_SCIENCES','GRADE_HUMAN_SCIENCES',\r\n",
        "                     'GRADE_LANGUAGE_SCIENCES','GRADE_MATH_SCIENCES','GRADE_ESSAY']"
      ],
      "execution_count": 7,
      "outputs": []
    },
    {
      "cell_type": "markdown",
      "metadata": {
        "id": "lfFO382TTY_X"
      },
      "source": [
        "Lets check the first rows again, but now, only the important ones."
      ]
    },
    {
      "cell_type": "code",
      "metadata": {
        "id": "KH9_T8qJSj_Q",
        "colab": {
          "base_uri": "https://localhost:8080/",
          "height": 199
        },
        "outputId": "52fa952d-13b4-4780-8ab7-6ba6769da36f"
      },
      "source": [
        "df[important_columns].head()"
      ],
      "execution_count": 8,
      "outputs": [
        {
          "output_type": "execute_result",
          "data": {
            "text/html": [
              "<div>\n",
              "<style scoped>\n",
              "    .dataframe tbody tr th:only-of-type {\n",
              "        vertical-align: middle;\n",
              "    }\n",
              "\n",
              "    .dataframe tbody tr th {\n",
              "        vertical-align: top;\n",
              "    }\n",
              "\n",
              "    .dataframe thead th {\n",
              "        text-align: right;\n",
              "    }\n",
              "</style>\n",
              "<table border=\"1\" class=\"dataframe\">\n",
              "  <thead>\n",
              "    <tr style=\"text-align: right;\">\n",
              "      <th></th>\n",
              "      <th>AGE</th>\n",
              "      <th>GENDER</th>\n",
              "      <th>SKIN_COLOR</th>\n",
              "      <th>FOREIGN_LANGUAGE</th>\n",
              "      <th>GRADE_NATURAL_SCIENCES</th>\n",
              "      <th>GRADE_HUMAN_SCIENCES</th>\n",
              "      <th>GRADE_LANGUAGE_SCIENCES</th>\n",
              "      <th>GRADE_MATH_SCIENCES</th>\n",
              "      <th>GRADE_ESSAY</th>\n",
              "    </tr>\n",
              "  </thead>\n",
              "  <tbody>\n",
              "    <tr>\n",
              "      <th>0</th>\n",
              "      <td>30</td>\n",
              "      <td>M</td>\n",
              "      <td>3</td>\n",
              "      <td>0</td>\n",
              "      <td>406.9</td>\n",
              "      <td>449.9</td>\n",
              "      <td>530.0</td>\n",
              "      <td>408.0</td>\n",
              "      <td>520.0</td>\n",
              "    </tr>\n",
              "    <tr>\n",
              "      <th>1</th>\n",
              "      <td>29</td>\n",
              "      <td>F</td>\n",
              "      <td>3</td>\n",
              "      <td>1</td>\n",
              "      <td>415.2</td>\n",
              "      <td>521.1</td>\n",
              "      <td>529.5</td>\n",
              "      <td>544.2</td>\n",
              "      <td>660.0</td>\n",
              "    </tr>\n",
              "    <tr>\n",
              "      <th>2</th>\n",
              "      <td>31</td>\n",
              "      <td>M</td>\n",
              "      <td>3</td>\n",
              "      <td>0</td>\n",
              "      <td>566.3</td>\n",
              "      <td>626.9</td>\n",
              "      <td>607.7</td>\n",
              "      <td>612.3</td>\n",
              "      <td>700.0</td>\n",
              "    </tr>\n",
              "    <tr>\n",
              "      <th>3</th>\n",
              "      <td>20</td>\n",
              "      <td>F</td>\n",
              "      <td>1</td>\n",
              "      <td>1</td>\n",
              "      <td>NaN</td>\n",
              "      <td>NaN</td>\n",
              "      <td>NaN</td>\n",
              "      <td>NaN</td>\n",
              "      <td>NaN</td>\n",
              "    </tr>\n",
              "    <tr>\n",
              "      <th>4</th>\n",
              "      <td>18</td>\n",
              "      <td>F</td>\n",
              "      <td>3</td>\n",
              "      <td>1</td>\n",
              "      <td>NaN</td>\n",
              "      <td>NaN</td>\n",
              "      <td>NaN</td>\n",
              "      <td>NaN</td>\n",
              "      <td>NaN</td>\n",
              "    </tr>\n",
              "  </tbody>\n",
              "</table>\n",
              "</div>"
            ],
            "text/plain": [
              "   AGE GENDER  ...  GRADE_MATH_SCIENCES  GRADE_ESSAY\n",
              "0   30      M  ...                408.0        520.0\n",
              "1   29      F  ...                544.2        660.0\n",
              "2   31      M  ...                612.3        700.0\n",
              "3   20      F  ...                  NaN          NaN\n",
              "4   18      F  ...                  NaN          NaN\n",
              "\n",
              "[5 rows x 9 columns]"
            ]
          },
          "metadata": {
            "tags": []
          },
          "execution_count": 8
        }
      ]
    },
    {
      "cell_type": "markdown",
      "metadata": {
        "id": "ALtMzygeS6DJ"
      },
      "source": [
        "It look's like some values are 'coded' so we need to 'translate' that."
      ]
    },
    {
      "cell_type": "code",
      "metadata": {
        "id": "3S39D-y6ToZu"
      },
      "source": [
        "df['GENDER'] = df['GENDER'].map({'M':'Male',\r\n",
        "                  'F':'Female'})\r\n",
        "\r\n",
        "df['SKIN_COLOR'] = df['SKIN_COLOR'].map({0:'Not Informed',\r\n",
        "                     1:'White',\r\n",
        "                     2:'Black',\r\n",
        "                     3:'Brown',\r\n",
        "                     4:'Yellow',\r\n",
        "                     5:'Indigenous'})\r\n",
        "\r\n",
        "df['FOREIGN_LANGUAGE'] = df['FOREIGN_LANGUAGE'].map({0:'English',\r\n",
        "                     1:'Spanish'})"
      ],
      "execution_count": 9,
      "outputs": []
    },
    {
      "cell_type": "markdown",
      "metadata": {
        "id": "E1iBHjR3VU--"
      },
      "source": [
        "Now, lets check the datatypes."
      ]
    },
    {
      "cell_type": "code",
      "metadata": {
        "colab": {
          "base_uri": "https://localhost:8080/"
        },
        "id": "DAJo3JLRVULJ",
        "outputId": "5224ab45-aaef-4691-b3cc-cd99e70c76e8"
      },
      "source": [
        "# check the columns types\r\n",
        "df[important_columns].dtypes"
      ],
      "execution_count": 10,
      "outputs": [
        {
          "output_type": "execute_result",
          "data": {
            "text/plain": [
              "AGE                          int64\n",
              "GENDER                      object\n",
              "SKIN_COLOR                  object\n",
              "FOREIGN_LANGUAGE            object\n",
              "GRADE_NATURAL_SCIENCES     float64\n",
              "GRADE_HUMAN_SCIENCES       float64\n",
              "GRADE_LANGUAGE_SCIENCES    float64\n",
              "GRADE_MATH_SCIENCES        float64\n",
              "GRADE_ESSAY                float64\n",
              "dtype: object"
            ]
          },
          "metadata": {
            "tags": []
          },
          "execution_count": 10
        }
      ]
    },
    {
      "cell_type": "markdown",
      "metadata": {
        "id": "zHnLJdJqzzjr"
      },
      "source": [
        "Most of them are correct. But some categorical types were handled incorrectly. Let's fix that."
      ]
    },
    {
      "cell_type": "code",
      "metadata": {
        "id": "vo6n5oXTz9wz"
      },
      "source": [
        "# change the type of columns for 'GENDER', 'RACE' and 'FOREING LANGUAGE' to category\r\n",
        "df['GENDER'] = df['GENDER'].astype('category')\r\n",
        "df['SKIN_COLOR'] = df['SKIN_COLOR'].astype('category')\r\n",
        "df['FOREIGN_LANGUAGE'] = df['FOREIGN_LANGUAGE'].astype('category')"
      ],
      "execution_count": 11,
      "outputs": []
    },
    {
      "cell_type": "markdown",
      "metadata": {
        "id": "B8563nWbzfaa"
      },
      "source": [
        "Let's check for duplicated and null values, as these can have a huge impact on our analysis."
      ]
    },
    {
      "cell_type": "code",
      "metadata": {
        "colab": {
          "base_uri": "https://localhost:8080/"
        },
        "id": "sE2ZsTLuknQh",
        "outputId": "021bf528-20ca-4d20-e9dc-fec490f70218"
      },
      "source": [
        "# check for duplicates\r\n",
        "df.duplicated().sum()"
      ],
      "execution_count": 12,
      "outputs": [
        {
          "output_type": "execute_result",
          "data": {
            "text/plain": [
              "0"
            ]
          },
          "metadata": {
            "tags": []
          },
          "execution_count": 12
        }
      ]
    },
    {
      "cell_type": "markdown",
      "metadata": {
        "id": "W9XO4r1mrruG"
      },
      "source": [
        "No duplicates! What about null values?"
      ]
    },
    {
      "cell_type": "code",
      "metadata": {
        "colab": {
          "base_uri": "https://localhost:8080/"
        },
        "id": "NhGFWlyrkbwF",
        "outputId": "f4d0662b-43fa-4f31-cfda-99e2a1b7db97"
      },
      "source": [
        "# check for missing values\r\n",
        "df[important_columns].isna().sum()"
      ],
      "execution_count": 13,
      "outputs": [
        {
          "output_type": "execute_result",
          "data": {
            "text/plain": [
              "AGE                           0\n",
              "GENDER                        0\n",
              "SKIN_COLOR                    0\n",
              "FOREIGN_LANGUAGE              0\n",
              "GRADE_NATURAL_SCIENCES     1391\n",
              "GRADE_HUMAN_SCIENCES       1181\n",
              "GRADE_LANGUAGE_SCIENCES    1181\n",
              "GRADE_MATH_SCIENCES        1391\n",
              "GRADE_ESSAY                1181\n",
              "dtype: int64"
            ]
          },
          "metadata": {
            "tags": []
          },
          "execution_count": 13
        }
      ]
    },
    {
      "cell_type": "markdown",
      "metadata": {
        "id": "35CP3Uvpo6-9"
      },
      "source": [
        "Altought we don't have any duplicates, we've got a lot of missing values on our dataset. Let's take a look at these cases, to see if we can spot a reason for that."
      ]
    },
    {
      "cell_type": "code",
      "metadata": {
        "colab": {
          "base_uri": "https://localhost:8080/",
          "height": 430
        },
        "id": "RegOCBa3ohrH",
        "outputId": "e88f7478-c327-4e4a-ce88-73836ea65eb9"
      },
      "source": [
        "# check the rows with na in selected columns\r\n",
        "df[df[important_columns].isna().any(axis=1)][important_columns]"
      ],
      "execution_count": 14,
      "outputs": [
        {
          "output_type": "execute_result",
          "data": {
            "text/html": [
              "<div>\n",
              "<style scoped>\n",
              "    .dataframe tbody tr th:only-of-type {\n",
              "        vertical-align: middle;\n",
              "    }\n",
              "\n",
              "    .dataframe tbody tr th {\n",
              "        vertical-align: top;\n",
              "    }\n",
              "\n",
              "    .dataframe thead th {\n",
              "        text-align: right;\n",
              "    }\n",
              "</style>\n",
              "<table border=\"1\" class=\"dataframe\">\n",
              "  <thead>\n",
              "    <tr style=\"text-align: right;\">\n",
              "      <th></th>\n",
              "      <th>AGE</th>\n",
              "      <th>GENDER</th>\n",
              "      <th>SKIN_COLOR</th>\n",
              "      <th>FOREIGN_LANGUAGE</th>\n",
              "      <th>GRADE_NATURAL_SCIENCES</th>\n",
              "      <th>GRADE_HUMAN_SCIENCES</th>\n",
              "      <th>GRADE_LANGUAGE_SCIENCES</th>\n",
              "      <th>GRADE_MATH_SCIENCES</th>\n",
              "      <th>GRADE_ESSAY</th>\n",
              "    </tr>\n",
              "  </thead>\n",
              "  <tbody>\n",
              "    <tr>\n",
              "      <th>3</th>\n",
              "      <td>20</td>\n",
              "      <td>Female</td>\n",
              "      <td>White</td>\n",
              "      <td>Spanish</td>\n",
              "      <td>NaN</td>\n",
              "      <td>NaN</td>\n",
              "      <td>NaN</td>\n",
              "      <td>NaN</td>\n",
              "      <td>NaN</td>\n",
              "    </tr>\n",
              "    <tr>\n",
              "      <th>4</th>\n",
              "      <td>18</td>\n",
              "      <td>Female</td>\n",
              "      <td>Brown</td>\n",
              "      <td>Spanish</td>\n",
              "      <td>NaN</td>\n",
              "      <td>NaN</td>\n",
              "      <td>NaN</td>\n",
              "      <td>NaN</td>\n",
              "      <td>NaN</td>\n",
              "    </tr>\n",
              "    <tr>\n",
              "      <th>6</th>\n",
              "      <td>22</td>\n",
              "      <td>Male</td>\n",
              "      <td>Brown</td>\n",
              "      <td>Spanish</td>\n",
              "      <td>NaN</td>\n",
              "      <td>NaN</td>\n",
              "      <td>NaN</td>\n",
              "      <td>NaN</td>\n",
              "      <td>NaN</td>\n",
              "    </tr>\n",
              "    <tr>\n",
              "      <th>9</th>\n",
              "      <td>55</td>\n",
              "      <td>Male</td>\n",
              "      <td>Black</td>\n",
              "      <td>English</td>\n",
              "      <td>NaN</td>\n",
              "      <td>NaN</td>\n",
              "      <td>NaN</td>\n",
              "      <td>NaN</td>\n",
              "      <td>NaN</td>\n",
              "    </tr>\n",
              "    <tr>\n",
              "      <th>15</th>\n",
              "      <td>16</td>\n",
              "      <td>Female</td>\n",
              "      <td>Brown</td>\n",
              "      <td>Spanish</td>\n",
              "      <td>416.1</td>\n",
              "      <td>NaN</td>\n",
              "      <td>NaN</td>\n",
              "      <td>385.6</td>\n",
              "      <td>NaN</td>\n",
              "    </tr>\n",
              "    <tr>\n",
              "      <th>...</th>\n",
              "      <td>...</td>\n",
              "      <td>...</td>\n",
              "      <td>...</td>\n",
              "      <td>...</td>\n",
              "      <td>...</td>\n",
              "      <td>...</td>\n",
              "      <td>...</td>\n",
              "      <td>...</td>\n",
              "      <td>...</td>\n",
              "    </tr>\n",
              "    <tr>\n",
              "      <th>5069</th>\n",
              "      <td>18</td>\n",
              "      <td>Female</td>\n",
              "      <td>White</td>\n",
              "      <td>English</td>\n",
              "      <td>NaN</td>\n",
              "      <td>379.0</td>\n",
              "      <td>440.6</td>\n",
              "      <td>NaN</td>\n",
              "      <td>360.0</td>\n",
              "    </tr>\n",
              "    <tr>\n",
              "      <th>5077</th>\n",
              "      <td>21</td>\n",
              "      <td>Male</td>\n",
              "      <td>White</td>\n",
              "      <td>English</td>\n",
              "      <td>NaN</td>\n",
              "      <td>436.0</td>\n",
              "      <td>451.4</td>\n",
              "      <td>NaN</td>\n",
              "      <td>320.0</td>\n",
              "    </tr>\n",
              "    <tr>\n",
              "      <th>5084</th>\n",
              "      <td>22</td>\n",
              "      <td>Male</td>\n",
              "      <td>Black</td>\n",
              "      <td>English</td>\n",
              "      <td>NaN</td>\n",
              "      <td>NaN</td>\n",
              "      <td>NaN</td>\n",
              "      <td>NaN</td>\n",
              "      <td>NaN</td>\n",
              "    </tr>\n",
              "    <tr>\n",
              "      <th>5085</th>\n",
              "      <td>21</td>\n",
              "      <td>Male</td>\n",
              "      <td>White</td>\n",
              "      <td>Spanish</td>\n",
              "      <td>NaN</td>\n",
              "      <td>NaN</td>\n",
              "      <td>NaN</td>\n",
              "      <td>NaN</td>\n",
              "      <td>NaN</td>\n",
              "    </tr>\n",
              "    <tr>\n",
              "      <th>5093</th>\n",
              "      <td>24</td>\n",
              "      <td>Male</td>\n",
              "      <td>Indigenous</td>\n",
              "      <td>English</td>\n",
              "      <td>NaN</td>\n",
              "      <td>NaN</td>\n",
              "      <td>NaN</td>\n",
              "      <td>NaN</td>\n",
              "      <td>NaN</td>\n",
              "    </tr>\n",
              "  </tbody>\n",
              "</table>\n",
              "<p>1398 rows × 9 columns</p>\n",
              "</div>"
            ],
            "text/plain": [
              "      AGE  GENDER  ... GRADE_MATH_SCIENCES GRADE_ESSAY\n",
              "3      20  Female  ...                 NaN         NaN\n",
              "4      18  Female  ...                 NaN         NaN\n",
              "6      22    Male  ...                 NaN         NaN\n",
              "9      55    Male  ...                 NaN         NaN\n",
              "15     16  Female  ...               385.6         NaN\n",
              "...   ...     ...  ...                 ...         ...\n",
              "5069   18  Female  ...                 NaN       360.0\n",
              "5077   21    Male  ...                 NaN       320.0\n",
              "5084   22    Male  ...                 NaN         NaN\n",
              "5085   21    Male  ...                 NaN         NaN\n",
              "5093   24    Male  ...                 NaN         NaN\n",
              "\n",
              "[1398 rows x 9 columns]"
            ]
          },
          "metadata": {
            "tags": []
          },
          "execution_count": 14
        }
      ]
    },
    {
      "cell_type": "markdown",
      "metadata": {
        "id": "KaexLDDouTHZ"
      },
      "source": [
        "It looks like the everyone has their personal information complete, but not everybody has a score. This is because students have to fill a form in order to take the exam, but some of them, don't actually take the test.\r\n",
        "\r\n",
        "Since our analysis is focused only on those who completed the whole exam, we're going to discard the rows with missing information for the grades."
      ]
    },
    {
      "cell_type": "code",
      "metadata": {
        "id": "5v75AID-vy0y"
      },
      "source": [
        "grades_columns = ['GRADE_NATURAL_SCIENCES','GRADE_HUMAN_SCIENCES','GRADE_LANGUAGE_SCIENCES','GRADE_MATH_SCIENCES','GRADE_ESSAY']\r\n",
        "df.dropna(subset=grades_columns, inplace=True)"
      ],
      "execution_count": 15,
      "outputs": []
    },
    {
      "cell_type": "markdown",
      "metadata": {
        "id": "6-5NrO1zwN-O"
      },
      "source": [
        "Now, let's do some graphical EDA. For the numericals, we're going to plot the distribution, for the categoricals, the count/proportion."
      ]
    },
    {
      "cell_type": "code",
      "metadata": {
        "colab": {
          "base_uri": "https://localhost:8080/",
          "height": 321
        },
        "id": "4r65uWZW3nhc",
        "outputId": "f64c8682-4b01-4411-9ce2-082db246095e"
      },
      "source": [
        "# Plot the 'Skin Color' count\r\n",
        "df['SKIN_COLOR'].value_counts(dropna=False).plot(kind='bar', color=['#1f77b4', '#ff7f0e', '#2ca02c', '#d62728', '#9467bd', '#8c564b'], alpha=.2)\r\n",
        "plt.show()"
      ],
      "execution_count": 16,
      "outputs": [
        {
          "output_type": "display_data",
          "data": {
            "image/png": "[encoded data removed]",
            "text/plain": [
              "<Figure size 432x288 with 1 Axes>"
            ]
          },
          "metadata": {
            "tags": [],
            "needs_background": "light"
          }
        }
      ]
    },
    {
      "cell_type": "code",
      "metadata": {
        "colab": {
          "base_uri": "https://localhost:8080/",
          "height": 291
        },
        "id": "EIK5xCUk440S",
        "outputId": "431e4266-91fd-4572-ca7a-7ee9c944c8f7"
      },
      "source": [
        "# Plot the gender count\r\n",
        "df['GENDER'].value_counts().plot(kind='bar', color=['#d62728', '#1f77b4'], alpha=.2)\r\n",
        "plt.show()"
      ],
      "execution_count": 17,
      "outputs": [
        {
          "output_type": "display_data",
          "data": {
            "image/png": "[encoded data removed]",
            "text/plain": [
              "<Figure size 432x288 with 1 Axes>"
            ]
          },
          "metadata": {
            "tags": [],
            "needs_background": "light"
          }
        }
      ]
    },
    {
      "cell_type": "code",
      "metadata": {
        "colab": {
          "base_uri": "https://localhost:8080/",
          "height": 295
        },
        "id": "F7W-Kiz56KiE",
        "outputId": "a56252aa-867c-4da5-ea44-a9847725c29d"
      },
      "source": [
        "# Plot the 'foreign language' count\r\n",
        "df['FOREIGN_LANGUAGE'].value_counts().plot(kind='bar', color=['#d62728', '#1f77b4'], alpha=.2)\r\n",
        "plt.show()"
      ],
      "execution_count": 18,
      "outputs": [
        {
          "output_type": "display_data",
          "data": {
            "image/png": "[encoded data removed]",
            "text/plain": [
              "<Figure size 432x288 with 1 Axes>"
            ]
          },
          "metadata": {
            "tags": [],
            "needs_background": "light"
          }
        }
      ]
    },
    {
      "cell_type": "code",
      "metadata": {
        "colab": {
          "base_uri": "https://localhost:8080/",
          "height": 1000
        },
        "id": "jnBRoyqNGUu2",
        "outputId": "bbccf0d5-03e2-411c-c4f7-ec596a09b708"
      },
      "source": [
        "# Plot a histogram for the grades\r\n",
        "for column in grades_columns:\r\n",
        "  df[column].plot(kind='hist', alpha=0.2, bins=20)\r\n",
        "  plt.xlabel(\"Score\")\r\n",
        "  plt.legend()\r\n",
        "  plt.show()"
      ],
      "execution_count": 19,
      "outputs": [
        {
          "output_type": "display_data",
          "data": {
            "image/png": "[encoded data removed]",
            "text/plain": [
              "<Figure size 432x288 with 1 Axes>"
            ]
          },
          "metadata": {
            "tags": [],
            "needs_background": "light"
          }
        },
        {
          "output_type": "display_data",
          "data": {
            "image/png": "[encoded data removed]",
            "text/plain": [
              "<Figure size 432x288 with 1 Axes>"
            ]
          },
          "metadata": {
            "tags": [],
            "needs_background": "light"
          }
        },
        {
          "output_type": "display_data",
          "data": {
            "image/png": "[encoded data removed]",
            "text/plain": [
              "<Figure size 432x288 with 1 Axes>"
            ]
          },
          "metadata": {
            "tags": [],
            "needs_background": "light"
          }
        },
        {
          "output_type": "display_data",
          "data": {
            "image/png": "[encoded data removed]",
            "text/plain": [
              "<Figure size 432x288 with 1 Axes>"
            ]
          },
          "metadata": {
            "tags": [],
            "needs_background": "light"
          }
        },
        {
          "output_type": "display_data",
          "data": {
            "image/png": "[encoded data removed]",
            "text/plain": [
              "<Figure size 432x288 with 1 Axes>"
            ]
          },
          "metadata": {
            "tags": [],
            "needs_background": "light"
          }
        }
      ]
    },
    {
      "cell_type": "markdown",
      "metadata": {
        "id": "o9SceYW4xLC7"
      },
      "source": [
        " ## 3. Data Preparation"
      ]
    },
    {
      "cell_type": "markdown",
      "metadata": {
        "id": "huJpKN2IL5r7"
      },
      "source": [
        "Now, let's prepare some data for our analysis. Also we'll define the significance level (alpha) for our tests, and the function we're going to be using for getting the bootstrap distributions."
      ]
    },
    {
      "cell_type": "code",
      "metadata": {
        "id": "H2RC_77K2DIu"
      },
      "source": [
        "# create a column with the total score\r\n",
        "df['TOTAL_SCORE'] = df[grades_columns].sum(axis=1)"
      ],
      "execution_count": 20,
      "outputs": []
    },
    {
      "cell_type": "code",
      "metadata": {
        "id": "x90bxuPa2Eeh"
      },
      "source": [
        "# create a flag to inform if the family average income is more than 2 brazilian minimum wages\r\n",
        "df['AVERAGE_INCOME_MORE_2WAGES'] = ~df['Q006'].isin(['A','B','C','D'])"
      ],
      "execution_count": 21,
      "outputs": []
    },
    {
      "cell_type": "code",
      "metadata": {
        "id": "8XdVQeMTPuVE"
      },
      "source": [
        "# define our significance level as 5%\r\n",
        "alpha = 0.05"
      ],
      "execution_count": 22,
      "outputs": []
    },
    {
      "cell_type": "code",
      "metadata": {
        "id": "Sd7X6EwSNRxp"
      },
      "source": [
        "def get_bootstrap_means(group1, group2):\r\n",
        "#   \"\"\" Compute N bootstrap sample means for for two groups\"\"\"\r\n",
        "  n_bootstraps = 1000\r\n",
        "  group1_mean_list, group2_mean_list = [], []\r\n",
        "  for _ in range(n_bootstraps):\r\n",
        "    # Take the bootstrap sample for each group independently\r\n",
        "    group1_mean = group1.sample(group1.shape[0], replace=True).mean()\r\n",
        "    group2_mean = group2.sample(group2.shape[0], replace=True).mean()\r\n",
        "    group1_mean_list.append(group1_mean)\r\n",
        "    group2_mean_list.append(group2_mean)\r\n",
        "  \r\n",
        "  return pd.Series(group1_mean_list), pd.Series(group2_mean_list)"
      ],
      "execution_count": 23,
      "outputs": []
    },
    {
      "cell_type": "markdown",
      "metadata": {
        "id": "yaBiwPSnK9rM"
      },
      "source": [
        "## 4. Bootstrap Hypothesis Tests"
      ]
    },
    {
      "cell_type": "markdown",
      "metadata": {
        "id": "jl2HZ6fvMjfA"
      },
      "source": [
        "### 4.1. Do brazilian students declared themselves as white skinned have higher average scores than those self declared as brown skinned?\r\n",
        "\r\n",
        "To answer this question, we're going to perform the following hypothesis test:\r\n",
        "\r\n"
      ]
    },
    {
      "cell_type": "markdown",
      "metadata": {
        "id": "NF5RfDlv9ig2"
      },
      "source": [
        "$$ H_0 : \\mu_{score\\_white} \\le \\mu_{score\\_brown} $$"
      ]
    },
    {
      "cell_type": "markdown",
      "metadata": {
        "id": "krjIxa129h9k"
      },
      "source": [
        "$$ H_1 : \\mu_{score\\_white} \\gt \\mu_{score\\_brown} $$"
      ]
    },
    {
      "cell_type": "markdown",
      "metadata": {
        "id": "wv_ffqQoZbih"
      },
      "source": [
        "First, we're going to generate 10.000 bootstrap means for each group, and use that to empirically create the sample distribution for the mean score."
      ]
    },
    {
      "cell_type": "code",
      "metadata": {
        "id": "HQ3gZzZXOOmW"
      },
      "source": [
        "white_mean_score_list, brown_mean_score_list = get_bootstrap_means(df.query('SKIN_COLOR==\"White\"')['TOTAL_SCORE'], df.query('SKIN_COLOR==\"Brown\"')['TOTAL_SCORE'])"
      ],
      "execution_count": 24,
      "outputs": []
    },
    {
      "cell_type": "code",
      "metadata": {
        "colab": {
          "base_uri": "https://localhost:8080/",
          "height": 265
        },
        "id": "W4FK1d19OdeM",
        "outputId": "2f684090-1e47-40bb-a90d-215406419415"
      },
      "source": [
        "white_mean_score_list.plot(kind='hist', alpha=.2, label=\"White\")\r\n",
        "brown_mean_score_list.plot(kind='hist', alpha=.2, label=\"Brown\")\r\n",
        "plt.legend()\r\n",
        "plt.show()"
      ],
      "execution_count": 25,
      "outputs": [
        {
          "output_type": "display_data",
          "data": {
            "image/png": "[encoded data removed]",
            "text/plain": [
              "<Figure size 432x288 with 1 Axes>"
            ]
          },
          "metadata": {
            "tags": [],
            "needs_background": "light"
          }
        }
      ]
    },
    {
      "cell_type": "markdown",
      "metadata": {
        "id": "NHF8AlWGPFkU"
      },
      "source": [
        "Let's calculate the p-value and the 'bootstrap equivalent' t-statistic for our hypothesis."
      ]
    },
    {
      "cell_type": "code",
      "metadata": {
        "colab": {
          "base_uri": "https://localhost:8080/"
        },
        "id": "EJtPJ2SbPMTK",
        "outputId": "be881a29-fb51-4811-f4cd-5c68b62ae468"
      },
      "source": [
        "# compute the probability of h0\r\n",
        "pvalue_boot = (white_mean_score_list <= brown_mean_score_list).mean()\r\n",
        "\r\n",
        "# Compute the bootstrap equivalent for the t-statistic\r\n",
        "diff = white_mean_score_list-brown_mean_score_list\r\n",
        "statistic_boot = (diff.mean())/diff.std()\r\n",
        "\r\n",
        "statistic_boot, pvalue_boot"
      ],
      "execution_count": 26,
      "outputs": [
        {
          "output_type": "execute_result",
          "data": {
            "text/plain": [
              "(12.496769770232746, 0.0)"
            ]
          },
          "metadata": {
            "tags": []
          },
          "execution_count": 26
        }
      ]
    },
    {
      "cell_type": "code",
      "metadata": {
        "colab": {
          "base_uri": "https://localhost:8080/"
        },
        "id": "gwUIR3NlZWdg",
        "outputId": "8eea3e7f-435a-47d5-fff9-46ff8f3de3f5"
      },
      "source": [
        "# Compare the p_value to the significance level\r\n",
        "if (pvalue_boot < alpha):\r\n",
        "  print(\"Reject the Null Hypothesis.\")\r\n",
        "else:\r\n",
        "  print(\"Fail to Reject the Null Hypothesis.\")"
      ],
      "execution_count": 27,
      "outputs": [
        {
          "output_type": "stream",
          "text": [
            "Reject the Null Hypothesis.\n"
          ],
          "name": "stdout"
        }
      ]
    },
    {
      "cell_type": "markdown",
      "metadata": {
        "id": "4--txtfdQwxD"
      },
      "source": [
        "**At the significance level of 0.05, we have evidence to reject the null hypothesis in favor of the alternative. Brazilian students self declared as white skinned have higher average scores than those with brown skin.**"
      ]
    },
    {
      "cell_type": "markdown",
      "metadata": {
        "id": "6Rm7hv0PRbda"
      },
      "source": [
        "###4.2. Do brazilian students declared themselves as white skinned have higher average family income than those self declared as brown skinned?"
      ]
    },
    {
      "cell_type": "markdown",
      "metadata": {
        "id": "3Ihcn8eSR0Ev"
      },
      "source": [
        "$$ H_0 : p_{income\\_white} \\le p_{income\\_brown} $$"
      ]
    },
    {
      "cell_type": "markdown",
      "metadata": {
        "id": "lLeFj5sVR0Ew"
      },
      "source": [
        "$$ H_1 : p_{income\\_white} \\gt p_{income\\_brown} $$"
      ]
    },
    {
      "cell_type": "markdown",
      "metadata": {
        "id": "3YbejfIY4CM4"
      },
      "source": [
        "Since we don't actually have the family average income information for each student (we only have information about the family income 'groups'), we'll use the proportion of families with higher income as a proxy to our goal."
      ]
    },
    {
      "cell_type": "code",
      "metadata": {
        "id": "6dTrUXq6SBOC"
      },
      "source": [
        "white_proportion_income_list, brown_proportion_income_list = get_bootstrap_means(df.query('SKIN_COLOR==\"White\"')['AVERAGE_INCOME_MORE_2WAGES'], df.query('SKIN_COLOR==\"Brown\"')['AVERAGE_INCOME_MORE_2WAGES'])"
      ],
      "execution_count": 28,
      "outputs": []
    },
    {
      "cell_type": "code",
      "metadata": {
        "colab": {
          "base_uri": "https://localhost:8080/",
          "height": 265
        },
        "id": "1Fz-s2kCSEB0",
        "outputId": "39388375-8a77-4ed9-824c-46c896e1e003"
      },
      "source": [
        "white_proportion_income_list.plot(kind='hist', alpha=.2, label=\"White\")\r\n",
        "brown_proportion_income_list.plot(kind='hist', alpha=.2, label=\"Brown\")\r\n",
        "plt.legend()\r\n",
        "plt.show()"
      ],
      "execution_count": 29,
      "outputs": [
        {
          "output_type": "display_data",
          "data": {
            "image/png": "[encoded data removed]",
            "text/plain": [
              "<Figure size 432x288 with 1 Axes>"
            ]
          },
          "metadata": {
            "tags": [],
            "needs_background": "light"
          }
        }
      ]
    },
    {
      "cell_type": "markdown",
      "metadata": {
        "id": "j6FYbmupRvkf"
      },
      "source": [
        "Let's calculate the p-value and the 'bootstrap equivalent' t-statistic for our hypothesis."
      ]
    },
    {
      "cell_type": "code",
      "metadata": {
        "colab": {
          "base_uri": "https://localhost:8080/"
        },
        "id": "_dTQELyxRvkg",
        "outputId": "5752f6b9-0ed5-4ec5-b175-4cbb43c09a8e"
      },
      "source": [
        "# compute the probability of h0\r\n",
        "pvalue_boot = (white_proportion_income_list <= brown_proportion_income_list).mean()\r\n",
        "\r\n",
        "# Compute the bootstrap equivalent for the t-statistic\r\n",
        "diff = white_proportion_income_list-brown_proportion_income_list\r\n",
        "statistic_boot = (diff.mean())/diff.std()\r\n",
        "\r\n",
        "statistic_boot, pvalue_boot"
      ],
      "execution_count": 30,
      "outputs": [
        {
          "output_type": "execute_result",
          "data": {
            "text/plain": [
              "(14.497852883018671, 0.0)"
            ]
          },
          "metadata": {
            "tags": []
          },
          "execution_count": 30
        }
      ]
    },
    {
      "cell_type": "code",
      "metadata": {
        "colab": {
          "base_uri": "https://localhost:8080/"
        },
        "id": "u_WIxnFp499C",
        "outputId": "dc8755f7-377e-4b06-e1c1-c1336fdd7350"
      },
      "source": [
        "# Compare the p_value to the significance level\r\n",
        "if (pvalue_boot < alpha):\r\n",
        "  print(\"Reject the Null Hypothesis.\")\r\n",
        "else:\r\n",
        "  print(\"Fail to Reject the Null Hypothesis.\")"
      ],
      "execution_count": 31,
      "outputs": [
        {
          "output_type": "stream",
          "text": [
            "Reject the Null Hypothesis.\n"
          ],
          "name": "stdout"
        }
      ]
    },
    {
      "cell_type": "markdown",
      "metadata": {
        "id": "XJ3SWDSI5L6d"
      },
      "source": [
        "**At the significance level of 0.05, we have evidence to reject the null hypothesis in favor of the alternative. The proportion of brazilian students with a family monthly income of more than two minimum wages is higher for those declared as white than for brown skin.**"
      ]
    },
    {
      "cell_type": "markdown",
      "metadata": {
        "id": "B5P1AY_OYyLX"
      },
      "source": [
        "### 4.3 - Do brazilian students declared themselves as brown skinned have higher average scores than those self declared as black?\r\n",
        "\r\n",
        "To answer this question, we're going to perform the following hypothesis test:"
      ]
    },
    {
      "cell_type": "markdown",
      "metadata": {
        "id": "cyzY2Yh_-3aE"
      },
      "source": [
        "$$H_0: \\mu_{score\\_brown} \\le \\mu_{score\\_black}$$"
      ]
    },
    {
      "cell_type": "markdown",
      "metadata": {
        "id": "leZ4RzIG-4X2"
      },
      "source": [
        "$$H_1: \\mu_{score\\_brown} \\gt \\mu_{score\\_black}$$"
      ]
    },
    {
      "cell_type": "markdown",
      "metadata": {
        "id": "Chgb2CregYd-"
      },
      "source": [
        "Again, we're going to generate 10.000 bootstrap means for each group, and use that to empirically create the sample distribution for the mean."
      ]
    },
    {
      "cell_type": "code",
      "metadata": {
        "id": "Xr5yFw8vYyLY"
      },
      "source": [
        "brown_mean_score_list, black_mean_score_list = get_bootstrap_means(df.query('SKIN_COLOR==\"Brown\"')['TOTAL_SCORE'], df.query('SKIN_COLOR==\"Black\"')['TOTAL_SCORE'])"
      ],
      "execution_count": 32,
      "outputs": []
    },
    {
      "cell_type": "code",
      "metadata": {
        "colab": {
          "base_uri": "https://localhost:8080/",
          "height": 265
        },
        "id": "90XzXkkMYyLY",
        "outputId": "541efaa7-d6d3-46d5-83e6-26b424a329ba"
      },
      "source": [
        "black_mean_score_list.plot(kind='hist', alpha=.2, label=\"Black\")\r\n",
        "brown_mean_score_list.plot(kind='hist', alpha=.2, label=\"Brown\")\r\n",
        "plt.legend()\r\n",
        "plt.show()"
      ],
      "execution_count": 33,
      "outputs": [
        {
          "output_type": "display_data",
          "data": {
            "image/png": "[encoded data removed]",
            "text/plain": [
              "<Figure size 432x288 with 1 Axes>"
            ]
          },
          "metadata": {
            "tags": [],
            "needs_background": "light"
          }
        }
      ]
    },
    {
      "cell_type": "markdown",
      "metadata": {
        "id": "Ycn2nGxoYyLY"
      },
      "source": [
        "Let's calculate the p-value and the 'bootstrap equivalent' t-statistic for our hypothesis."
      ]
    },
    {
      "cell_type": "code",
      "metadata": {
        "colab": {
          "base_uri": "https://localhost:8080/"
        },
        "id": "8v6WbGDhYyLY",
        "outputId": "fed99a37-1f31-4f9d-eb4f-5353ca28ce62"
      },
      "source": [
        "# compute the probability of h0\r\n",
        "pvalue_boot = (brown_mean_score_list <= black_mean_score_list).mean()\r\n",
        "\r\n",
        "# Compute the bootstrap equivalent for the t-statistic\r\n",
        "diff = brown_mean_score_list-black_mean_score_list\r\n",
        "statistic_boot = (diff.mean())/diff.std()\r\n",
        "\r\n",
        "statistic_boot, pvalue_boot"
      ],
      "execution_count": 34,
      "outputs": [
        {
          "output_type": "execute_result",
          "data": {
            "text/plain": [
              "(0.1369274846376035, 0.439)"
            ]
          },
          "metadata": {
            "tags": []
          },
          "execution_count": 34
        }
      ]
    },
    {
      "cell_type": "code",
      "metadata": {
        "colab": {
          "base_uri": "https://localhost:8080/"
        },
        "id": "mfAeeTM4g1FQ",
        "outputId": "3dcf2e72-6250-4bb7-92e6-608dd142de58"
      },
      "source": [
        "# Compare the p_value to the significance level\r\n",
        "if (pvalue_boot < alpha):\r\n",
        "  print(\"Reject the Null Hypothesis.\")\r\n",
        "else:\r\n",
        "  print(\"Fail to Reject the Null Hypothesis.\")"
      ],
      "execution_count": 35,
      "outputs": [
        {
          "output_type": "stream",
          "text": [
            "Fail to Reject the Null Hypothesis.\n"
          ],
          "name": "stdout"
        }
      ]
    },
    {
      "cell_type": "markdown",
      "metadata": {
        "id": "KwoH15-2YyLZ"
      },
      "source": [
        "**At the significance level of 0.05, we don't have evidence to reject the null hypothesis. Brazilian students self declared as brown skinned don't have higher average scores than those self declared as black.**"
      ]
    },
    {
      "cell_type": "markdown",
      "metadata": {
        "id": "d4MGt1quTrje"
      },
      "source": [
        "### 4.4 - Do brazilian students declared themselves as brown skinned have higher average family income than those self declared as black?"
      ]
    },
    {
      "cell_type": "markdown",
      "metadata": {
        "id": "pKE_GTn0TuWn"
      },
      "source": [
        "$$ H_0 : p_{income\\_brown} \\le p_{income\\_black} $$"
      ]
    },
    {
      "cell_type": "markdown",
      "metadata": {
        "id": "Z9GJAIFvTuWn"
      },
      "source": [
        "$$ H_1 : p_{income\\_brown} \\gt p_{income\\__black} $$"
      ]
    },
    {
      "cell_type": "markdown",
      "metadata": {
        "id": "OdyhACqj8_eJ"
      },
      "source": [
        "Again, since we don't actually have the family average income information for each student (we only have information about the family income 'groups'), we'll use the proportion of families with higher income as a proxy to our goal."
      ]
    },
    {
      "cell_type": "code",
      "metadata": {
        "id": "3NMAO7Q7TuWn"
      },
      "source": [
        "brown_proportion_income_list, black_proportion_income_list = get_bootstrap_means(df.query('SKIN_COLOR==\"Brown\"')['AVERAGE_INCOME_MORE_2WAGES'], df.query('SKIN_COLOR==\"Black\"')['AVERAGE_INCOME_MORE_2WAGES'])"
      ],
      "execution_count": 36,
      "outputs": []
    },
    {
      "cell_type": "code",
      "metadata": {
        "colab": {
          "base_uri": "https://localhost:8080/",
          "height": 265
        },
        "id": "CMfRMcwxTuWo",
        "outputId": "4fbc2010-8a33-45ff-91ac-800bae71c99b"
      },
      "source": [
        "brown_proportion_income_list.plot(kind='hist', alpha=.2, label=\"Brown\")\r\n",
        "black_proportion_income_list.plot(kind='hist', alpha=.2, label=\"Black\")\r\n",
        "plt.legend()\r\n",
        "plt.show()"
      ],
      "execution_count": 37,
      "outputs": [
        {
          "output_type": "display_data",
          "data": {
            "image/png": "[encoded data removed]",
            "text/plain": [
              "<Figure size 432x288 with 1 Axes>"
            ]
          },
          "metadata": {
            "tags": [],
            "needs_background": "light"
          }
        }
      ]
    },
    {
      "cell_type": "markdown",
      "metadata": {
        "id": "TWg3wSo_TuWo"
      },
      "source": [
        "Let's calculate the p-value and the 'bootstrap equivalent' t-statistic for our hypothesis."
      ]
    },
    {
      "cell_type": "code",
      "metadata": {
        "colab": {
          "base_uri": "https://localhost:8080/"
        },
        "id": "pbRxfB0_TuWp",
        "outputId": "d4a6d444-ff12-4483-e275-31c8434437a0"
      },
      "source": [
        "# compute the probability of h0\r\n",
        "pvalue_boot = (brown_proportion_income_list <= black_proportion_income_list).mean()\r\n",
        "\r\n",
        "# Compute the bootstrap equivalent for the t-statistic\r\n",
        "diff = brown_proportion_income_list-black_proportion_income_list\r\n",
        "statistic_boot = (diff.mean())/diff.std()\r\n",
        "\r\n",
        "statistic_boot, pvalue_boot"
      ],
      "execution_count": 38,
      "outputs": [
        {
          "output_type": "execute_result",
          "data": {
            "text/plain": [
              "(0.9046787163891528, 0.184)"
            ]
          },
          "metadata": {
            "tags": []
          },
          "execution_count": 38
        }
      ]
    },
    {
      "cell_type": "code",
      "metadata": {
        "colab": {
          "base_uri": "https://localhost:8080/"
        },
        "id": "G6pOXNNZU1U6",
        "outputId": "9af1e199-753a-4b5a-d7ad-ccddc356e9b5"
      },
      "source": [
        "# Compare the p_value to the significance level\r\n",
        "if (pvalue_boot < alpha):\r\n",
        "  print(\"Reject the Null Hypothesis.\")\r\n",
        "else:\r\n",
        "  print(\"Fail to Reject the Null Hypothesis.\")"
      ],
      "execution_count": 39,
      "outputs": [
        {
          "output_type": "stream",
          "text": [
            "Fail to Reject the Null Hypothesis.\n"
          ],
          "name": "stdout"
        }
      ]
    },
    {
      "cell_type": "markdown",
      "metadata": {
        "id": "dxIrK-2uVI3N"
      },
      "source": [
        "**At the significance level of 0.05, we don't have evidence to reject the null hypothesis. The proportion of brazilian students with a family monthly income of more than two minimum wages is not higher for those declared as brown than for black.**"
      ]
    },
    {
      "cell_type": "markdown",
      "metadata": {
        "id": "vRVkJj6dTbyZ"
      },
      "source": [
        "### 4.5 - Do brazilian female students have higher essay average scores than male students?\r\n",
        "\r\n",
        "To answer this question, we're going to perform the following hypothesis test:"
      ]
    },
    {
      "cell_type": "markdown",
      "metadata": {
        "id": "l9mH9XUr-utt"
      },
      "source": [
        "$$H_0: \\mu_{score\\_female} \\le \\mu_{score\\_male}$$"
      ]
    },
    {
      "cell_type": "markdown",
      "metadata": {
        "id": "e6Fuwlks-yDV"
      },
      "source": [
        "$$H_1: \\mu_{score\\_female} \\gt \\mu_{score\\_male}$$"
      ]
    },
    {
      "cell_type": "markdown",
      "metadata": {
        "id": "2w47XwKxayDr"
      },
      "source": [
        "Again, we're going to generate 10.000 bootstrap means for each group, and use that to empirically create the sample distribution for the mean."
      ]
    },
    {
      "cell_type": "code",
      "metadata": {
        "id": "f8gibCm7T3S8"
      },
      "source": [
        "female_mean_score_list, male_mean_score_list = get_bootstrap_means(df.query('GENDER==\"Female\"')['GRADE_ESSAY'], df.query('GENDER==\"Male\"')['GRADE_ESSAY'])"
      ],
      "execution_count": 40,
      "outputs": []
    },
    {
      "cell_type": "code",
      "metadata": {
        "colab": {
          "base_uri": "https://localhost:8080/",
          "height": 265
        },
        "id": "cNcJsT_NUJrd",
        "outputId": "6c4c4301-c24c-4825-ca9f-a80684f6b8a3"
      },
      "source": [
        "male_mean_score_list.plot(kind='hist', alpha=.2, label=\"Male\")\r\n",
        "female_mean_score_list.plot(kind='hist', alpha=.2, label=\"Female\")\r\n",
        "plt.legend()\r\n",
        "plt.show()"
      ],
      "execution_count": 41,
      "outputs": [
        {
          "output_type": "display_data",
          "data": {
            "image/png": "[encoded data removed]",
            "text/plain": [
              "<Figure size 432x288 with 1 Axes>"
            ]
          },
          "metadata": {
            "tags": [],
            "needs_background": "light"
          }
        }
      ]
    },
    {
      "cell_type": "markdown",
      "metadata": {
        "id": "ZaFvKyykoA_S"
      },
      "source": [
        "Let's calculate the p-value and the 'bootstrap equivalent' t-statistic for our hypothesis."
      ]
    },
    {
      "cell_type": "code",
      "metadata": {
        "colab": {
          "base_uri": "https://localhost:8080/"
        },
        "id": "9ajJmMa5YBo-",
        "outputId": "60607e4e-0d78-4d5f-b03e-4f363e797a80"
      },
      "source": [
        "# compute the probability of h0\r\n",
        "pvalue_boot = (female_mean_score_list <= male_mean_score_list).mean()\r\n",
        "\r\n",
        "# compute the bootstrap equivalent for the t-statistic\r\n",
        "diff = female_mean_score_list-male_mean_score_list\r\n",
        "statistic_boot = (diff.mean())/diff.std()\r\n",
        "\r\n",
        "statistic_boot, pvalue_boot"
      ],
      "execution_count": 42,
      "outputs": [
        {
          "output_type": "execute_result",
          "data": {
            "text/plain": [
              "(2.024188724994275, 0.02)"
            ]
          },
          "metadata": {
            "tags": []
          },
          "execution_count": 42
        }
      ]
    },
    {
      "cell_type": "code",
      "metadata": {
        "colab": {
          "base_uri": "https://localhost:8080/"
        },
        "id": "kS01yliTcGhL",
        "outputId": "9a51516a-e103-419c-9b0d-a0883252ba27"
      },
      "source": [
        "# Compare the p_value to the significance level\r\n",
        "if (pvalue_boot < alpha):\r\n",
        "  print(\"Reject the Null Hypothesis.\")\r\n",
        "else:\r\n",
        "  print(\"Fail to Reject the Null Hypothesis.\")"
      ],
      "execution_count": 43,
      "outputs": [
        {
          "output_type": "stream",
          "text": [
            "Reject the Null Hypothesis.\n"
          ],
          "name": "stdout"
        }
      ]
    },
    {
      "cell_type": "markdown",
      "metadata": {
        "id": "biyL1vWFWzzr"
      },
      "source": [
        "**At the significance level of 0.05, we have evidence to reject the null hypothesis in favor of the alternative. Brazilian female students have higher essay average scores than male students.**"
      ]
    },
    {
      "cell_type": "markdown",
      "metadata": {
        "id": "dxmm3ccQVisG"
      },
      "source": [
        "### 4.6 - Do brazilian students who chose 'english' as a foreign language have higher language average scores than those who chose 'spanish'?\r\n",
        "\r\n",
        "To answer this question, we're going to perform the following hypothesis test:"
      ]
    },
    {
      "cell_type": "markdown",
      "metadata": {
        "id": "eyFo_yrS-Zuf"
      },
      "source": [
        "$$H_0: \\mu_{score\\_english} \\le \\mu_{score\\_spanish}$$"
      ]
    },
    {
      "cell_type": "markdown",
      "metadata": {
        "id": "xCAtDz0e-bgA"
      },
      "source": [
        "$$H_1: \\mu_{score\\_english} \\gt \\mu_{score\\_spanish}$$"
      ]
    },
    {
      "cell_type": "code",
      "metadata": {
        "id": "0jKzngRoV9ab"
      },
      "source": [
        "english_mean_score_list, spanish_mean_score_list = get_bootstrap_means(df.query('FOREIGN_LANGUAGE==\"English\"')['GRADE_LANGUAGE_SCIENCES'], df.query('FOREIGN_LANGUAGE==\"Spanish\"')['GRADE_LANGUAGE_SCIENCES'])"
      ],
      "execution_count": 44,
      "outputs": []
    },
    {
      "cell_type": "code",
      "metadata": {
        "colab": {
          "base_uri": "https://localhost:8080/",
          "height": 265
        },
        "id": "TBLxKN9fWKYd",
        "outputId": "61292bc4-cc93-41ae-e94a-d8ec92c0fcd4"
      },
      "source": [
        "english_mean_score_list.plot(kind='hist', alpha=.2, label=\"English\")\r\n",
        "spanish_mean_score_list.plot(kind='hist', alpha=.2, label=\"Spanish\")\r\n",
        "plt.legend()\r\n",
        "plt.show()"
      ],
      "execution_count": 45,
      "outputs": [
        {
          "output_type": "display_data",
          "data": {
            "image/png": "[encoded data removed]",
            "text/plain": [
              "<Figure size 432x288 with 1 Axes>"
            ]
          },
          "metadata": {
            "tags": [],
            "needs_background": "light"
          }
        }
      ]
    },
    {
      "cell_type": "markdown",
      "metadata": {
        "id": "8koOloT5oOKD"
      },
      "source": [
        "Let's calculate the p-value and the 'bootstrap equivalent' t-statistic for our hypothesis."
      ]
    },
    {
      "cell_type": "code",
      "metadata": {
        "colab": {
          "base_uri": "https://localhost:8080/"
        },
        "id": "49h6MlTzoOKI",
        "outputId": "23000481-c018-4ad4-ed67-0a9295d69533"
      },
      "source": [
        "# compute the probability of h0\r\n",
        "pvalue_boot = (english_mean_score_list <= spanish_mean_score_list).mean()\r\n",
        "\r\n",
        "# compute the bootstrap equivalent for the t-statistic\r\n",
        "diff = english_mean_score_list-spanish_mean_score_list\r\n",
        "statistic_boot = (diff.mean())/diff.std()\r\n",
        "\r\n",
        "statistic_boot, pvalue_boot"
      ],
      "execution_count": 46,
      "outputs": [
        {
          "output_type": "execute_result",
          "data": {
            "text/plain": [
              "(15.8359066968709, 0.0)"
            ]
          },
          "metadata": {
            "tags": []
          },
          "execution_count": 46
        }
      ]
    },
    {
      "cell_type": "code",
      "metadata": {
        "colab": {
          "base_uri": "https://localhost:8080/"
        },
        "id": "XBay7IZWU8_l",
        "outputId": "ae167066-a5dc-4971-f5f8-d7b076c15a70"
      },
      "source": [
        "# Compare the p_value to the significance level\r\n",
        "if (pvalue_boot < alpha):\r\n",
        "  print(\"Reject the Null Hypothesis.\")\r\n",
        "else:\r\n",
        "  print(\"Fail to Reject the Null Hypothesis.\")"
      ],
      "execution_count": 47,
      "outputs": [
        {
          "output_type": "stream",
          "text": [
            "Reject the Null Hypothesis.\n"
          ],
          "name": "stdout"
        }
      ]
    },
    {
      "cell_type": "markdown",
      "metadata": {
        "id": "wTAKQCrzU_Pe"
      },
      "source": [
        "**At the significance level of 0.05, we have evidence to reject the null hypothesis in favor of the alternative. Brazilian students who pick english as their prefered foreing language have higher language average scores than those who pick spanish.**"
      ]
    },
    {
      "cell_type": "markdown",
      "metadata": {
        "id": "uZxZma3wBGqO"
      },
      "source": [
        "## 5. Two Sample T-Test Hypothesis Tests"
      ]
    },
    {
      "cell_type": "markdown",
      "metadata": {
        "id": "T_GKodJIBWGn"
      },
      "source": [
        "Just for future reference, let's test the same above hypothesis using the \"standard two sample t-test approach\", and see how these results compare to the bootstrap ones."
      ]
    },
    {
      "cell_type": "code",
      "metadata": {
        "id": "XsUrgCLIISNt"
      },
      "source": [
        "def perform_one_sided_two_sample_ttest(group1, group2):\r\n",
        "\r\n",
        "    # performe the levene test to check if the variances are statistically equal or not,\r\n",
        "    _, pvalue_levene = stats.levene(group1, group2)\r\n",
        "\r\n",
        "    # use levene's result to decide if the variances are equal or not \r\n",
        "    levene_result = pvalue_levene < alpha\r\n",
        "\r\n",
        "    # use scipy.stats to perform a \"two-sample t-test\"\r\n",
        "    statistic_ttest, pvalue_ttest = stats.ttest_ind(group1, group2, equal_var=levene_result)\r\n",
        "\r\n",
        "    # divide the p-value by 2, bcs we're interested in only one side of the t-distribution curve\r\n",
        "    pvalue_ttest /= 2\r\n",
        "\r\n",
        "    # compare the p_value to the significance level\r\n",
        "    if (pvalue_ttest < alpha):\r\n",
        "      print(\"Reject the Null Hypothesis.\")\r\n",
        "    else:\r\n",
        "      print(\"Fail to Reject the Null Hypothesis.\")\r\n",
        "\r\n",
        "    # return the ttest statistic, and pvalue\r\n",
        "    return statistic_ttest, pvalue_ttest"
      ],
      "execution_count": 48,
      "outputs": []
    },
    {
      "cell_type": "markdown",
      "metadata": {
        "id": "n7LOLZCCDliQ"
      },
      "source": [
        "### 5.1. Do brazilian students declared themselves as white skinned have higher average scores than those self declared as brown skinned?"
      ]
    },
    {
      "cell_type": "markdown",
      "metadata": {
        "id": "bGzejg5NDILy"
      },
      "source": [
        "$$ H_0 : \\mu_{score\\_white} \\le \\mu_{score\\_brown} $$"
      ]
    },
    {
      "cell_type": "markdown",
      "metadata": {
        "id": "G059pp6zDILz"
      },
      "source": [
        "$$ H_1 : \\mu_{score\\_white} \\gt \\mu_{score\\_brown} $$"
      ]
    },
    {
      "cell_type": "code",
      "metadata": {
        "colab": {
          "base_uri": "https://localhost:8080/"
        },
        "id": "DfPuJBOvCq_i",
        "outputId": "6166d73b-cc51-4171-d3e6-8d8bcd95d835"
      },
      "source": [
        "# use scipy.stats to perform a \"two-sample t-test\"\r\n",
        "statistic_ttest, pvalue_ttest = perform_one_sided_two_sample_ttest(df.query('SKIN_COLOR==\"White\"')['TOTAL_SCORE'], df.query('SKIN_COLOR==\"Brown\"')['TOTAL_SCORE'])"
      ],
      "execution_count": 49,
      "outputs": [
        {
          "output_type": "stream",
          "text": [
            "Reject the Null Hypothesis.\n"
          ],
          "name": "stdout"
        }
      ]
    },
    {
      "cell_type": "markdown",
      "metadata": {
        "id": "c-OYpfjpD0iu"
      },
      "source": [
        "###5.2. Do brazilian students declared themselves as white skinned have higher average family income than those self declared as brown skinned?"
      ]
    },
    {
      "cell_type": "markdown",
      "metadata": {
        "id": "_da4y1jFpSYj"
      },
      "source": [
        "$$ H_0 : p_{income\\_white} \\le p_{income\\_brown} $$"
      ]
    },
    {
      "cell_type": "markdown",
      "metadata": {
        "id": "nGlb4pVdpSYk"
      },
      "source": [
        "$$ H_1 : p_{income\\_white} \\gt p_{income\\_brown} $$"
      ]
    },
    {
      "cell_type": "code",
      "metadata": {
        "colab": {
          "base_uri": "https://localhost:8080/"
        },
        "id": "epvuCs0LD_Cl",
        "outputId": "20dc9898-c73d-4777-e540-2ec3c1db6ab4"
      },
      "source": [
        "statistic_ttest, pvalue_ttest = perform_one_sided_two_sample_ttest(df.query('SKIN_COLOR==\"White\"')['AVERAGE_INCOME_MORE_2WAGES'], df.query('SKIN_COLOR==\"Brown\"')['AVERAGE_INCOME_MORE_2WAGES'])\r\n",
        "statistic_ttest, pvalue_ttest"
      ],
      "execution_count": 50,
      "outputs": [
        {
          "output_type": "stream",
          "text": [
            "Reject the Null Hypothesis.\n"
          ],
          "name": "stdout"
        },
        {
          "output_type": "execute_result",
          "data": {
            "text/plain": [
              "(14.528453542017967, 1.3479047924500338e-46)"
            ]
          },
          "metadata": {
            "tags": []
          },
          "execution_count": 50
        }
      ]
    },
    {
      "cell_type": "markdown",
      "metadata": {
        "id": "ONfN5OEOEisC"
      },
      "source": [
        "### 5.3 - Do brazilian students declared themselves as brown skinned have higher average scores than those self declared as black?"
      ]
    },
    {
      "cell_type": "markdown",
      "metadata": {
        "id": "kSRHlDMro3At"
      },
      "source": [
        "$$H_0: \\mu_{score\\_brown} \\le \\mu_{score\\_black}$$"
      ]
    },
    {
      "cell_type": "markdown",
      "metadata": {
        "id": "f3X-UKvjo3At"
      },
      "source": [
        "$$H_1: \\mu_{score\\_brown} \\gt \\mu_{score\\_black}$$"
      ]
    },
    {
      "cell_type": "code",
      "metadata": {
        "colab": {
          "base_uri": "https://localhost:8080/"
        },
        "id": "aRXzsXsSEmHo",
        "outputId": "03f99452-4d86-4cd3-98d5-c6b405566a15"
      },
      "source": [
        "statistic_ttest, pvalue_ttest = perform_one_sided_two_sample_ttest(df.query('SKIN_COLOR==\"Brown\"')['TOTAL_SCORE'], df.query('SKIN_COLOR==\"Black\"')['TOTAL_SCORE'])\r\n",
        "statistic_ttest, pvalue_ttest"
      ],
      "execution_count": 51,
      "outputs": [
        {
          "output_type": "stream",
          "text": [
            "Fail to Reject the Null Hypothesis.\n"
          ],
          "name": "stdout"
        },
        {
          "output_type": "execute_result",
          "data": {
            "text/plain": [
              "(0.13423711617073125, 0.4466250138064702)"
            ]
          },
          "metadata": {
            "tags": []
          },
          "execution_count": 51
        }
      ]
    },
    {
      "cell_type": "markdown",
      "metadata": {
        "id": "ojpaXuOvEvJY"
      },
      "source": [
        "### 5.4 - Do brazilian students declared themselves as brown skinned have higher average family income than those self declared as black?"
      ]
    },
    {
      "cell_type": "markdown",
      "metadata": {
        "id": "9faakl_Vox2c"
      },
      "source": [
        "$$ H_0 : p_{income\\_brown} \\le p_{income\\_black} $$"
      ]
    },
    {
      "cell_type": "markdown",
      "metadata": {
        "id": "IscmEWMKox2e"
      },
      "source": [
        "$$ H_1 : p_{income\\_brown} \\gt p_{income\\__black} $$"
      ]
    },
    {
      "cell_type": "code",
      "metadata": {
        "colab": {
          "base_uri": "https://localhost:8080/"
        },
        "id": "e-WZg6pzExd4",
        "outputId": "1b4fbe65-01b5-42fc-bd3e-97957d69005b"
      },
      "source": [
        "statistic_ttest, pvalue_ttest = perform_one_sided_two_sample_ttest(df.query('SKIN_COLOR==\"Brown\"')['AVERAGE_INCOME_MORE_2WAGES'], df.query('SKIN_COLOR==\"Black\"')['AVERAGE_INCOME_MORE_2WAGES'])\r\n",
        "statistic_ttest, pvalue_ttest"
      ],
      "execution_count": 52,
      "outputs": [
        {
          "output_type": "stream",
          "text": [
            "Fail to Reject the Null Hypothesis.\n"
          ],
          "name": "stdout"
        },
        {
          "output_type": "execute_result",
          "data": {
            "text/plain": [
              "(0.9194592959107435, 0.17907512956341476)"
            ]
          },
          "metadata": {
            "tags": []
          },
          "execution_count": 52
        }
      ]
    },
    {
      "cell_type": "markdown",
      "metadata": {
        "id": "cCMhZnD9FACo"
      },
      "source": [
        "### 5.5 - Do brazilian female students have higher essay average scores than male students?"
      ]
    },
    {
      "cell_type": "markdown",
      "metadata": {
        "id": "6FgYsqQjFlgC"
      },
      "source": [
        "$$H_0: \\mu_{score\\_female} \\le \\mu_{score\\_male}$$"
      ]
    },
    {
      "cell_type": "markdown",
      "metadata": {
        "id": "JQcs_peyFlgD"
      },
      "source": [
        "$$H_1: \\mu_{score\\_female} \\gt \\mu_{score\\_male}$$"
      ]
    },
    {
      "cell_type": "code",
      "metadata": {
        "colab": {
          "base_uri": "https://localhost:8080/"
        },
        "id": "xWKUT2SyFBKQ",
        "outputId": "e59707fb-c997-4072-e91f-ac803f3d0139"
      },
      "source": [
        "statistic_ttest, pvalue_ttest = perform_one_sided_two_sample_ttest(df.query('GENDER==\"Female\"')['GRADE_ESSAY'], df.query('GENDER==\"Male\"')['GRADE_ESSAY'])\r\n",
        "\r\n",
        "statistic_ttest, pvalue_ttest"
      ],
      "execution_count": 53,
      "outputs": [
        {
          "output_type": "stream",
          "text": [
            "Reject the Null Hypothesis.\n"
          ],
          "name": "stdout"
        },
        {
          "output_type": "execute_result",
          "data": {
            "text/plain": [
              "(1.9839730332139998, 0.023671027785392786)"
            ]
          },
          "metadata": {
            "tags": []
          },
          "execution_count": 53
        }
      ]
    },
    {
      "cell_type": "markdown",
      "metadata": {
        "id": "C25J35tmFPkR"
      },
      "source": [
        "### 5.6 - Do brazilian students who chose 'english' as a foreign language have higher language average scores than those who chose 'spanish'?"
      ]
    },
    {
      "cell_type": "markdown",
      "metadata": {
        "id": "X6ku-sboFhOh"
      },
      "source": [
        "$$H_0: \\mu_{score\\_english} \\le \\mu_{score\\_spanish}$$"
      ]
    },
    {
      "cell_type": "markdown",
      "metadata": {
        "id": "jCdehaFoFhOi"
      },
      "source": [
        "$$H_1: \\mu_{score\\_english} \\gt \\mu_{score\\_spanish}$$"
      ]
    },
    {
      "cell_type": "code",
      "metadata": {
        "colab": {
          "base_uri": "https://localhost:8080/"
        },
        "id": "d8B8631KFRBy",
        "outputId": "a084dcfd-5d7d-4d76-f047-101e5914d328"
      },
      "source": [
        "statistic_ttest, pvalue_ttest = perform_one_sided_two_sample_ttest(df.query('FOREIGN_LANGUAGE==\"English\"')['GRADE_LANGUAGE_SCIENCES'], df.query('FOREIGN_LANGUAGE==\"Spanish\"')['GRADE_LANGUAGE_SCIENCES'])\r\n",
        "\r\n",
        "statistic_ttest, pvalue_ttest"
      ],
      "execution_count": 54,
      "outputs": [
        {
          "output_type": "stream",
          "text": [
            "Reject the Null Hypothesis.\n"
          ],
          "name": "stdout"
        },
        {
          "output_type": "execute_result",
          "data": {
            "text/plain": [
              "(15.965680380827736, 7.846215866952976e-56)"
            ]
          },
          "metadata": {
            "tags": []
          },
          "execution_count": 54
        }
      ]
    },
    {
      "cell_type": "markdown",
      "metadata": {
        "id": "q-UK5nttvHjL"
      },
      "source": [
        "## 6. Conclusions"
      ]
    },
    {
      "cell_type": "markdown",
      "metadata": {
        "id": "LWI3_eyxvLq1"
      },
      "source": [
        "At the significance level of 0.05, we have evidence to conclude that:\r\n",
        "\r\n",
        "1. Brazilian students self declared as white skinned have higher average scores than those with brown skin.\r\n",
        "2. The proportion of brazilian students with a family monthly income of more than two minimum wages is higher for those declared as white than for brown skin.\r\n",
        "3. Brazilian students self declared as brown skinned don't have higher average scores than those self declared as black.\r\n",
        "4. The proportion of brazilian students with a family monthly income of more than two minimum wages is not higher for those declared as brown than for black.\r\n",
        "5. Brazilian female students have higher essay average scores than male students.\r\n",
        "6. Brazilian students who pick english as their prefered foreing language have higher language average scores than those who pick spanish."
      ]
    }
  ]
}